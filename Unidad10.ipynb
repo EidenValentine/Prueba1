{
  "nbformat": 4,
  "nbformat_minor": 0,
  "metadata": {
    "colab": {
      "provenance": [],
      "authorship_tag": "ABX9TyPi40UHJeKOoVIonlKohHCL",
      "include_colab_link": true
    },
    "kernelspec": {
      "name": "python3",
      "display_name": "Python 3"
    },
    "language_info": {
      "name": "python"
    }
  },
  "cells": [
    {
      "cell_type": "markdown",
      "metadata": {
        "id": "view-in-github",
        "colab_type": "text"
      },
      "source": [
        "<a href=\"https://colab.research.google.com/github/EidenValentine/Prueba1/blob/main/Unidad10.ipynb\" target=\"_parent\"><img src=\"https://colab.research.google.com/assets/colab-badge.svg\" alt=\"Open In Colab\"/></a>"
      ]
    },
    {
      "cell_type": "markdown",
      "source": [
        "# Unidad 10.\n",
        "Trabajo de analisis de datos financioeros del peso colombiano."
      ],
      "metadata": {
        "id": "e0hCYcBCk3ng"
      }
    },
    {
      "cell_type": "markdown",
      "source": [
        "Cargue y visualización de datos\n"
      ],
      "metadata": {
        "id": "MHJNZfRLciOP"
      }
    },
    {
      "cell_type": "markdown",
      "source": [
        "##1. Cargar el dataset disponible en https://www.datos.gov.co/Econom-a-y-Finanzas/Tasa-de-Cambio-Representativa-del-Mercado-TRM/32sa-8pi3/explore\n"
      ],
      "metadata": {
        "id": "zNb5qIjb3Ise"
      }
    },
    {
      "cell_type": "code",
      "source": [
        "import pandas as pd\n",
        "import numpy as np\n",
        "import statsmodels.api as sm \n",
        "import matplotlib.pyplot as plt\n",
        "import seaborn as sns\n",
        "import plotly.express as px"
      ],
      "metadata": {
        "id": "jol-1K0VCBGa"
      },
      "execution_count": 9,
      "outputs": []
    },
    {
      "cell_type": "code",
      "source": [
        "df_1= pd.read_csv('/content/Tasa_de_Cambio_Representativa_del_Mercado-_TRM.csv')\n",
        "df_1.head()"
      ],
      "metadata": {
        "colab": {
          "base_uri": "https://localhost:8080/",
          "height": 206
        },
        "id": "8frDjP20Gd_C",
        "outputId": "04fa749d-367c-4589-a44d-52f4f753a963"
      },
      "execution_count": 11,
      "outputs": [
        {
          "output_type": "execute_result",
          "data": {
            "text/plain": [
              "     VALOR UNIDAD VIGENCIADESDE VIGENCIAHASTA\n",
              "0  4761.64    COP    22/12/2022    22/12/2022\n",
              "1  4781.28    COP    20/12/2022    20/12/2022\n",
              "2  4802.48    COP    17/12/2022    19/12/2022\n",
              "3  4836.24    COP    13/12/2022    13/12/2022\n",
              "4  4815.99    COP    10/12/2022    12/12/2022"
            ],
            "text/html": [
              "\n",
              "  <div id=\"df-c2bc9005-f129-4a20-bfe3-e13f5d127a68\">\n",
              "    <div class=\"colab-df-container\">\n",
              "      <div>\n",
              "<style scoped>\n",
              "    .dataframe tbody tr th:only-of-type {\n",
              "        vertical-align: middle;\n",
              "    }\n",
              "\n",
              "    .dataframe tbody tr th {\n",
              "        vertical-align: top;\n",
              "    }\n",
              "\n",
              "    .dataframe thead th {\n",
              "        text-align: right;\n",
              "    }\n",
              "</style>\n",
              "<table border=\"1\" class=\"dataframe\">\n",
              "  <thead>\n",
              "    <tr style=\"text-align: right;\">\n",
              "      <th></th>\n",
              "      <th>VALOR</th>\n",
              "      <th>UNIDAD</th>\n",
              "      <th>VIGENCIADESDE</th>\n",
              "      <th>VIGENCIAHASTA</th>\n",
              "    </tr>\n",
              "  </thead>\n",
              "  <tbody>\n",
              "    <tr>\n",
              "      <th>0</th>\n",
              "      <td>4761.64</td>\n",
              "      <td>COP</td>\n",
              "      <td>22/12/2022</td>\n",
              "      <td>22/12/2022</td>\n",
              "    </tr>\n",
              "    <tr>\n",
              "      <th>1</th>\n",
              "      <td>4781.28</td>\n",
              "      <td>COP</td>\n",
              "      <td>20/12/2022</td>\n",
              "      <td>20/12/2022</td>\n",
              "    </tr>\n",
              "    <tr>\n",
              "      <th>2</th>\n",
              "      <td>4802.48</td>\n",
              "      <td>COP</td>\n",
              "      <td>17/12/2022</td>\n",
              "      <td>19/12/2022</td>\n",
              "    </tr>\n",
              "    <tr>\n",
              "      <th>3</th>\n",
              "      <td>4836.24</td>\n",
              "      <td>COP</td>\n",
              "      <td>13/12/2022</td>\n",
              "      <td>13/12/2022</td>\n",
              "    </tr>\n",
              "    <tr>\n",
              "      <th>4</th>\n",
              "      <td>4815.99</td>\n",
              "      <td>COP</td>\n",
              "      <td>10/12/2022</td>\n",
              "      <td>12/12/2022</td>\n",
              "    </tr>\n",
              "  </tbody>\n",
              "</table>\n",
              "</div>\n",
              "      <button class=\"colab-df-convert\" onclick=\"convertToInteractive('df-c2bc9005-f129-4a20-bfe3-e13f5d127a68')\"\n",
              "              title=\"Convert this dataframe to an interactive table.\"\n",
              "              style=\"display:none;\">\n",
              "        \n",
              "  <svg xmlns=\"http://www.w3.org/2000/svg\" height=\"24px\"viewBox=\"0 0 24 24\"\n",
              "       width=\"24px\">\n",
              "    <path d=\"M0 0h24v24H0V0z\" fill=\"none\"/>\n",
              "    <path d=\"M18.56 5.44l.94 2.06.94-2.06 2.06-.94-2.06-.94-.94-2.06-.94 2.06-2.06.94zm-11 1L8.5 8.5l.94-2.06 2.06-.94-2.06-.94L8.5 2.5l-.94 2.06-2.06.94zm10 10l.94 2.06.94-2.06 2.06-.94-2.06-.94-.94-2.06-.94 2.06-2.06.94z\"/><path d=\"M17.41 7.96l-1.37-1.37c-.4-.4-.92-.59-1.43-.59-.52 0-1.04.2-1.43.59L10.3 9.45l-7.72 7.72c-.78.78-.78 2.05 0 2.83L4 21.41c.39.39.9.59 1.41.59.51 0 1.02-.2 1.41-.59l7.78-7.78 2.81-2.81c.8-.78.8-2.07 0-2.86zM5.41 20L4 18.59l7.72-7.72 1.47 1.35L5.41 20z\"/>\n",
              "  </svg>\n",
              "      </button>\n",
              "      \n",
              "  <style>\n",
              "    .colab-df-container {\n",
              "      display:flex;\n",
              "      flex-wrap:wrap;\n",
              "      gap: 12px;\n",
              "    }\n",
              "\n",
              "    .colab-df-convert {\n",
              "      background-color: #E8F0FE;\n",
              "      border: none;\n",
              "      border-radius: 50%;\n",
              "      cursor: pointer;\n",
              "      display: none;\n",
              "      fill: #1967D2;\n",
              "      height: 32px;\n",
              "      padding: 0 0 0 0;\n",
              "      width: 32px;\n",
              "    }\n",
              "\n",
              "    .colab-df-convert:hover {\n",
              "      background-color: #E2EBFA;\n",
              "      box-shadow: 0px 1px 2px rgba(60, 64, 67, 0.3), 0px 1px 3px 1px rgba(60, 64, 67, 0.15);\n",
              "      fill: #174EA6;\n",
              "    }\n",
              "\n",
              "    [theme=dark] .colab-df-convert {\n",
              "      background-color: #3B4455;\n",
              "      fill: #D2E3FC;\n",
              "    }\n",
              "\n",
              "    [theme=dark] .colab-df-convert:hover {\n",
              "      background-color: #434B5C;\n",
              "      box-shadow: 0px 1px 3px 1px rgba(0, 0, 0, 0.15);\n",
              "      filter: drop-shadow(0px 1px 2px rgba(0, 0, 0, 0.3));\n",
              "      fill: #FFFFFF;\n",
              "    }\n",
              "  </style>\n",
              "\n",
              "      <script>\n",
              "        const buttonEl =\n",
              "          document.querySelector('#df-c2bc9005-f129-4a20-bfe3-e13f5d127a68 button.colab-df-convert');\n",
              "        buttonEl.style.display =\n",
              "          google.colab.kernel.accessAllowed ? 'block' : 'none';\n",
              "\n",
              "        async function convertToInteractive(key) {\n",
              "          const element = document.querySelector('#df-c2bc9005-f129-4a20-bfe3-e13f5d127a68');\n",
              "          const dataTable =\n",
              "            await google.colab.kernel.invokeFunction('convertToInteractive',\n",
              "                                                     [key], {});\n",
              "          if (!dataTable) return;\n",
              "\n",
              "          const docLinkHtml = 'Like what you see? Visit the ' +\n",
              "            '<a target=\"_blank\" href=https://colab.research.google.com/notebooks/data_table.ipynb>data table notebook</a>'\n",
              "            + ' to learn more about interactive tables.';\n",
              "          element.innerHTML = '';\n",
              "          dataTable['output_type'] = 'display_data';\n",
              "          await google.colab.output.renderOutput(dataTable, element);\n",
              "          const docLink = document.createElement('div');\n",
              "          docLink.innerHTML = docLinkHtml;\n",
              "          element.appendChild(docLink);\n",
              "        }\n",
              "      </script>\n",
              "    </div>\n",
              "  </div>\n",
              "  "
            ]
          },
          "metadata": {},
          "execution_count": 11
        }
      ]
    },
    {
      "cell_type": "code",
      "source": [
        "df_1.info()"
      ],
      "metadata": {
        "colab": {
          "base_uri": "https://localhost:8080/"
        },
        "id": "mEYUBFCXhhjb",
        "outputId": "ff3f5c44-8e0f-4485-bbad-5cad2ce4ba4a"
      },
      "execution_count": 12,
      "outputs": [
        {
          "output_type": "stream",
          "name": "stdout",
          "text": [
            "<class 'pandas.core.frame.DataFrame'>\n",
            "RangeIndex: 7570 entries, 0 to 7569\n",
            "Data columns (total 4 columns):\n",
            " #   Column         Non-Null Count  Dtype  \n",
            "---  ------         --------------  -----  \n",
            " 0   VALOR          7570 non-null   float64\n",
            " 1   UNIDAD         7570 non-null   object \n",
            " 2   VIGENCIADESDE  7570 non-null   object \n",
            " 3   VIGENCIAHASTA  7570 non-null   object \n",
            "dtypes: float64(1), object(3)\n",
            "memory usage: 236.7+ KB\n"
          ]
        }
      ]
    },
    {
      "cell_type": "code",
      "source": [
        "tipo_datos_fecha = df_1['VIGENCIADESDE'].dtype\n",
        "print(\"Tipo de datos de la columna VIGENCIADESDE: \", tipo_datos_fecha)"
      ],
      "metadata": {
        "colab": {
          "base_uri": "https://localhost:8080/"
        },
        "id": "_5QNjQQqlpMM",
        "outputId": "56f51796-7ab8-4981-a9a3-8f12063939fd"
      },
      "execution_count": 13,
      "outputs": [
        {
          "output_type": "stream",
          "name": "stdout",
          "text": [
            "Tipo de datos de la columna VIGENCIADESDE:  object\n"
          ]
        }
      ]
    },
    {
      "cell_type": "code",
      "source": [
        "tipo_datos_fecha = df_1['VIGENCIAHASTA'].dtype\n",
        "print(\"Tipo de datos de la columna VIGENCIAHASTA: \", tipo_datos_fecha)"
      ],
      "metadata": {
        "colab": {
          "base_uri": "https://localhost:8080/"
        },
        "id": "ad49bwkel1CE",
        "outputId": "7f7dbcca-0b4c-4aaf-8765-a5097cb57300"
      },
      "execution_count": 14,
      "outputs": [
        {
          "output_type": "stream",
          "name": "stdout",
          "text": [
            "Tipo de datos de la columna VIGENCIAHASTA:  object\n"
          ]
        }
      ]
    },
    {
      "cell_type": "code",
      "source": [
        "df_1['VIGENCIADESDE'] = pd.to_datetime(df_1['VIGENCIADESDE'])"
      ],
      "metadata": {
        "id": "hdqCEO3fl5P_",
        "colab": {
          "base_uri": "https://localhost:8080/"
        },
        "outputId": "aaba297c-f6ee-4ef8-d08d-0748655c5f88"
      },
      "execution_count": 10,
      "outputs": [
        {
          "output_type": "stream",
          "name": "stderr",
          "text": [
            "<ipython-input-10-6c0e568a72c8>:1: UserWarning: Parsing dates in DD/MM/YYYY format when dayfirst=False (the default) was specified. This may lead to inconsistently parsed dates! Specify a format to ensure consistent parsing.\n",
            "  df_1['VIGENCIADESDE'] = pd.to_datetime(df_1['VIGENCIADESDE'])\n"
          ]
        }
      ]
    },
    {
      "cell_type": "code",
      "source": [
        "df_1['VIGENCIAHASTA'] = pd.to_datetime(df_1['VIGENCIAHASTA'])"
      ],
      "metadata": {
        "id": "cC7HTiv5mQMm",
        "colab": {
          "base_uri": "https://localhost:8080/"
        },
        "outputId": "eec739f5-56a7-4871-c50c-c5763bdc4528"
      },
      "execution_count": 11,
      "outputs": [
        {
          "output_type": "stream",
          "name": "stderr",
          "text": [
            "<ipython-input-11-24e22dbe6354>:1: UserWarning: Parsing dates in DD/MM/YYYY format when dayfirst=False (the default) was specified. This may lead to inconsistently parsed dates! Specify a format to ensure consistent parsing.\n",
            "  df_1['VIGENCIAHASTA'] = pd.to_datetime(df_1['VIGENCIAHASTA'])\n"
          ]
        }
      ]
    },
    {
      "cell_type": "code",
      "source": [
        "fecha_minima = df_1['VIGENCIADESDE'].min()\n",
        "fecha_maxima = df_1['VIGENCIADESDE'].max()\n",
        "print(\"Fecha minima: \", fecha_minima)\n",
        "print(\"Fecha maxima: \", fecha_maxima)"
      ],
      "metadata": {
        "colab": {
          "base_uri": "https://localhost:8080/"
        },
        "id": "YnOoJrXImiWM",
        "outputId": "b6b36bae-0ed0-4018-f8e2-697f81bfffb5"
      },
      "execution_count": 12,
      "outputs": [
        {
          "output_type": "stream",
          "name": "stdout",
          "text": [
            "Fecha minima:  1991-02-12 00:00:00\n",
            "Fecha maxima:  2023-12-05 00:00:00\n"
          ]
        }
      ]
    },
    {
      "cell_type": "code",
      "source": [
        "df_1.rename(columns={'VIGENCIADESDE': 'DESDE'}, inplace=True)\n",
        "df_1.rename(columns={'VIGENCIAHASTA': 'HASTA'}, inplace=True)"
      ],
      "metadata": {
        "id": "cy_SYHIvnO0D"
      },
      "execution_count": 13,
      "outputs": []
    },
    {
      "cell_type": "code",
      "source": [
        "df_1.info()"
      ],
      "metadata": {
        "colab": {
          "base_uri": "https://localhost:8080/"
        },
        "id": "FH7cSgHzpkZT",
        "outputId": "5651a082-0569-40c4-f806-426c84973139"
      },
      "execution_count": 14,
      "outputs": [
        {
          "output_type": "stream",
          "name": "stdout",
          "text": [
            "<class 'pandas.core.frame.DataFrame'>\n",
            "RangeIndex: 7570 entries, 0 to 7569\n",
            "Data columns (total 4 columns):\n",
            " #   Column  Non-Null Count  Dtype         \n",
            "---  ------  --------------  -----         \n",
            " 0   VALOR   7570 non-null   float64       \n",
            " 1   UNIDAD  7570 non-null   object        \n",
            " 2   DESDE   7570 non-null   datetime64[ns]\n",
            " 3   HASTA   7570 non-null   datetime64[ns]\n",
            "dtypes: datetime64[ns](2), float64(1), object(1)\n",
            "memory usage: 236.7+ KB\n"
          ]
        }
      ]
    },
    {
      "cell_type": "code",
      "source": [
        "df_1['Diferencia Porcentual'] = ((df_1['VALOR'] - df_1['VALOR'].shift(1)) / df_1['VALOR'].shift(1)) * 100"
      ],
      "metadata": {
        "id": "jY3QLYz30HsZ"
      },
      "execution_count": 15,
      "outputs": []
    },
    {
      "cell_type": "code",
      "source": [
        "df_1.head()"
      ],
      "metadata": {
        "colab": {
          "base_uri": "https://localhost:8080/",
          "height": 206
        },
        "id": "mj_QoXEa0boD",
        "outputId": "82bc94ff-c201-4692-b0e6-5dd1c4cf1448"
      },
      "execution_count": 16,
      "outputs": [
        {
          "output_type": "execute_result",
          "data": {
            "text/plain": [
              "     VALOR UNIDAD      DESDE      HASTA  Diferencia Porcentual\n",
              "0  4761.64    COP 2022-12-22 2022-12-22                    NaN\n",
              "1  4781.28    COP 2022-12-20 2022-12-20               0.412463\n",
              "2  4802.48    COP 2022-12-17 2022-12-19               0.443396\n",
              "3  4836.24    COP 2022-12-13 2022-12-13               0.702970\n",
              "4  4815.99    COP 2022-10-12 2022-12-12              -0.418714"
            ],
            "text/html": [
              "\n",
              "  <div id=\"df-3a7e5766-167c-4b0c-936a-511e60ecb7e2\">\n",
              "    <div class=\"colab-df-container\">\n",
              "      <div>\n",
              "<style scoped>\n",
              "    .dataframe tbody tr th:only-of-type {\n",
              "        vertical-align: middle;\n",
              "    }\n",
              "\n",
              "    .dataframe tbody tr th {\n",
              "        vertical-align: top;\n",
              "    }\n",
              "\n",
              "    .dataframe thead th {\n",
              "        text-align: right;\n",
              "    }\n",
              "</style>\n",
              "<table border=\"1\" class=\"dataframe\">\n",
              "  <thead>\n",
              "    <tr style=\"text-align: right;\">\n",
              "      <th></th>\n",
              "      <th>VALOR</th>\n",
              "      <th>UNIDAD</th>\n",
              "      <th>DESDE</th>\n",
              "      <th>HASTA</th>\n",
              "      <th>Diferencia Porcentual</th>\n",
              "    </tr>\n",
              "  </thead>\n",
              "  <tbody>\n",
              "    <tr>\n",
              "      <th>0</th>\n",
              "      <td>4761.64</td>\n",
              "      <td>COP</td>\n",
              "      <td>2022-12-22</td>\n",
              "      <td>2022-12-22</td>\n",
              "      <td>NaN</td>\n",
              "    </tr>\n",
              "    <tr>\n",
              "      <th>1</th>\n",
              "      <td>4781.28</td>\n",
              "      <td>COP</td>\n",
              "      <td>2022-12-20</td>\n",
              "      <td>2022-12-20</td>\n",
              "      <td>0.412463</td>\n",
              "    </tr>\n",
              "    <tr>\n",
              "      <th>2</th>\n",
              "      <td>4802.48</td>\n",
              "      <td>COP</td>\n",
              "      <td>2022-12-17</td>\n",
              "      <td>2022-12-19</td>\n",
              "      <td>0.443396</td>\n",
              "    </tr>\n",
              "    <tr>\n",
              "      <th>3</th>\n",
              "      <td>4836.24</td>\n",
              "      <td>COP</td>\n",
              "      <td>2022-12-13</td>\n",
              "      <td>2022-12-13</td>\n",
              "      <td>0.702970</td>\n",
              "    </tr>\n",
              "    <tr>\n",
              "      <th>4</th>\n",
              "      <td>4815.99</td>\n",
              "      <td>COP</td>\n",
              "      <td>2022-10-12</td>\n",
              "      <td>2022-12-12</td>\n",
              "      <td>-0.418714</td>\n",
              "    </tr>\n",
              "  </tbody>\n",
              "</table>\n",
              "</div>\n",
              "      <button class=\"colab-df-convert\" onclick=\"convertToInteractive('df-3a7e5766-167c-4b0c-936a-511e60ecb7e2')\"\n",
              "              title=\"Convert this dataframe to an interactive table.\"\n",
              "              style=\"display:none;\">\n",
              "        \n",
              "  <svg xmlns=\"http://www.w3.org/2000/svg\" height=\"24px\"viewBox=\"0 0 24 24\"\n",
              "       width=\"24px\">\n",
              "    <path d=\"M0 0h24v24H0V0z\" fill=\"none\"/>\n",
              "    <path d=\"M18.56 5.44l.94 2.06.94-2.06 2.06-.94-2.06-.94-.94-2.06-.94 2.06-2.06.94zm-11 1L8.5 8.5l.94-2.06 2.06-.94-2.06-.94L8.5 2.5l-.94 2.06-2.06.94zm10 10l.94 2.06.94-2.06 2.06-.94-2.06-.94-.94-2.06-.94 2.06-2.06.94z\"/><path d=\"M17.41 7.96l-1.37-1.37c-.4-.4-.92-.59-1.43-.59-.52 0-1.04.2-1.43.59L10.3 9.45l-7.72 7.72c-.78.78-.78 2.05 0 2.83L4 21.41c.39.39.9.59 1.41.59.51 0 1.02-.2 1.41-.59l7.78-7.78 2.81-2.81c.8-.78.8-2.07 0-2.86zM5.41 20L4 18.59l7.72-7.72 1.47 1.35L5.41 20z\"/>\n",
              "  </svg>\n",
              "      </button>\n",
              "      \n",
              "  <style>\n",
              "    .colab-df-container {\n",
              "      display:flex;\n",
              "      flex-wrap:wrap;\n",
              "      gap: 12px;\n",
              "    }\n",
              "\n",
              "    .colab-df-convert {\n",
              "      background-color: #E8F0FE;\n",
              "      border: none;\n",
              "      border-radius: 50%;\n",
              "      cursor: pointer;\n",
              "      display: none;\n",
              "      fill: #1967D2;\n",
              "      height: 32px;\n",
              "      padding: 0 0 0 0;\n",
              "      width: 32px;\n",
              "    }\n",
              "\n",
              "    .colab-df-convert:hover {\n",
              "      background-color: #E2EBFA;\n",
              "      box-shadow: 0px 1px 2px rgba(60, 64, 67, 0.3), 0px 1px 3px 1px rgba(60, 64, 67, 0.15);\n",
              "      fill: #174EA6;\n",
              "    }\n",
              "\n",
              "    [theme=dark] .colab-df-convert {\n",
              "      background-color: #3B4455;\n",
              "      fill: #D2E3FC;\n",
              "    }\n",
              "\n",
              "    [theme=dark] .colab-df-convert:hover {\n",
              "      background-color: #434B5C;\n",
              "      box-shadow: 0px 1px 3px 1px rgba(0, 0, 0, 0.15);\n",
              "      filter: drop-shadow(0px 1px 2px rgba(0, 0, 0, 0.3));\n",
              "      fill: #FFFFFF;\n",
              "    }\n",
              "  </style>\n",
              "\n",
              "      <script>\n",
              "        const buttonEl =\n",
              "          document.querySelector('#df-3a7e5766-167c-4b0c-936a-511e60ecb7e2 button.colab-df-convert');\n",
              "        buttonEl.style.display =\n",
              "          google.colab.kernel.accessAllowed ? 'block' : 'none';\n",
              "\n",
              "        async function convertToInteractive(key) {\n",
              "          const element = document.querySelector('#df-3a7e5766-167c-4b0c-936a-511e60ecb7e2');\n",
              "          const dataTable =\n",
              "            await google.colab.kernel.invokeFunction('convertToInteractive',\n",
              "                                                     [key], {});\n",
              "          if (!dataTable) return;\n",
              "\n",
              "          const docLinkHtml = 'Like what you see? Visit the ' +\n",
              "            '<a target=\"_blank\" href=https://colab.research.google.com/notebooks/data_table.ipynb>data table notebook</a>'\n",
              "            + ' to learn more about interactive tables.';\n",
              "          element.innerHTML = '';\n",
              "          dataTable['output_type'] = 'display_data';\n",
              "          await google.colab.output.renderOutput(dataTable, element);\n",
              "          const docLink = document.createElement('div');\n",
              "          docLink.innerHTML = docLinkHtml;\n",
              "          element.appendChild(docLink);\n",
              "        }\n",
              "      </script>\n",
              "    </div>\n",
              "  </div>\n",
              "  "
            ]
          },
          "metadata": {},
          "execution_count": 16
        }
      ]
    },
    {
      "cell_type": "code",
      "source": [
        "df_1.rename(columns={'Diferencia Porcentual': 'Dif_%'}, inplace=True)"
      ],
      "metadata": {
        "id": "YO4ZEV240qL6"
      },
      "execution_count": 17,
      "outputs": []
    },
    {
      "cell_type": "code",
      "source": [
        "df_1.head()"
      ],
      "metadata": {
        "colab": {
          "base_uri": "https://localhost:8080/",
          "height": 206
        },
        "id": "4JKHb5xL04bd",
        "outputId": "0fbf59d7-fb6c-4c3a-a12e-b13d947024bb"
      },
      "execution_count": 18,
      "outputs": [
        {
          "output_type": "execute_result",
          "data": {
            "text/plain": [
              "     VALOR UNIDAD      DESDE      HASTA     Dif_%\n",
              "0  4761.64    COP 2022-12-22 2022-12-22       NaN\n",
              "1  4781.28    COP 2022-12-20 2022-12-20  0.412463\n",
              "2  4802.48    COP 2022-12-17 2022-12-19  0.443396\n",
              "3  4836.24    COP 2022-12-13 2022-12-13  0.702970\n",
              "4  4815.99    COP 2022-10-12 2022-12-12 -0.418714"
            ],
            "text/html": [
              "\n",
              "  <div id=\"df-dc6b4776-7de9-4e23-adf5-1b395e31e8bf\">\n",
              "    <div class=\"colab-df-container\">\n",
              "      <div>\n",
              "<style scoped>\n",
              "    .dataframe tbody tr th:only-of-type {\n",
              "        vertical-align: middle;\n",
              "    }\n",
              "\n",
              "    .dataframe tbody tr th {\n",
              "        vertical-align: top;\n",
              "    }\n",
              "\n",
              "    .dataframe thead th {\n",
              "        text-align: right;\n",
              "    }\n",
              "</style>\n",
              "<table border=\"1\" class=\"dataframe\">\n",
              "  <thead>\n",
              "    <tr style=\"text-align: right;\">\n",
              "      <th></th>\n",
              "      <th>VALOR</th>\n",
              "      <th>UNIDAD</th>\n",
              "      <th>DESDE</th>\n",
              "      <th>HASTA</th>\n",
              "      <th>Dif_%</th>\n",
              "    </tr>\n",
              "  </thead>\n",
              "  <tbody>\n",
              "    <tr>\n",
              "      <th>0</th>\n",
              "      <td>4761.64</td>\n",
              "      <td>COP</td>\n",
              "      <td>2022-12-22</td>\n",
              "      <td>2022-12-22</td>\n",
              "      <td>NaN</td>\n",
              "    </tr>\n",
              "    <tr>\n",
              "      <th>1</th>\n",
              "      <td>4781.28</td>\n",
              "      <td>COP</td>\n",
              "      <td>2022-12-20</td>\n",
              "      <td>2022-12-20</td>\n",
              "      <td>0.412463</td>\n",
              "    </tr>\n",
              "    <tr>\n",
              "      <th>2</th>\n",
              "      <td>4802.48</td>\n",
              "      <td>COP</td>\n",
              "      <td>2022-12-17</td>\n",
              "      <td>2022-12-19</td>\n",
              "      <td>0.443396</td>\n",
              "    </tr>\n",
              "    <tr>\n",
              "      <th>3</th>\n",
              "      <td>4836.24</td>\n",
              "      <td>COP</td>\n",
              "      <td>2022-12-13</td>\n",
              "      <td>2022-12-13</td>\n",
              "      <td>0.702970</td>\n",
              "    </tr>\n",
              "    <tr>\n",
              "      <th>4</th>\n",
              "      <td>4815.99</td>\n",
              "      <td>COP</td>\n",
              "      <td>2022-10-12</td>\n",
              "      <td>2022-12-12</td>\n",
              "      <td>-0.418714</td>\n",
              "    </tr>\n",
              "  </tbody>\n",
              "</table>\n",
              "</div>\n",
              "      <button class=\"colab-df-convert\" onclick=\"convertToInteractive('df-dc6b4776-7de9-4e23-adf5-1b395e31e8bf')\"\n",
              "              title=\"Convert this dataframe to an interactive table.\"\n",
              "              style=\"display:none;\">\n",
              "        \n",
              "  <svg xmlns=\"http://www.w3.org/2000/svg\" height=\"24px\"viewBox=\"0 0 24 24\"\n",
              "       width=\"24px\">\n",
              "    <path d=\"M0 0h24v24H0V0z\" fill=\"none\"/>\n",
              "    <path d=\"M18.56 5.44l.94 2.06.94-2.06 2.06-.94-2.06-.94-.94-2.06-.94 2.06-2.06.94zm-11 1L8.5 8.5l.94-2.06 2.06-.94-2.06-.94L8.5 2.5l-.94 2.06-2.06.94zm10 10l.94 2.06.94-2.06 2.06-.94-2.06-.94-.94-2.06-.94 2.06-2.06.94z\"/><path d=\"M17.41 7.96l-1.37-1.37c-.4-.4-.92-.59-1.43-.59-.52 0-1.04.2-1.43.59L10.3 9.45l-7.72 7.72c-.78.78-.78 2.05 0 2.83L4 21.41c.39.39.9.59 1.41.59.51 0 1.02-.2 1.41-.59l7.78-7.78 2.81-2.81c.8-.78.8-2.07 0-2.86zM5.41 20L4 18.59l7.72-7.72 1.47 1.35L5.41 20z\"/>\n",
              "  </svg>\n",
              "      </button>\n",
              "      \n",
              "  <style>\n",
              "    .colab-df-container {\n",
              "      display:flex;\n",
              "      flex-wrap:wrap;\n",
              "      gap: 12px;\n",
              "    }\n",
              "\n",
              "    .colab-df-convert {\n",
              "      background-color: #E8F0FE;\n",
              "      border: none;\n",
              "      border-radius: 50%;\n",
              "      cursor: pointer;\n",
              "      display: none;\n",
              "      fill: #1967D2;\n",
              "      height: 32px;\n",
              "      padding: 0 0 0 0;\n",
              "      width: 32px;\n",
              "    }\n",
              "\n",
              "    .colab-df-convert:hover {\n",
              "      background-color: #E2EBFA;\n",
              "      box-shadow: 0px 1px 2px rgba(60, 64, 67, 0.3), 0px 1px 3px 1px rgba(60, 64, 67, 0.15);\n",
              "      fill: #174EA6;\n",
              "    }\n",
              "\n",
              "    [theme=dark] .colab-df-convert {\n",
              "      background-color: #3B4455;\n",
              "      fill: #D2E3FC;\n",
              "    }\n",
              "\n",
              "    [theme=dark] .colab-df-convert:hover {\n",
              "      background-color: #434B5C;\n",
              "      box-shadow: 0px 1px 3px 1px rgba(0, 0, 0, 0.15);\n",
              "      filter: drop-shadow(0px 1px 2px rgba(0, 0, 0, 0.3));\n",
              "      fill: #FFFFFF;\n",
              "    }\n",
              "  </style>\n",
              "\n",
              "      <script>\n",
              "        const buttonEl =\n",
              "          document.querySelector('#df-dc6b4776-7de9-4e23-adf5-1b395e31e8bf button.colab-df-convert');\n",
              "        buttonEl.style.display =\n",
              "          google.colab.kernel.accessAllowed ? 'block' : 'none';\n",
              "\n",
              "        async function convertToInteractive(key) {\n",
              "          const element = document.querySelector('#df-dc6b4776-7de9-4e23-adf5-1b395e31e8bf');\n",
              "          const dataTable =\n",
              "            await google.colab.kernel.invokeFunction('convertToInteractive',\n",
              "                                                     [key], {});\n",
              "          if (!dataTable) return;\n",
              "\n",
              "          const docLinkHtml = 'Like what you see? Visit the ' +\n",
              "            '<a target=\"_blank\" href=https://colab.research.google.com/notebooks/data_table.ipynb>data table notebook</a>'\n",
              "            + ' to learn more about interactive tables.';\n",
              "          element.innerHTML = '';\n",
              "          dataTable['output_type'] = 'display_data';\n",
              "          await google.colab.output.renderOutput(dataTable, element);\n",
              "          const docLink = document.createElement('div');\n",
              "          docLink.innerHTML = docLinkHtml;\n",
              "          element.appendChild(docLink);\n",
              "        }\n",
              "      </script>\n",
              "    </div>\n",
              "  </div>\n",
              "  "
            ]
          },
          "metadata": {},
          "execution_count": 18
        }
      ]
    },
    {
      "cell_type": "code",
      "source": [
        "df_1.isnull()"
      ],
      "metadata": {
        "colab": {
          "base_uri": "https://localhost:8080/",
          "height": 424
        },
        "id": "ZOlSz1BG1fm5",
        "outputId": "184ab4fe-a4ee-4b96-a84b-ca41551b0cda"
      },
      "execution_count": 19,
      "outputs": [
        {
          "output_type": "execute_result",
          "data": {
            "text/plain": [
              "      VALOR  UNIDAD  DESDE  HASTA  Dif_%\n",
              "0     False   False  False  False   True\n",
              "1     False   False  False  False  False\n",
              "2     False   False  False  False  False\n",
              "3     False   False  False  False  False\n",
              "4     False   False  False  False  False\n",
              "...     ...     ...    ...    ...    ...\n",
              "7565  False   False  False  False  False\n",
              "7566  False   False  False  False  False\n",
              "7567  False   False  False  False  False\n",
              "7568  False   False  False  False  False\n",
              "7569  False   False  False  False  False\n",
              "\n",
              "[7570 rows x 5 columns]"
            ],
            "text/html": [
              "\n",
              "  <div id=\"df-b76cd336-7b24-4583-a7e1-dc82e757eb29\">\n",
              "    <div class=\"colab-df-container\">\n",
              "      <div>\n",
              "<style scoped>\n",
              "    .dataframe tbody tr th:only-of-type {\n",
              "        vertical-align: middle;\n",
              "    }\n",
              "\n",
              "    .dataframe tbody tr th {\n",
              "        vertical-align: top;\n",
              "    }\n",
              "\n",
              "    .dataframe thead th {\n",
              "        text-align: right;\n",
              "    }\n",
              "</style>\n",
              "<table border=\"1\" class=\"dataframe\">\n",
              "  <thead>\n",
              "    <tr style=\"text-align: right;\">\n",
              "      <th></th>\n",
              "      <th>VALOR</th>\n",
              "      <th>UNIDAD</th>\n",
              "      <th>DESDE</th>\n",
              "      <th>HASTA</th>\n",
              "      <th>Dif_%</th>\n",
              "    </tr>\n",
              "  </thead>\n",
              "  <tbody>\n",
              "    <tr>\n",
              "      <th>0</th>\n",
              "      <td>False</td>\n",
              "      <td>False</td>\n",
              "      <td>False</td>\n",
              "      <td>False</td>\n",
              "      <td>True</td>\n",
              "    </tr>\n",
              "    <tr>\n",
              "      <th>1</th>\n",
              "      <td>False</td>\n",
              "      <td>False</td>\n",
              "      <td>False</td>\n",
              "      <td>False</td>\n",
              "      <td>False</td>\n",
              "    </tr>\n",
              "    <tr>\n",
              "      <th>2</th>\n",
              "      <td>False</td>\n",
              "      <td>False</td>\n",
              "      <td>False</td>\n",
              "      <td>False</td>\n",
              "      <td>False</td>\n",
              "    </tr>\n",
              "    <tr>\n",
              "      <th>3</th>\n",
              "      <td>False</td>\n",
              "      <td>False</td>\n",
              "      <td>False</td>\n",
              "      <td>False</td>\n",
              "      <td>False</td>\n",
              "    </tr>\n",
              "    <tr>\n",
              "      <th>4</th>\n",
              "      <td>False</td>\n",
              "      <td>False</td>\n",
              "      <td>False</td>\n",
              "      <td>False</td>\n",
              "      <td>False</td>\n",
              "    </tr>\n",
              "    <tr>\n",
              "      <th>...</th>\n",
              "      <td>...</td>\n",
              "      <td>...</td>\n",
              "      <td>...</td>\n",
              "      <td>...</td>\n",
              "      <td>...</td>\n",
              "    </tr>\n",
              "    <tr>\n",
              "      <th>7565</th>\n",
              "      <td>False</td>\n",
              "      <td>False</td>\n",
              "      <td>False</td>\n",
              "      <td>False</td>\n",
              "      <td>False</td>\n",
              "    </tr>\n",
              "    <tr>\n",
              "      <th>7566</th>\n",
              "      <td>False</td>\n",
              "      <td>False</td>\n",
              "      <td>False</td>\n",
              "      <td>False</td>\n",
              "      <td>False</td>\n",
              "    </tr>\n",
              "    <tr>\n",
              "      <th>7567</th>\n",
              "      <td>False</td>\n",
              "      <td>False</td>\n",
              "      <td>False</td>\n",
              "      <td>False</td>\n",
              "      <td>False</td>\n",
              "    </tr>\n",
              "    <tr>\n",
              "      <th>7568</th>\n",
              "      <td>False</td>\n",
              "      <td>False</td>\n",
              "      <td>False</td>\n",
              "      <td>False</td>\n",
              "      <td>False</td>\n",
              "    </tr>\n",
              "    <tr>\n",
              "      <th>7569</th>\n",
              "      <td>False</td>\n",
              "      <td>False</td>\n",
              "      <td>False</td>\n",
              "      <td>False</td>\n",
              "      <td>False</td>\n",
              "    </tr>\n",
              "  </tbody>\n",
              "</table>\n",
              "<p>7570 rows × 5 columns</p>\n",
              "</div>\n",
              "      <button class=\"colab-df-convert\" onclick=\"convertToInteractive('df-b76cd336-7b24-4583-a7e1-dc82e757eb29')\"\n",
              "              title=\"Convert this dataframe to an interactive table.\"\n",
              "              style=\"display:none;\">\n",
              "        \n",
              "  <svg xmlns=\"http://www.w3.org/2000/svg\" height=\"24px\"viewBox=\"0 0 24 24\"\n",
              "       width=\"24px\">\n",
              "    <path d=\"M0 0h24v24H0V0z\" fill=\"none\"/>\n",
              "    <path d=\"M18.56 5.44l.94 2.06.94-2.06 2.06-.94-2.06-.94-.94-2.06-.94 2.06-2.06.94zm-11 1L8.5 8.5l.94-2.06 2.06-.94-2.06-.94L8.5 2.5l-.94 2.06-2.06.94zm10 10l.94 2.06.94-2.06 2.06-.94-2.06-.94-.94-2.06-.94 2.06-2.06.94z\"/><path d=\"M17.41 7.96l-1.37-1.37c-.4-.4-.92-.59-1.43-.59-.52 0-1.04.2-1.43.59L10.3 9.45l-7.72 7.72c-.78.78-.78 2.05 0 2.83L4 21.41c.39.39.9.59 1.41.59.51 0 1.02-.2 1.41-.59l7.78-7.78 2.81-2.81c.8-.78.8-2.07 0-2.86zM5.41 20L4 18.59l7.72-7.72 1.47 1.35L5.41 20z\"/>\n",
              "  </svg>\n",
              "      </button>\n",
              "      \n",
              "  <style>\n",
              "    .colab-df-container {\n",
              "      display:flex;\n",
              "      flex-wrap:wrap;\n",
              "      gap: 12px;\n",
              "    }\n",
              "\n",
              "    .colab-df-convert {\n",
              "      background-color: #E8F0FE;\n",
              "      border: none;\n",
              "      border-radius: 50%;\n",
              "      cursor: pointer;\n",
              "      display: none;\n",
              "      fill: #1967D2;\n",
              "      height: 32px;\n",
              "      padding: 0 0 0 0;\n",
              "      width: 32px;\n",
              "    }\n",
              "\n",
              "    .colab-df-convert:hover {\n",
              "      background-color: #E2EBFA;\n",
              "      box-shadow: 0px 1px 2px rgba(60, 64, 67, 0.3), 0px 1px 3px 1px rgba(60, 64, 67, 0.15);\n",
              "      fill: #174EA6;\n",
              "    }\n",
              "\n",
              "    [theme=dark] .colab-df-convert {\n",
              "      background-color: #3B4455;\n",
              "      fill: #D2E3FC;\n",
              "    }\n",
              "\n",
              "    [theme=dark] .colab-df-convert:hover {\n",
              "      background-color: #434B5C;\n",
              "      box-shadow: 0px 1px 3px 1px rgba(0, 0, 0, 0.15);\n",
              "      filter: drop-shadow(0px 1px 2px rgba(0, 0, 0, 0.3));\n",
              "      fill: #FFFFFF;\n",
              "    }\n",
              "  </style>\n",
              "\n",
              "      <script>\n",
              "        const buttonEl =\n",
              "          document.querySelector('#df-b76cd336-7b24-4583-a7e1-dc82e757eb29 button.colab-df-convert');\n",
              "        buttonEl.style.display =\n",
              "          google.colab.kernel.accessAllowed ? 'block' : 'none';\n",
              "\n",
              "        async function convertToInteractive(key) {\n",
              "          const element = document.querySelector('#df-b76cd336-7b24-4583-a7e1-dc82e757eb29');\n",
              "          const dataTable =\n",
              "            await google.colab.kernel.invokeFunction('convertToInteractive',\n",
              "                                                     [key], {});\n",
              "          if (!dataTable) return;\n",
              "\n",
              "          const docLinkHtml = 'Like what you see? Visit the ' +\n",
              "            '<a target=\"_blank\" href=https://colab.research.google.com/notebooks/data_table.ipynb>data table notebook</a>'\n",
              "            + ' to learn more about interactive tables.';\n",
              "          element.innerHTML = '';\n",
              "          dataTable['output_type'] = 'display_data';\n",
              "          await google.colab.output.renderOutput(dataTable, element);\n",
              "          const docLink = document.createElement('div');\n",
              "          docLink.innerHTML = docLinkHtml;\n",
              "          element.appendChild(docLink);\n",
              "        }\n",
              "      </script>\n",
              "    </div>\n",
              "  </div>\n",
              "  "
            ]
          },
          "metadata": {},
          "execution_count": 19
        }
      ]
    },
    {
      "cell_type": "code",
      "source": [
        "df_1 = df_1.dropna(axis=0, how=\"any\")\n",
        "df_1.fillna(value=0)\n",
        "df_1.info()"
      ],
      "metadata": {
        "colab": {
          "base_uri": "https://localhost:8080/"
        },
        "id": "VYRTnV3R13bB",
        "outputId": "750e60fd-7982-4207-ccbe-e21bf513de6c"
      },
      "execution_count": 20,
      "outputs": [
        {
          "output_type": "stream",
          "name": "stdout",
          "text": [
            "<class 'pandas.core.frame.DataFrame'>\n",
            "Int64Index: 7569 entries, 1 to 7569\n",
            "Data columns (total 5 columns):\n",
            " #   Column  Non-Null Count  Dtype         \n",
            "---  ------  --------------  -----         \n",
            " 0   VALOR   7569 non-null   float64       \n",
            " 1   UNIDAD  7569 non-null   object        \n",
            " 2   DESDE   7569 non-null   datetime64[ns]\n",
            " 3   HASTA   7569 non-null   datetime64[ns]\n",
            " 4   Dif_%   7569 non-null   float64       \n",
            "dtypes: datetime64[ns](2), float64(2), object(1)\n",
            "memory usage: 354.8+ KB\n"
          ]
        }
      ]
    },
    {
      "cell_type": "code",
      "source": [
        "df_1.head()"
      ],
      "metadata": {
        "colab": {
          "base_uri": "https://localhost:8080/",
          "height": 206
        },
        "id": "Tv86wAyIsSub",
        "outputId": "99c9699a-4682-4a15-9ced-7ac8ba7322c2"
      },
      "execution_count": 21,
      "outputs": [
        {
          "output_type": "execute_result",
          "data": {
            "text/plain": [
              "     VALOR UNIDAD      DESDE      HASTA     Dif_%\n",
              "1  4781.28    COP 2022-12-20 2022-12-20  0.412463\n",
              "2  4802.48    COP 2022-12-17 2022-12-19  0.443396\n",
              "3  4836.24    COP 2022-12-13 2022-12-13  0.702970\n",
              "4  4815.99    COP 2022-10-12 2022-12-12 -0.418714\n",
              "5  4818.32    COP 2022-07-12 2022-07-12  0.048380"
            ],
            "text/html": [
              "\n",
              "  <div id=\"df-b3f5a802-991a-4b11-9e25-01b7c22085eb\">\n",
              "    <div class=\"colab-df-container\">\n",
              "      <div>\n",
              "<style scoped>\n",
              "    .dataframe tbody tr th:only-of-type {\n",
              "        vertical-align: middle;\n",
              "    }\n",
              "\n",
              "    .dataframe tbody tr th {\n",
              "        vertical-align: top;\n",
              "    }\n",
              "\n",
              "    .dataframe thead th {\n",
              "        text-align: right;\n",
              "    }\n",
              "</style>\n",
              "<table border=\"1\" class=\"dataframe\">\n",
              "  <thead>\n",
              "    <tr style=\"text-align: right;\">\n",
              "      <th></th>\n",
              "      <th>VALOR</th>\n",
              "      <th>UNIDAD</th>\n",
              "      <th>DESDE</th>\n",
              "      <th>HASTA</th>\n",
              "      <th>Dif_%</th>\n",
              "    </tr>\n",
              "  </thead>\n",
              "  <tbody>\n",
              "    <tr>\n",
              "      <th>1</th>\n",
              "      <td>4781.28</td>\n",
              "      <td>COP</td>\n",
              "      <td>2022-12-20</td>\n",
              "      <td>2022-12-20</td>\n",
              "      <td>0.412463</td>\n",
              "    </tr>\n",
              "    <tr>\n",
              "      <th>2</th>\n",
              "      <td>4802.48</td>\n",
              "      <td>COP</td>\n",
              "      <td>2022-12-17</td>\n",
              "      <td>2022-12-19</td>\n",
              "      <td>0.443396</td>\n",
              "    </tr>\n",
              "    <tr>\n",
              "      <th>3</th>\n",
              "      <td>4836.24</td>\n",
              "      <td>COP</td>\n",
              "      <td>2022-12-13</td>\n",
              "      <td>2022-12-13</td>\n",
              "      <td>0.702970</td>\n",
              "    </tr>\n",
              "    <tr>\n",
              "      <th>4</th>\n",
              "      <td>4815.99</td>\n",
              "      <td>COP</td>\n",
              "      <td>2022-10-12</td>\n",
              "      <td>2022-12-12</td>\n",
              "      <td>-0.418714</td>\n",
              "    </tr>\n",
              "    <tr>\n",
              "      <th>5</th>\n",
              "      <td>4818.32</td>\n",
              "      <td>COP</td>\n",
              "      <td>2022-07-12</td>\n",
              "      <td>2022-07-12</td>\n",
              "      <td>0.048380</td>\n",
              "    </tr>\n",
              "  </tbody>\n",
              "</table>\n",
              "</div>\n",
              "      <button class=\"colab-df-convert\" onclick=\"convertToInteractive('df-b3f5a802-991a-4b11-9e25-01b7c22085eb')\"\n",
              "              title=\"Convert this dataframe to an interactive table.\"\n",
              "              style=\"display:none;\">\n",
              "        \n",
              "  <svg xmlns=\"http://www.w3.org/2000/svg\" height=\"24px\"viewBox=\"0 0 24 24\"\n",
              "       width=\"24px\">\n",
              "    <path d=\"M0 0h24v24H0V0z\" fill=\"none\"/>\n",
              "    <path d=\"M18.56 5.44l.94 2.06.94-2.06 2.06-.94-2.06-.94-.94-2.06-.94 2.06-2.06.94zm-11 1L8.5 8.5l.94-2.06 2.06-.94-2.06-.94L8.5 2.5l-.94 2.06-2.06.94zm10 10l.94 2.06.94-2.06 2.06-.94-2.06-.94-.94-2.06-.94 2.06-2.06.94z\"/><path d=\"M17.41 7.96l-1.37-1.37c-.4-.4-.92-.59-1.43-.59-.52 0-1.04.2-1.43.59L10.3 9.45l-7.72 7.72c-.78.78-.78 2.05 0 2.83L4 21.41c.39.39.9.59 1.41.59.51 0 1.02-.2 1.41-.59l7.78-7.78 2.81-2.81c.8-.78.8-2.07 0-2.86zM5.41 20L4 18.59l7.72-7.72 1.47 1.35L5.41 20z\"/>\n",
              "  </svg>\n",
              "      </button>\n",
              "      \n",
              "  <style>\n",
              "    .colab-df-container {\n",
              "      display:flex;\n",
              "      flex-wrap:wrap;\n",
              "      gap: 12px;\n",
              "    }\n",
              "\n",
              "    .colab-df-convert {\n",
              "      background-color: #E8F0FE;\n",
              "      border: none;\n",
              "      border-radius: 50%;\n",
              "      cursor: pointer;\n",
              "      display: none;\n",
              "      fill: #1967D2;\n",
              "      height: 32px;\n",
              "      padding: 0 0 0 0;\n",
              "      width: 32px;\n",
              "    }\n",
              "\n",
              "    .colab-df-convert:hover {\n",
              "      background-color: #E2EBFA;\n",
              "      box-shadow: 0px 1px 2px rgba(60, 64, 67, 0.3), 0px 1px 3px 1px rgba(60, 64, 67, 0.15);\n",
              "      fill: #174EA6;\n",
              "    }\n",
              "\n",
              "    [theme=dark] .colab-df-convert {\n",
              "      background-color: #3B4455;\n",
              "      fill: #D2E3FC;\n",
              "    }\n",
              "\n",
              "    [theme=dark] .colab-df-convert:hover {\n",
              "      background-color: #434B5C;\n",
              "      box-shadow: 0px 1px 3px 1px rgba(0, 0, 0, 0.15);\n",
              "      filter: drop-shadow(0px 1px 2px rgba(0, 0, 0, 0.3));\n",
              "      fill: #FFFFFF;\n",
              "    }\n",
              "  </style>\n",
              "\n",
              "      <script>\n",
              "        const buttonEl =\n",
              "          document.querySelector('#df-b3f5a802-991a-4b11-9e25-01b7c22085eb button.colab-df-convert');\n",
              "        buttonEl.style.display =\n",
              "          google.colab.kernel.accessAllowed ? 'block' : 'none';\n",
              "\n",
              "        async function convertToInteractive(key) {\n",
              "          const element = document.querySelector('#df-b3f5a802-991a-4b11-9e25-01b7c22085eb');\n",
              "          const dataTable =\n",
              "            await google.colab.kernel.invokeFunction('convertToInteractive',\n",
              "                                                     [key], {});\n",
              "          if (!dataTable) return;\n",
              "\n",
              "          const docLinkHtml = 'Like what you see? Visit the ' +\n",
              "            '<a target=\"_blank\" href=https://colab.research.google.com/notebooks/data_table.ipynb>data table notebook</a>'\n",
              "            + ' to learn more about interactive tables.';\n",
              "          element.innerHTML = '';\n",
              "          dataTable['output_type'] = 'display_data';\n",
              "          await google.colab.output.renderOutput(dataTable, element);\n",
              "          const docLink = document.createElement('div');\n",
              "          docLink.innerHTML = docLinkHtml;\n",
              "          element.appendChild(docLink);\n",
              "        }\n",
              "      </script>\n",
              "    </div>\n",
              "  </div>\n",
              "  "
            ]
          },
          "metadata": {},
          "execution_count": 21
        }
      ]
    },
    {
      "cell_type": "markdown",
      "source": [
        "## 2. Calcular : Media"
      ],
      "metadata": {
        "id": "Znop7gyA3XD5"
      }
    },
    {
      "cell_type": "code",
      "source": [
        "df_1.VALOR.mean()"
      ],
      "metadata": {
        "colab": {
          "base_uri": "https://localhost:8080/"
        },
        "id": "EY6JKI3K3bMV",
        "outputId": "6954d654-40f5-4238-97f2-fe398f0e9e70"
      },
      "execution_count": 22,
      "outputs": [
        {
          "output_type": "execute_result",
          "data": {
            "text/plain": [
              "2208.1366851631656"
            ]
          },
          "metadata": {},
          "execution_count": 22
        }
      ]
    },
    {
      "cell_type": "markdown",
      "source": [
        "##3. Calcular: Mediana"
      ],
      "metadata": {
        "id": "hjSh_s-X3hRA"
      }
    },
    {
      "cell_type": "code",
      "source": [
        "df_1.VALOR.median()"
      ],
      "metadata": {
        "colab": {
          "base_uri": "https://localhost:8080/"
        },
        "id": "DUq7jJZo3k-D",
        "outputId": "ade7342c-f55f-4146-8ddb-f9334b0247b5"
      },
      "execution_count": 23,
      "outputs": [
        {
          "output_type": "execute_result",
          "data": {
            "text/plain": [
              "2158.36"
            ]
          },
          "metadata": {},
          "execution_count": 23
        }
      ]
    },
    {
      "cell_type": "markdown",
      "source": [
        "##4. Calcular: Desviasión Estandar"
      ],
      "metadata": {
        "id": "kg3jpwde3rlB"
      }
    },
    {
      "cell_type": "code",
      "source": [
        "df_1.VALOR.std()"
      ],
      "metadata": {
        "colab": {
          "base_uri": "https://localhost:8080/"
        },
        "id": "RdJIRH4q3w0K",
        "outputId": "2a6302db-63f7-42f6-98ec-caf4e6fdab17"
      },
      "execution_count": 24,
      "outputs": [
        {
          "output_type": "execute_result",
          "data": {
            "text/plain": [
              "945.2996299570166"
            ]
          },
          "metadata": {},
          "execution_count": 24
        }
      ]
    },
    {
      "cell_type": "markdown",
      "source": [
        "##5. Calcular: Máximo"
      ],
      "metadata": {
        "id": "pBltZ4s331OS"
      }
    },
    {
      "cell_type": "code",
      "source": [
        "df_1.VALOR.max()"
      ],
      "metadata": {
        "colab": {
          "base_uri": "https://localhost:8080/"
        },
        "id": "EiCFOQvG35YM",
        "outputId": "86b57fc5-ec8c-4cd7-ee9d-292a9b97df27"
      },
      "execution_count": 25,
      "outputs": [
        {
          "output_type": "execute_result",
          "data": {
            "text/plain": [
              "5061.21"
            ]
          },
          "metadata": {},
          "execution_count": 25
        }
      ]
    },
    {
      "cell_type": "markdown",
      "source": [
        "##6. Calcular: Mínimo"
      ],
      "metadata": {
        "id": "HAHf-_zQ38WZ"
      }
    },
    {
      "cell_type": "code",
      "source": [
        "df_1.VALOR.min()"
      ],
      "metadata": {
        "colab": {
          "base_uri": "https://localhost:8080/"
        },
        "id": "t9sE79ak4CYL",
        "outputId": "bec84ca7-c0dc-407f-a19e-b4e05d5c793d"
      },
      "execution_count": 26,
      "outputs": [
        {
          "output_type": "execute_result",
          "data": {
            "text/plain": [
              "620.62"
            ]
          },
          "metadata": {},
          "execution_count": 26
        }
      ]
    },
    {
      "cell_type": "markdown",
      "source": [
        "##7. Calcular: Rango"
      ],
      "metadata": {
        "id": "mstpnVjD4tao"
      }
    },
    {
      "cell_type": "code",
      "source": [
        "df_1.rank(method=\"min\")"
      ],
      "metadata": {
        "colab": {
          "base_uri": "https://localhost:8080/",
          "height": 424
        },
        "id": "oJHPfTRj4xzi",
        "outputId": "9d162400-30af-47a2-f7ff-290b615ac577"
      },
      "execution_count": 27,
      "outputs": [
        {
          "output_type": "execute_result",
          "data": {
            "text/plain": [
              "       VALOR  UNIDAD   DESDE   HASTA   Dif_%\n",
              "1     7511.0     1.0  7467.0  7467.0  5952.0\n",
              "2     7516.0     1.0  7466.0  7466.0  6042.0\n",
              "3     7535.0     1.0  7462.0  7462.0  6520.0\n",
              "4     7527.0     1.0  7425.0  7461.0  1604.0\n",
              "5     7528.0     1.0  7361.0  7362.0  4171.0\n",
              "...      ...     ...     ...     ...     ...\n",
              "7565  7432.0     1.0  7543.0  7543.0  4911.0\n",
              "7566  7424.0     1.0  7544.0  7544.0  1198.0\n",
              "7567  7409.0     1.0  7545.0  7545.0   594.0\n",
              "7568  7415.0     1.0  7546.0  7546.0  6171.0\n",
              "7569  7412.0     1.0  7547.0  7547.0  2346.0\n",
              "\n",
              "[7569 rows x 5 columns]"
            ],
            "text/html": [
              "\n",
              "  <div id=\"df-b1779404-edac-493c-84ee-a9a8b7d976cf\">\n",
              "    <div class=\"colab-df-container\">\n",
              "      <div>\n",
              "<style scoped>\n",
              "    .dataframe tbody tr th:only-of-type {\n",
              "        vertical-align: middle;\n",
              "    }\n",
              "\n",
              "    .dataframe tbody tr th {\n",
              "        vertical-align: top;\n",
              "    }\n",
              "\n",
              "    .dataframe thead th {\n",
              "        text-align: right;\n",
              "    }\n",
              "</style>\n",
              "<table border=\"1\" class=\"dataframe\">\n",
              "  <thead>\n",
              "    <tr style=\"text-align: right;\">\n",
              "      <th></th>\n",
              "      <th>VALOR</th>\n",
              "      <th>UNIDAD</th>\n",
              "      <th>DESDE</th>\n",
              "      <th>HASTA</th>\n",
              "      <th>Dif_%</th>\n",
              "    </tr>\n",
              "  </thead>\n",
              "  <tbody>\n",
              "    <tr>\n",
              "      <th>1</th>\n",
              "      <td>7511.0</td>\n",
              "      <td>1.0</td>\n",
              "      <td>7467.0</td>\n",
              "      <td>7467.0</td>\n",
              "      <td>5952.0</td>\n",
              "    </tr>\n",
              "    <tr>\n",
              "      <th>2</th>\n",
              "      <td>7516.0</td>\n",
              "      <td>1.0</td>\n",
              "      <td>7466.0</td>\n",
              "      <td>7466.0</td>\n",
              "      <td>6042.0</td>\n",
              "    </tr>\n",
              "    <tr>\n",
              "      <th>3</th>\n",
              "      <td>7535.0</td>\n",
              "      <td>1.0</td>\n",
              "      <td>7462.0</td>\n",
              "      <td>7462.0</td>\n",
              "      <td>6520.0</td>\n",
              "    </tr>\n",
              "    <tr>\n",
              "      <th>4</th>\n",
              "      <td>7527.0</td>\n",
              "      <td>1.0</td>\n",
              "      <td>7425.0</td>\n",
              "      <td>7461.0</td>\n",
              "      <td>1604.0</td>\n",
              "    </tr>\n",
              "    <tr>\n",
              "      <th>5</th>\n",
              "      <td>7528.0</td>\n",
              "      <td>1.0</td>\n",
              "      <td>7361.0</td>\n",
              "      <td>7362.0</td>\n",
              "      <td>4171.0</td>\n",
              "    </tr>\n",
              "    <tr>\n",
              "      <th>...</th>\n",
              "      <td>...</td>\n",
              "      <td>...</td>\n",
              "      <td>...</td>\n",
              "      <td>...</td>\n",
              "      <td>...</td>\n",
              "    </tr>\n",
              "    <tr>\n",
              "      <th>7565</th>\n",
              "      <td>7432.0</td>\n",
              "      <td>1.0</td>\n",
              "      <td>7543.0</td>\n",
              "      <td>7543.0</td>\n",
              "      <td>4911.0</td>\n",
              "    </tr>\n",
              "    <tr>\n",
              "      <th>7566</th>\n",
              "      <td>7424.0</td>\n",
              "      <td>1.0</td>\n",
              "      <td>7544.0</td>\n",
              "      <td>7544.0</td>\n",
              "      <td>1198.0</td>\n",
              "    </tr>\n",
              "    <tr>\n",
              "      <th>7567</th>\n",
              "      <td>7409.0</td>\n",
              "      <td>1.0</td>\n",
              "      <td>7545.0</td>\n",
              "      <td>7545.0</td>\n",
              "      <td>594.0</td>\n",
              "    </tr>\n",
              "    <tr>\n",
              "      <th>7568</th>\n",
              "      <td>7415.0</td>\n",
              "      <td>1.0</td>\n",
              "      <td>7546.0</td>\n",
              "      <td>7546.0</td>\n",
              "      <td>6171.0</td>\n",
              "    </tr>\n",
              "    <tr>\n",
              "      <th>7569</th>\n",
              "      <td>7412.0</td>\n",
              "      <td>1.0</td>\n",
              "      <td>7547.0</td>\n",
              "      <td>7547.0</td>\n",
              "      <td>2346.0</td>\n",
              "    </tr>\n",
              "  </tbody>\n",
              "</table>\n",
              "<p>7569 rows × 5 columns</p>\n",
              "</div>\n",
              "      <button class=\"colab-df-convert\" onclick=\"convertToInteractive('df-b1779404-edac-493c-84ee-a9a8b7d976cf')\"\n",
              "              title=\"Convert this dataframe to an interactive table.\"\n",
              "              style=\"display:none;\">\n",
              "        \n",
              "  <svg xmlns=\"http://www.w3.org/2000/svg\" height=\"24px\"viewBox=\"0 0 24 24\"\n",
              "       width=\"24px\">\n",
              "    <path d=\"M0 0h24v24H0V0z\" fill=\"none\"/>\n",
              "    <path d=\"M18.56 5.44l.94 2.06.94-2.06 2.06-.94-2.06-.94-.94-2.06-.94 2.06-2.06.94zm-11 1L8.5 8.5l.94-2.06 2.06-.94-2.06-.94L8.5 2.5l-.94 2.06-2.06.94zm10 10l.94 2.06.94-2.06 2.06-.94-2.06-.94-.94-2.06-.94 2.06-2.06.94z\"/><path d=\"M17.41 7.96l-1.37-1.37c-.4-.4-.92-.59-1.43-.59-.52 0-1.04.2-1.43.59L10.3 9.45l-7.72 7.72c-.78.78-.78 2.05 0 2.83L4 21.41c.39.39.9.59 1.41.59.51 0 1.02-.2 1.41-.59l7.78-7.78 2.81-2.81c.8-.78.8-2.07 0-2.86zM5.41 20L4 18.59l7.72-7.72 1.47 1.35L5.41 20z\"/>\n",
              "  </svg>\n",
              "      </button>\n",
              "      \n",
              "  <style>\n",
              "    .colab-df-container {\n",
              "      display:flex;\n",
              "      flex-wrap:wrap;\n",
              "      gap: 12px;\n",
              "    }\n",
              "\n",
              "    .colab-df-convert {\n",
              "      background-color: #E8F0FE;\n",
              "      border: none;\n",
              "      border-radius: 50%;\n",
              "      cursor: pointer;\n",
              "      display: none;\n",
              "      fill: #1967D2;\n",
              "      height: 32px;\n",
              "      padding: 0 0 0 0;\n",
              "      width: 32px;\n",
              "    }\n",
              "\n",
              "    .colab-df-convert:hover {\n",
              "      background-color: #E2EBFA;\n",
              "      box-shadow: 0px 1px 2px rgba(60, 64, 67, 0.3), 0px 1px 3px 1px rgba(60, 64, 67, 0.15);\n",
              "      fill: #174EA6;\n",
              "    }\n",
              "\n",
              "    [theme=dark] .colab-df-convert {\n",
              "      background-color: #3B4455;\n",
              "      fill: #D2E3FC;\n",
              "    }\n",
              "\n",
              "    [theme=dark] .colab-df-convert:hover {\n",
              "      background-color: #434B5C;\n",
              "      box-shadow: 0px 1px 3px 1px rgba(0, 0, 0, 0.15);\n",
              "      filter: drop-shadow(0px 1px 2px rgba(0, 0, 0, 0.3));\n",
              "      fill: #FFFFFF;\n",
              "    }\n",
              "  </style>\n",
              "\n",
              "      <script>\n",
              "        const buttonEl =\n",
              "          document.querySelector('#df-b1779404-edac-493c-84ee-a9a8b7d976cf button.colab-df-convert');\n",
              "        buttonEl.style.display =\n",
              "          google.colab.kernel.accessAllowed ? 'block' : 'none';\n",
              "\n",
              "        async function convertToInteractive(key) {\n",
              "          const element = document.querySelector('#df-b1779404-edac-493c-84ee-a9a8b7d976cf');\n",
              "          const dataTable =\n",
              "            await google.colab.kernel.invokeFunction('convertToInteractive',\n",
              "                                                     [key], {});\n",
              "          if (!dataTable) return;\n",
              "\n",
              "          const docLinkHtml = 'Like what you see? Visit the ' +\n",
              "            '<a target=\"_blank\" href=https://colab.research.google.com/notebooks/data_table.ipynb>data table notebook</a>'\n",
              "            + ' to learn more about interactive tables.';\n",
              "          element.innerHTML = '';\n",
              "          dataTable['output_type'] = 'display_data';\n",
              "          await google.colab.output.renderOutput(dataTable, element);\n",
              "          const docLink = document.createElement('div');\n",
              "          docLink.innerHTML = docLinkHtml;\n",
              "          element.appendChild(docLink);\n",
              "        }\n",
              "      </script>\n",
              "    </div>\n",
              "  </div>\n",
              "  "
            ]
          },
          "metadata": {},
          "execution_count": 27
        }
      ]
    },
    {
      "cell_type": "markdown",
      "source": [
        "##B. Presentar el resumen de los datos numéricos"
      ],
      "metadata": {
        "id": "r2kwM0_x5g2q"
      }
    },
    {
      "cell_type": "code",
      "source": [
        "df_1.describe()"
      ],
      "metadata": {
        "colab": {
          "base_uri": "https://localhost:8080/",
          "height": 300
        },
        "id": "v7Dtv_345AQT",
        "outputId": "db64b27a-7913-4ab9-ffbf-f7f4708534ec"
      },
      "execution_count": 28,
      "outputs": [
        {
          "output_type": "execute_result",
          "data": {
            "text/plain": [
              "             VALOR        Dif_%\n",
              "count  7569.000000  7569.000000\n",
              "mean   2208.136685     0.424572\n",
              "std     945.299630    11.877291\n",
              "min     620.620000   -86.769648\n",
              "25%    1751.000000    -0.322169\n",
              "50%    2158.360000     0.004989\n",
              "75%    2866.870000     0.322433\n",
              "max    5061.210000   659.301856"
            ],
            "text/html": [
              "\n",
              "  <div id=\"df-74e49420-b95f-4c26-a722-58b2c349daa3\">\n",
              "    <div class=\"colab-df-container\">\n",
              "      <div>\n",
              "<style scoped>\n",
              "    .dataframe tbody tr th:only-of-type {\n",
              "        vertical-align: middle;\n",
              "    }\n",
              "\n",
              "    .dataframe tbody tr th {\n",
              "        vertical-align: top;\n",
              "    }\n",
              "\n",
              "    .dataframe thead th {\n",
              "        text-align: right;\n",
              "    }\n",
              "</style>\n",
              "<table border=\"1\" class=\"dataframe\">\n",
              "  <thead>\n",
              "    <tr style=\"text-align: right;\">\n",
              "      <th></th>\n",
              "      <th>VALOR</th>\n",
              "      <th>Dif_%</th>\n",
              "    </tr>\n",
              "  </thead>\n",
              "  <tbody>\n",
              "    <tr>\n",
              "      <th>count</th>\n",
              "      <td>7569.000000</td>\n",
              "      <td>7569.000000</td>\n",
              "    </tr>\n",
              "    <tr>\n",
              "      <th>mean</th>\n",
              "      <td>2208.136685</td>\n",
              "      <td>0.424572</td>\n",
              "    </tr>\n",
              "    <tr>\n",
              "      <th>std</th>\n",
              "      <td>945.299630</td>\n",
              "      <td>11.877291</td>\n",
              "    </tr>\n",
              "    <tr>\n",
              "      <th>min</th>\n",
              "      <td>620.620000</td>\n",
              "      <td>-86.769648</td>\n",
              "    </tr>\n",
              "    <tr>\n",
              "      <th>25%</th>\n",
              "      <td>1751.000000</td>\n",
              "      <td>-0.322169</td>\n",
              "    </tr>\n",
              "    <tr>\n",
              "      <th>50%</th>\n",
              "      <td>2158.360000</td>\n",
              "      <td>0.004989</td>\n",
              "    </tr>\n",
              "    <tr>\n",
              "      <th>75%</th>\n",
              "      <td>2866.870000</td>\n",
              "      <td>0.322433</td>\n",
              "    </tr>\n",
              "    <tr>\n",
              "      <th>max</th>\n",
              "      <td>5061.210000</td>\n",
              "      <td>659.301856</td>\n",
              "    </tr>\n",
              "  </tbody>\n",
              "</table>\n",
              "</div>\n",
              "      <button class=\"colab-df-convert\" onclick=\"convertToInteractive('df-74e49420-b95f-4c26-a722-58b2c349daa3')\"\n",
              "              title=\"Convert this dataframe to an interactive table.\"\n",
              "              style=\"display:none;\">\n",
              "        \n",
              "  <svg xmlns=\"http://www.w3.org/2000/svg\" height=\"24px\"viewBox=\"0 0 24 24\"\n",
              "       width=\"24px\">\n",
              "    <path d=\"M0 0h24v24H0V0z\" fill=\"none\"/>\n",
              "    <path d=\"M18.56 5.44l.94 2.06.94-2.06 2.06-.94-2.06-.94-.94-2.06-.94 2.06-2.06.94zm-11 1L8.5 8.5l.94-2.06 2.06-.94-2.06-.94L8.5 2.5l-.94 2.06-2.06.94zm10 10l.94 2.06.94-2.06 2.06-.94-2.06-.94-.94-2.06-.94 2.06-2.06.94z\"/><path d=\"M17.41 7.96l-1.37-1.37c-.4-.4-.92-.59-1.43-.59-.52 0-1.04.2-1.43.59L10.3 9.45l-7.72 7.72c-.78.78-.78 2.05 0 2.83L4 21.41c.39.39.9.59 1.41.59.51 0 1.02-.2 1.41-.59l7.78-7.78 2.81-2.81c.8-.78.8-2.07 0-2.86zM5.41 20L4 18.59l7.72-7.72 1.47 1.35L5.41 20z\"/>\n",
              "  </svg>\n",
              "      </button>\n",
              "      \n",
              "  <style>\n",
              "    .colab-df-container {\n",
              "      display:flex;\n",
              "      flex-wrap:wrap;\n",
              "      gap: 12px;\n",
              "    }\n",
              "\n",
              "    .colab-df-convert {\n",
              "      background-color: #E8F0FE;\n",
              "      border: none;\n",
              "      border-radius: 50%;\n",
              "      cursor: pointer;\n",
              "      display: none;\n",
              "      fill: #1967D2;\n",
              "      height: 32px;\n",
              "      padding: 0 0 0 0;\n",
              "      width: 32px;\n",
              "    }\n",
              "\n",
              "    .colab-df-convert:hover {\n",
              "      background-color: #E2EBFA;\n",
              "      box-shadow: 0px 1px 2px rgba(60, 64, 67, 0.3), 0px 1px 3px 1px rgba(60, 64, 67, 0.15);\n",
              "      fill: #174EA6;\n",
              "    }\n",
              "\n",
              "    [theme=dark] .colab-df-convert {\n",
              "      background-color: #3B4455;\n",
              "      fill: #D2E3FC;\n",
              "    }\n",
              "\n",
              "    [theme=dark] .colab-df-convert:hover {\n",
              "      background-color: #434B5C;\n",
              "      box-shadow: 0px 1px 3px 1px rgba(0, 0, 0, 0.15);\n",
              "      filter: drop-shadow(0px 1px 2px rgba(0, 0, 0, 0.3));\n",
              "      fill: #FFFFFF;\n",
              "    }\n",
              "  </style>\n",
              "\n",
              "      <script>\n",
              "        const buttonEl =\n",
              "          document.querySelector('#df-74e49420-b95f-4c26-a722-58b2c349daa3 button.colab-df-convert');\n",
              "        buttonEl.style.display =\n",
              "          google.colab.kernel.accessAllowed ? 'block' : 'none';\n",
              "\n",
              "        async function convertToInteractive(key) {\n",
              "          const element = document.querySelector('#df-74e49420-b95f-4c26-a722-58b2c349daa3');\n",
              "          const dataTable =\n",
              "            await google.colab.kernel.invokeFunction('convertToInteractive',\n",
              "                                                     [key], {});\n",
              "          if (!dataTable) return;\n",
              "\n",
              "          const docLinkHtml = 'Like what you see? Visit the ' +\n",
              "            '<a target=\"_blank\" href=https://colab.research.google.com/notebooks/data_table.ipynb>data table notebook</a>'\n",
              "            + ' to learn more about interactive tables.';\n",
              "          element.innerHTML = '';\n",
              "          dataTable['output_type'] = 'display_data';\n",
              "          await google.colab.output.renderOutput(dataTable, element);\n",
              "          const docLink = document.createElement('div');\n",
              "          docLink.innerHTML = docLinkHtml;\n",
              "          element.appendChild(docLink);\n",
              "        }\n",
              "      </script>\n",
              "    </div>\n",
              "  </div>\n",
              "  "
            ]
          },
          "metadata": {},
          "execution_count": 28
        }
      ]
    },
    {
      "cell_type": "code",
      "source": [
        "df_1.info(verbose=True)"
      ],
      "metadata": {
        "colab": {
          "base_uri": "https://localhost:8080/"
        },
        "id": "Kk96jzUn5nLs",
        "outputId": "2013078a-5ec0-4ae1-a431-ddabeba2be4a"
      },
      "execution_count": 29,
      "outputs": [
        {
          "output_type": "stream",
          "name": "stdout",
          "text": [
            "<class 'pandas.core.frame.DataFrame'>\n",
            "Int64Index: 7569 entries, 1 to 7569\n",
            "Data columns (total 5 columns):\n",
            " #   Column  Non-Null Count  Dtype         \n",
            "---  ------  --------------  -----         \n",
            " 0   VALOR   7569 non-null   float64       \n",
            " 1   UNIDAD  7569 non-null   object        \n",
            " 2   DESDE   7569 non-null   datetime64[ns]\n",
            " 3   HASTA   7569 non-null   datetime64[ns]\n",
            " 4   Dif_%   7569 non-null   float64       \n",
            "dtypes: datetime64[ns](2), float64(2), object(1)\n",
            "memory usage: 354.8+ KB\n"
          ]
        }
      ]
    },
    {
      "cell_type": "markdown",
      "source": [
        "##Análisis del Data set\n",
        "se examina los datos para entender su naturaleza y cómo están estructurados. Luego, se hace preguntas para obtener más información sobre el contexto y el propósito del análisis en el cual se ve que al pasarlos a maquina todos son objeto, se realiza limpieza y grafica para dar como resultado que da que la moneda tuvo un alza desde el 2012 hasta el 2023 de casi 935 pesos."
      ],
      "metadata": {
        "id": "-SEdGL9sQ4w-"
      }
    },
    {
      "cell_type": "markdown",
      "source": [
        "##C. Presentar la información general del dataset"
      ],
      "metadata": {
        "id": "ML2qLLJv51iS"
      }
    },
    {
      "cell_type": "code",
      "source": [
        "df_1.info(verbose=False)"
      ],
      "metadata": {
        "colab": {
          "base_uri": "https://localhost:8080/"
        },
        "id": "adA3Opeq6OMh",
        "outputId": "b81f521c-6483-43ab-8858-3339d2bee411"
      },
      "execution_count": 30,
      "outputs": [
        {
          "output_type": "stream",
          "name": "stdout",
          "text": [
            "<class 'pandas.core.frame.DataFrame'>\n",
            "Int64Index: 7569 entries, 1 to 7569\n",
            "Columns: 5 entries, VALOR to Dif_%\n",
            "dtypes: datetime64[ns](2), float64(2), object(1)\n",
            "memory usage: 354.8+ KB\n"
          ]
        }
      ]
    },
    {
      "cell_type": "code",
      "source": [],
      "metadata": {
        "id": "y5fPurCmP9qd"
      },
      "execution_count": null,
      "outputs": []
    },
    {
      "cell_type": "markdown",
      "source": [
        "## D. Hacer dos representaciones graficas que sean acordes a la naturaleza de los datos"
      ],
      "metadata": {
        "id": "bcvqzKxTPrlm"
      }
    },
    {
      "cell_type": "code",
      "source": [
        "df_1.plot(kind = 'scatter', y = 'VALOR', x = 'DESDE',title = 'AVANCE DEL PESO',\n",
        "                xlabel = 'FECHA',\n",
        "                ylabel = 'PRECIO',\n",
        "                s = 5,\n",
        "                c = 'red');\n",
        "\n",
        "plt.show()"
      ],
      "metadata": {
        "colab": {
          "base_uri": "https://localhost:8080/",
          "height": 472
        },
        "id": "oB0DJauc9RDj",
        "outputId": "0e3ed493-413a-4818-ee7b-60cfe9455cc9"
      },
      "execution_count": 31,
      "outputs": [
        {
          "output_type": "display_data",
          "data": {
            "text/plain": [
              "<Figure size 640x480 with 1 Axes>"
            ],
            "image/png": "[encoded data removed]"
          },
          "metadata": {}
        }
      ]
    },
    {
      "cell_type": "code",
      "source": [
        "pd.plotting.scatter_matrix(df_1, alpha=0.3)\n",
        "\n",
        "plt.show()"
      ],
      "metadata": {
        "colab": {
          "base_uri": "https://localhost:8080/",
          "height": 464
        },
        "id": "jzY3fqAZ-6j5",
        "outputId": "ef6ef177-4c34-4ed7-a31c-29e5aa42478b"
      },
      "execution_count": 45,
      "outputs": [
        {
          "output_type": "display_data",
          "data": {
            "text/plain": [
              "<Figure size 640x480 with 4 Axes>"
            ],
            "image/png": "[encoded data removed]"
          },
          "metadata": {}
        }
      ]
    },
    {
      "cell_type": "code",
      "source": [
        "pd.plotting.scatter_matrix(df_1, diagonal='kde')\n",
        "\n",
        "plt.show()"
      ],
      "metadata": {
        "colab": {
          "base_uri": "https://localhost:8080/",
          "height": 464
        },
        "id": "AJePFEIy_B9B",
        "outputId": "3ea46325-c178-4cc6-fb20-fc79e9e5035e"
      },
      "execution_count": 50,
      "outputs": [
        {
          "output_type": "display_data",
          "data": {
            "text/plain": [
              "<Figure size 640x480 with 4 Axes>"
            ],
            "image/png": "[encoded data removed]"
          },
          "metadata": {}
        }
      ]
    },
    {
      "cell_type": "code",
      "source": [
        "plt.scatter(x='VALOR', y='DESDE', color='purple', marker='*', data=df_1)\n",
        "plt.xlabel('Valor')\n",
        "plt.ylabel('Año')\n",
        "plt.title('Variación de la Moneda colombiana')"
      ],
      "metadata": {
        "colab": {
          "base_uri": "https://localhost:8080/",
          "height": 489
        },
        "id": "oaqoWDEyDb-X",
        "outputId": "3b301170-4038-4b79-9e00-0f2187889ba4"
      },
      "execution_count": 48,
      "outputs": [
        {
          "output_type": "execute_result",
          "data": {
            "text/plain": [
              "Text(0.5, 1.0, 'Variación de la Moneda colombiana')"
            ]
          },
          "metadata": {},
          "execution_count": 48
        },
        {
          "output_type": "display_data",
          "data": {
            "text/plain": [
              "<Figure size 640x480 with 1 Axes>"
            ],
            "image/png": "[encoded data removed]"
          },
          "metadata": {}
        }
      ]
    },
    {
      "cell_type": "code",
      "source": [
        "plt.hist(x=df_1.VALOR, bins=30, edgecolor='black')\n",
        "plt.xlabel('Valor')\n",
        "plt.ylabel('Variación')\n",
        "plt.title('Alza de la Moneda colombiana')"
      ],
      "metadata": {
        "colab": {
          "base_uri": "https://localhost:8080/",
          "height": 489
        },
        "id": "4P2aIkvuJ_jK",
        "outputId": "e52e196c-1724-483e-dc56-c8065e3bad2a"
      },
      "execution_count": 52,
      "outputs": [
        {
          "output_type": "execute_result",
          "data": {
            "text/plain": [
              "Text(0.5, 1.0, 'Alza de la Moneda colombiana')"
            ]
          },
          "metadata": {},
          "execution_count": 52
        },
        {
          "output_type": "display_data",
          "data": {
            "text/plain": [
              "<Figure size 640x480 with 1 Axes>"
            ],
            "image/png": "[encoded data removed]"
          },
          "metadata": {}
        }
      ]
    },
    {
      "cell_type": "code",
      "source": [
        "sns.scatterplot(x='VALOR',y='Dif_%', data=df_1)\n",
        "plt.xlabel('Valor')\n",
        "plt.ylabel('Porcentaje')\n",
        "plt.title('Grafica de dispersión de la Moneda colombiana')"
      ],
      "metadata": {
        "colab": {
          "base_uri": "https://localhost:8080/",
          "height": 489
        },
        "id": "qEBFss2VOLpW",
        "outputId": "5b03811d-286c-42f9-b5c3-3c62892c5e90"
      },
      "execution_count": 54,
      "outputs": [
        {
          "output_type": "execute_result",
          "data": {
            "text/plain": [
              "Text(0.5, 1.0, 'Grafica de dispersión de la Moneda colombiana')"
            ]
          },
          "metadata": {},
          "execution_count": 54
        },
        {
          "output_type": "display_data",
          "data": {
            "text/plain": [
              "<Figure size 640x480 with 1 Axes>"
            ],
            "image/png": "[encoded data removed]"
          },
          "metadata": {}
        }
      ]
    },
    {
      "cell_type": "code",
      "source": [
        "\n",
        "print(df_1.head(1))"
      ],
      "metadata": {
        "colab": {
          "base_uri": "https://localhost:8080/"
        },
        "id": "vS4PsTv8Z0Y-",
        "outputId": "6d97c7af-2993-43dd-c0cf-8c3cbcd9d9e4"
      },
      "execution_count": 55,
      "outputs": [
        {
          "output_type": "stream",
          "name": "stdout",
          "text": [
            "     VALOR UNIDAD      DESDE      HASTA     Dif_%\n",
            "1  4781.28    COP 2022-12-20 2022-12-20  0.412463\n"
          ]
        }
      ]
    },
    {
      "cell_type": "code",
      "source": [
        "print(df_1.tail())"
      ],
      "metadata": {
        "colab": {
          "base_uri": "https://localhost:8080/"
        },
        "id": "3RfNlOIVaE-6",
        "outputId": "717e67f7-a75d-41b8-a473-9998c966bc82"
      },
      "execution_count": 57,
      "outputs": [
        {
          "output_type": "stream",
          "name": "stdout",
          "text": [
            "        VALOR UNIDAD      DESDE      HASTA     Dif_%\n",
            "7565  4528.67    COP 2023-05-20 2023-05-23  0.155475\n",
            "7566  4501.81    COP 2023-05-24 2023-05-24 -0.593110\n",
            "7567  4448.93    COP 2023-05-25 2023-05-25 -1.174639\n",
            "7568  4470.83    COP 2023-05-26 2023-05-26  0.492253\n",
            "7569  4461.66    COP 2023-05-27 2023-05-30 -0.205107\n"
          ]
        }
      ]
    },
    {
      "cell_type": "markdown",
      "source": [
        "## E.  Usando Socrata, Cargue un dataset que se encuentre en el portal de datos públicos de Colombia"
      ],
      "metadata": {
        "id": "egrBF3E3QMC2"
      }
    },
    {
      "cell_type": "code",
      "source": [
        "%pip install sodapy\n",
        "from sodapy import Socrata"
      ],
      "metadata": {
        "colab": {
          "base_uri": "https://localhost:8080/"
        },
        "id": "2x2RO96iScC9",
        "outputId": "450b35af-746e-4821-d387-89e4d172396c"
      },
      "execution_count": 15,
      "outputs": [
        {
          "output_type": "stream",
          "name": "stdout",
          "text": [
            "Looking in indexes: https://pypi.org/simple, https://us-python.pkg.dev/colab-wheels/public/simple/\n",
            "Requirement already satisfied: sodapy in /usr/local/lib/python3.10/dist-packages (2.2.0)\n",
            "Requirement already satisfied: requests>=2.28.1 in /usr/local/lib/python3.10/dist-packages (from sodapy) (2.31.0)\n",
            "Requirement already satisfied: charset-normalizer<4,>=2 in /usr/local/lib/python3.10/dist-packages (from requests>=2.28.1->sodapy) (2.0.12)\n",
            "Requirement already satisfied: idna<4,>=2.5 in /usr/local/lib/python3.10/dist-packages (from requests>=2.28.1->sodapy) (3.4)\n",
            "Requirement already satisfied: urllib3<3,>=1.21.1 in /usr/local/lib/python3.10/dist-packages (from requests>=2.28.1->sodapy) (1.26.15)\n",
            "Requirement already satisfied: certifi>=2017.4.17 in /usr/local/lib/python3.10/dist-packages (from requests>=2.28.1->sodapy) (2022.12.7)\n"
          ]
        }
      ]
    },
    {
      "cell_type": "code",
      "source": [
        "from pandas.io.formats import info\n",
        "client = Socrata(\"www.datos.gov.co\",None)\n",
        "results = client.get(\"aw5z-tew6\")\n",
        "datos = pd.DataFrame.from_records(results)\n",
        "\n",
        "socrata_domain = \"www.datos.gov.co\"\n",
        "socrata_dataset_identifier = 'aw5z-tew6'\n",
        "client = Socrata(socrata_domain, app_token=\"dihJJCaYsS1BlCLhHdZtpv00E\")\n",
        "results = client.get(socrata_dataset_identifier)\n",
        "\n",
        "df = pd.DataFrame(results)\n",
        "\n",
        "df.info()\n",
        "df.head()\n"
      ],
      "metadata": {
        "colab": {
          "base_uri": "https://localhost:8080/",
          "height": 1000
        },
        "id": "zvWjaMWjWEdJ",
        "outputId": "63f60c37-92ba-4919-82c7-12466d573b7d"
      },
      "execution_count": 16,
      "outputs": [
        {
          "output_type": "stream",
          "name": "stderr",
          "text": [
            "WARNING:root:Requests made without an app_token will be subject to strict throttling limits.\n"
          ]
        },
        {
          "output_type": "stream",
          "name": "stdout",
          "text": [
            "<class 'pandas.core.frame.DataFrame'>\n",
            "RangeIndex: 450 entries, 0 to 449\n",
            "Data columns (total 54 columns):\n",
            " #   Column                          Non-Null Count  Dtype \n",
            "---  ------                          --------------  ----- \n",
            " 0   entidad                         450 non-null    object\n",
            " 1   nit_entidad                     450 non-null    object\n",
            " 2   departamento_entidad            450 non-null    object\n",
            " 3   ciudad_entidad                  450 non-null    object\n",
            " 4   ordenentidad                    450 non-null    object\n",
            " 5   codigo_pci                      450 non-null    object\n",
            " 6   id_del_proceso                  450 non-null    object\n",
            " 7   referencia_del_proceso          450 non-null    object\n",
            " 8   ppi                             450 non-null    object\n",
            " 9   id_del_portafolio               450 non-null    object\n",
            " 10  nombre_del_procedimiento        449 non-null    object\n",
            " 11  descripci_n_del_procedimiento   449 non-null    object\n",
            " 12  fase                            450 non-null    object\n",
            " 13  fecha_de_publicacion_del        450 non-null    object\n",
            " 14  fecha_de_ultima_publicaci       450 non-null    object\n",
            " 15  fecha_de_publicacion_fase_3     444 non-null    object\n",
            " 16  precio_base                     450 non-null    object\n",
            " 17  modalidad_de_contratacion       450 non-null    object\n",
            " 18  justificaci_n_modalidad_de      450 non-null    object\n",
            " 19  duracion                        450 non-null    object\n",
            " 20  unidad_de_duracion              450 non-null    object\n",
            " 21  ciudad_de_la_unidad_de          450 non-null    object\n",
            " 22  nombre_de_la_unidad_de          450 non-null    object\n",
            " 23  proveedores_invitados           450 non-null    object\n",
            " 24  proveedores_con_invitacion      450 non-null    object\n",
            " 25  visualizaciones_del             450 non-null    object\n",
            " 26  proveedores_que_manifestaron    450 non-null    object\n",
            " 27  respuestas_al_procedimiento     450 non-null    object\n",
            " 28  respuestas_externas             450 non-null    object\n",
            " 29  conteo_de_respuestas_a_ofertas  450 non-null    object\n",
            " 30  proveedores_unicos_con          450 non-null    object\n",
            " 31  numero_de_lotes                 450 non-null    object\n",
            " 32  estado_del_procedimiento        450 non-null    object\n",
            " 33  id_estado_del_procedimiento     450 non-null    object\n",
            " 34  adjudicado                      450 non-null    object\n",
            " 35  id_adjudicacion                 450 non-null    object\n",
            " 36  codigoproveedor                 450 non-null    object\n",
            " 37  departamento_proveedor          450 non-null    object\n",
            " 38  ciudad_proveedor                450 non-null    object\n",
            " 39  valor_total_adjudicacion        450 non-null    object\n",
            " 40  nombre_del_adjudicador          450 non-null    object\n",
            " 41  nombre_del_proveedor            450 non-null    object\n",
            " 42  nit_del_proveedor_adjudicado    450 non-null    object\n",
            " 43  codigo_principal_de_categoria   450 non-null    object\n",
            " 44  estado_de_apertura_del_proceso  450 non-null    object\n",
            " 45  tipo_de_contrato                450 non-null    object\n",
            " 46  subtipo_de_contrato             450 non-null    object\n",
            " 47  categorias_adicionales          450 non-null    object\n",
            " 48  urlproceso                      450 non-null    object\n",
            " 49  fecha_de_publicacion_fase_2     6 non-null      object\n",
            " 50  fecha_de_recepcion_de           15 non-null     object\n",
            " 51  fecha_de_apertura_de_respuesta  14 non-null     object\n",
            " 52  fecha_de_apertura_efectiva      15 non-null     object\n",
            " 53  fecha_adjudicacion              9 non-null      object\n",
            "dtypes: object(54)\n",
            "memory usage: 190.0+ KB\n"
          ]
        },
        {
          "output_type": "execute_result",
          "data": {
            "text/plain": [
              "              entidad nit_entidad departamento_entidad ciudad_entidad  \\\n",
              "0  MUNICIPIO DE YOPAL   891855017             Casanare          Yopal   \n",
              "1  MUNICIPIO DE YOPAL   891855017             Casanare          Yopal   \n",
              "2  MUNICIPIO DE YOPAL   891855017             Casanare          Yopal   \n",
              "3  MUNICIPIO DE YOPAL   891855017             Casanare          Yopal   \n",
              "4  MUNICIPIO DE YOPAL   891855017             Casanare          Yopal   \n",
              "\n",
              "  ordenentidad codigo_pci   id_del_proceso referencia_del_proceso ppi  \\\n",
              "0  Territorial         No  CO1.REQ.1471256    MYCA-SE-CD-166-2020  ND   \n",
              "1  Territorial         No  CO1.REQ.1473147    MYCA-SS-CD-026-2020  ND   \n",
              "2  Territorial         No  CO1.REQ.1469242    MYCA-SE-CD-163-2020  ND   \n",
              "3  Territorial         No  CO1.REQ.1475514    MYCA-SS-CD-027-2020  ND   \n",
              "4  Territorial         No  CO1.REQ.1475701  MYCA-STT-CD-0037-2020  ND   \n",
              "\n",
              "  id_del_portafolio  ... estado_de_apertura_del_proceso  \\\n",
              "0  CO1.BDOS.1427948  ...                        Abierto   \n",
              "1  CO1.BDOS.1428914  ...                        Abierto   \n",
              "2  CO1.BDOS.1425864  ...                        Abierto   \n",
              "3  CO1.BDOS.1431444  ...                        Abierto   \n",
              "4  CO1.BDOS.1431661  ...                        Abierto   \n",
              "\n",
              "                 tipo_de_contrato subtipo_de_contrato categorias_adicionales  \\\n",
              "0  Servicios de aprovisionamiento     No Especificado                     ND   \n",
              "1  Servicios de aprovisionamiento     No Especificado                     ND   \n",
              "2  Servicios de aprovisionamiento     No Especificado                     ND   \n",
              "3  Servicios de aprovisionamiento     No Especificado                     ND   \n",
              "4  Servicios de aprovisionamiento     No Especificado                     ND   \n",
              "\n",
              "                                          urlproceso  \\\n",
              "0  {'url': 'https://community.secop.gov.co/Public...   \n",
              "1  {'url': 'https://community.secop.gov.co/Public...   \n",
              "2  {'url': 'https://community.secop.gov.co/Public...   \n",
              "3  {'url': 'https://community.secop.gov.co/Public...   \n",
              "4  {'url': 'https://community.secop.gov.co/Public...   \n",
              "\n",
              "  fecha_de_publicacion_fase_2 fecha_de_recepcion_de  \\\n",
              "0                         NaN                   NaN   \n",
              "1                         NaN                   NaN   \n",
              "2                         NaN                   NaN   \n",
              "3                         NaN                   NaN   \n",
              "4                         NaN                   NaN   \n",
              "\n",
              "  fecha_de_apertura_de_respuesta fecha_de_apertura_efectiva fecha_adjudicacion  \n",
              "0                            NaN                        NaN                NaN  \n",
              "1                            NaN                        NaN                NaN  \n",
              "2                            NaN                        NaN                NaN  \n",
              "3                            NaN                        NaN                NaN  \n",
              "4                            NaN                        NaN                NaN  \n",
              "\n",
              "[5 rows x 54 columns]"
            ],
            "text/html": [
              "\n",
              "  <div id=\"df-ea12f064-f25c-47f3-8d14-9d8467c80814\">\n",
              "    <div class=\"colab-df-container\">\n",
              "      <div>\n",
              "<style scoped>\n",
              "    .dataframe tbody tr th:only-of-type {\n",
              "        vertical-align: middle;\n",
              "    }\n",
              "\n",
              "    .dataframe tbody tr th {\n",
              "        vertical-align: top;\n",
              "    }\n",
              "\n",
              "    .dataframe thead th {\n",
              "        text-align: right;\n",
              "    }\n",
              "</style>\n",
              "<table border=\"1\" class=\"dataframe\">\n",
              "  <thead>\n",
              "    <tr style=\"text-align: right;\">\n",
              "      <th></th>\n",
              "      <th>entidad</th>\n",
              "      <th>nit_entidad</th>\n",
              "      <th>departamento_entidad</th>\n",
              "      <th>ciudad_entidad</th>\n",
              "      <th>ordenentidad</th>\n",
              "      <th>codigo_pci</th>\n",
              "      <th>id_del_proceso</th>\n",
              "      <th>referencia_del_proceso</th>\n",
              "      <th>ppi</th>\n",
              "      <th>id_del_portafolio</th>\n",
              "      <th>...</th>\n",
              "      <th>estado_de_apertura_del_proceso</th>\n",
              "      <th>tipo_de_contrato</th>\n",
              "      <th>subtipo_de_contrato</th>\n",
              "      <th>categorias_adicionales</th>\n",
              "      <th>urlproceso</th>\n",
              "      <th>fecha_de_publicacion_fase_2</th>\n",
              "      <th>fecha_de_recepcion_de</th>\n",
              "      <th>fecha_de_apertura_de_respuesta</th>\n",
              "      <th>fecha_de_apertura_efectiva</th>\n",
              "      <th>fecha_adjudicacion</th>\n",
              "    </tr>\n",
              "  </thead>\n",
              "  <tbody>\n",
              "    <tr>\n",
              "      <th>0</th>\n",
              "      <td>MUNICIPIO DE YOPAL</td>\n",
              "      <td>891855017</td>\n",
              "      <td>Casanare</td>\n",
              "      <td>Yopal</td>\n",
              "      <td>Territorial</td>\n",
              "      <td>No</td>\n",
              "      <td>CO1.REQ.1471256</td>\n",
              "      <td>MYCA-SE-CD-166-2020</td>\n",
              "      <td>ND</td>\n",
              "      <td>CO1.BDOS.1427948</td>\n",
              "      <td>...</td>\n",
              "      <td>Abierto</td>\n",
              "      <td>Servicios de aprovisionamiento</td>\n",
              "      <td>No Especificado</td>\n",
              "      <td>ND</td>\n",
              "      <td>{'url': 'https://community.secop.gov.co/Public...</td>\n",
              "      <td>NaN</td>\n",
              "      <td>NaN</td>\n",
              "      <td>NaN</td>\n",
              "      <td>NaN</td>\n",
              "      <td>NaN</td>\n",
              "    </tr>\n",
              "    <tr>\n",
              "      <th>1</th>\n",
              "      <td>MUNICIPIO DE YOPAL</td>\n",
              "      <td>891855017</td>\n",
              "      <td>Casanare</td>\n",
              "      <td>Yopal</td>\n",
              "      <td>Territorial</td>\n",
              "      <td>No</td>\n",
              "      <td>CO1.REQ.1473147</td>\n",
              "      <td>MYCA-SS-CD-026-2020</td>\n",
              "      <td>ND</td>\n",
              "      <td>CO1.BDOS.1428914</td>\n",
              "      <td>...</td>\n",
              "      <td>Abierto</td>\n",
              "      <td>Servicios de aprovisionamiento</td>\n",
              "      <td>No Especificado</td>\n",
              "      <td>ND</td>\n",
              "      <td>{'url': 'https://community.secop.gov.co/Public...</td>\n",
              "      <td>NaN</td>\n",
              "      <td>NaN</td>\n",
              "      <td>NaN</td>\n",
              "      <td>NaN</td>\n",
              "      <td>NaN</td>\n",
              "    </tr>\n",
              "    <tr>\n",
              "      <th>2</th>\n",
              "      <td>MUNICIPIO DE YOPAL</td>\n",
              "      <td>891855017</td>\n",
              "      <td>Casanare</td>\n",
              "      <td>Yopal</td>\n",
              "      <td>Territorial</td>\n",
              "      <td>No</td>\n",
              "      <td>CO1.REQ.1469242</td>\n",
              "      <td>MYCA-SE-CD-163-2020</td>\n",
              "      <td>ND</td>\n",
              "      <td>CO1.BDOS.1425864</td>\n",
              "      <td>...</td>\n",
              "      <td>Abierto</td>\n",
              "      <td>Servicios de aprovisionamiento</td>\n",
              "      <td>No Especificado</td>\n",
              "      <td>ND</td>\n",
              "      <td>{'url': 'https://community.secop.gov.co/Public...</td>\n",
              "      <td>NaN</td>\n",
              "      <td>NaN</td>\n",
              "      <td>NaN</td>\n",
              "      <td>NaN</td>\n",
              "      <td>NaN</td>\n",
              "    </tr>\n",
              "    <tr>\n",
              "      <th>3</th>\n",
              "      <td>MUNICIPIO DE YOPAL</td>\n",
              "      <td>891855017</td>\n",
              "      <td>Casanare</td>\n",
              "      <td>Yopal</td>\n",
              "      <td>Territorial</td>\n",
              "      <td>No</td>\n",
              "      <td>CO1.REQ.1475514</td>\n",
              "      <td>MYCA-SS-CD-027-2020</td>\n",
              "      <td>ND</td>\n",
              "      <td>CO1.BDOS.1431444</td>\n",
              "      <td>...</td>\n",
              "      <td>Abierto</td>\n",
              "      <td>Servicios de aprovisionamiento</td>\n",
              "      <td>No Especificado</td>\n",
              "      <td>ND</td>\n",
              "      <td>{'url': 'https://community.secop.gov.co/Public...</td>\n",
              "      <td>NaN</td>\n",
              "      <td>NaN</td>\n",
              "      <td>NaN</td>\n",
              "      <td>NaN</td>\n",
              "      <td>NaN</td>\n",
              "    </tr>\n",
              "    <tr>\n",
              "      <th>4</th>\n",
              "      <td>MUNICIPIO DE YOPAL</td>\n",
              "      <td>891855017</td>\n",
              "      <td>Casanare</td>\n",
              "      <td>Yopal</td>\n",
              "      <td>Territorial</td>\n",
              "      <td>No</td>\n",
              "      <td>CO1.REQ.1475701</td>\n",
              "      <td>MYCA-STT-CD-0037-2020</td>\n",
              "      <td>ND</td>\n",
              "      <td>CO1.BDOS.1431661</td>\n",
              "      <td>...</td>\n",
              "      <td>Abierto</td>\n",
              "      <td>Servicios de aprovisionamiento</td>\n",
              "      <td>No Especificado</td>\n",
              "      <td>ND</td>\n",
              "      <td>{'url': 'https://community.secop.gov.co/Public...</td>\n",
              "      <td>NaN</td>\n",
              "      <td>NaN</td>\n",
              "      <td>NaN</td>\n",
              "      <td>NaN</td>\n",
              "      <td>NaN</td>\n",
              "    </tr>\n",
              "  </tbody>\n",
              "</table>\n",
              "<p>5 rows × 54 columns</p>\n",
              "</div>\n",
              "      <button class=\"colab-df-convert\" onclick=\"convertToInteractive('df-ea12f064-f25c-47f3-8d14-9d8467c80814')\"\n",
              "              title=\"Convert this dataframe to an interactive table.\"\n",
              "              style=\"display:none;\">\n",
              "        \n",
              "  <svg xmlns=\"http://www.w3.org/2000/svg\" height=\"24px\"viewBox=\"0 0 24 24\"\n",
              "       width=\"24px\">\n",
              "    <path d=\"M0 0h24v24H0V0z\" fill=\"none\"/>\n",
              "    <path d=\"M18.56 5.44l.94 2.06.94-2.06 2.06-.94-2.06-.94-.94-2.06-.94 2.06-2.06.94zm-11 1L8.5 8.5l.94-2.06 2.06-.94-2.06-.94L8.5 2.5l-.94 2.06-2.06.94zm10 10l.94 2.06.94-2.06 2.06-.94-2.06-.94-.94-2.06-.94 2.06-2.06.94z\"/><path d=\"M17.41 7.96l-1.37-1.37c-.4-.4-.92-.59-1.43-.59-.52 0-1.04.2-1.43.59L10.3 9.45l-7.72 7.72c-.78.78-.78 2.05 0 2.83L4 21.41c.39.39.9.59 1.41.59.51 0 1.02-.2 1.41-.59l7.78-7.78 2.81-2.81c.8-.78.8-2.07 0-2.86zM5.41 20L4 18.59l7.72-7.72 1.47 1.35L5.41 20z\"/>\n",
              "  </svg>\n",
              "      </button>\n",
              "      \n",
              "  <style>\n",
              "    .colab-df-container {\n",
              "      display:flex;\n",
              "      flex-wrap:wrap;\n",
              "      gap: 12px;\n",
              "    }\n",
              "\n",
              "    .colab-df-convert {\n",
              "      background-color: #E8F0FE;\n",
              "      border: none;\n",
              "      border-radius: 50%;\n",
              "      cursor: pointer;\n",
              "      display: none;\n",
              "      fill: #1967D2;\n",
              "      height: 32px;\n",
              "      padding: 0 0 0 0;\n",
              "      width: 32px;\n",
              "    }\n",
              "\n",
              "    .colab-df-convert:hover {\n",
              "      background-color: #E2EBFA;\n",
              "      box-shadow: 0px 1px 2px rgba(60, 64, 67, 0.3), 0px 1px 3px 1px rgba(60, 64, 67, 0.15);\n",
              "      fill: #174EA6;\n",
              "    }\n",
              "\n",
              "    [theme=dark] .colab-df-convert {\n",
              "      background-color: #3B4455;\n",
              "      fill: #D2E3FC;\n",
              "    }\n",
              "\n",
              "    [theme=dark] .colab-df-convert:hover {\n",
              "      background-color: #434B5C;\n",
              "      box-shadow: 0px 1px 3px 1px rgba(0, 0, 0, 0.15);\n",
              "      filter: drop-shadow(0px 1px 2px rgba(0, 0, 0, 0.3));\n",
              "      fill: #FFFFFF;\n",
              "    }\n",
              "  </style>\n",
              "\n",
              "      <script>\n",
              "        const buttonEl =\n",
              "          document.querySelector('#df-ea12f064-f25c-47f3-8d14-9d8467c80814 button.colab-df-convert');\n",
              "        buttonEl.style.display =\n",
              "          google.colab.kernel.accessAllowed ? 'block' : 'none';\n",
              "\n",
              "        async function convertToInteractive(key) {\n",
              "          const element = document.querySelector('#df-ea12f064-f25c-47f3-8d14-9d8467c80814');\n",
              "          const dataTable =\n",
              "            await google.colab.kernel.invokeFunction('convertToInteractive',\n",
              "                                                     [key], {});\n",
              "          if (!dataTable) return;\n",
              "\n",
              "          const docLinkHtml = 'Like what you see? Visit the ' +\n",
              "            '<a target=\"_blank\" href=https://colab.research.google.com/notebooks/data_table.ipynb>data table notebook</a>'\n",
              "            + ' to learn more about interactive tables.';\n",
              "          element.innerHTML = '';\n",
              "          dataTable['output_type'] = 'display_data';\n",
              "          await google.colab.output.renderOutput(dataTable, element);\n",
              "          const docLink = document.createElement('div');\n",
              "          docLink.innerHTML = docLinkHtml;\n",
              "          element.appendChild(docLink);\n",
              "        }\n",
              "      </script>\n",
              "    </div>\n",
              "  </div>\n",
              "  "
            ]
          },
          "metadata": {},
          "execution_count": 16
        }
      ]
    },
    {
      "cell_type": "markdown",
      "source": [
        "##F. Realice las tareas de limpieza y transformación necesarias"
      ],
      "metadata": {
        "id": "Ze6bFt4iQWRF"
      }
    },
    {
      "cell_type": "code",
      "source": [
        "df['fecha_adjudicacion'] = pd.to_datetime(df['fecha_adjudicacion'])\n",
        "df['precio_base'] = df['precio_base'].astype(float)\n",
        "df['duracion'] = df['duracion'].astype(float)\n",
        "df = df.drop('fecha_de_apertura_de_respuesta', axis=1)\n",
        "\n",
        "df.info()"
      ],
      "metadata": {
        "colab": {
          "base_uri": "https://localhost:8080/"
        },
        "id": "-GbCZB7gwRDW",
        "outputId": "2416f77a-bda4-48e2-b3cf-455db8d5b679"
      },
      "execution_count": 100,
      "outputs": [
        {
          "output_type": "stream",
          "name": "stdout",
          "text": [
            "<class 'pandas.core.frame.DataFrame'>\n",
            "RangeIndex: 450 entries, 0 to 449\n",
            "Data columns (total 53 columns):\n",
            " #   Column                          Non-Null Count  Dtype         \n",
            "---  ------                          --------------  -----         \n",
            " 0   entidad                         450 non-null    object        \n",
            " 1   nit_entidad                     450 non-null    object        \n",
            " 2   departamento_entidad            450 non-null    object        \n",
            " 3   ciudad_entidad                  450 non-null    object        \n",
            " 4   ordenentidad                    450 non-null    object        \n",
            " 5   codigo_pci                      450 non-null    object        \n",
            " 6   id_del_proceso                  450 non-null    object        \n",
            " 7   referencia_del_proceso          450 non-null    object        \n",
            " 8   ppi                             450 non-null    object        \n",
            " 9   id_del_portafolio               450 non-null    object        \n",
            " 10  nombre_del_procedimiento        449 non-null    object        \n",
            " 11  descripci_n_del_procedimiento   449 non-null    object        \n",
            " 12  fase                            450 non-null    object        \n",
            " 13  fecha_de_publicacion_del        450 non-null    object        \n",
            " 14  fecha_de_ultima_publicaci       450 non-null    object        \n",
            " 15  fecha_de_publicacion_fase_3     444 non-null    object        \n",
            " 16  precio_base                     450 non-null    float64       \n",
            " 17  modalidad_de_contratacion       450 non-null    object        \n",
            " 18  justificaci_n_modalidad_de      450 non-null    object        \n",
            " 19  duracion                        450 non-null    float64       \n",
            " 20  unidad_de_duracion              450 non-null    object        \n",
            " 21  ciudad_de_la_unidad_de          450 non-null    object        \n",
            " 22  nombre_de_la_unidad_de          450 non-null    object        \n",
            " 23  proveedores_invitados           450 non-null    object        \n",
            " 24  proveedores_con_invitacion      450 non-null    object        \n",
            " 25  visualizaciones_del             450 non-null    object        \n",
            " 26  proveedores_que_manifestaron    450 non-null    object        \n",
            " 27  respuestas_al_procedimiento     450 non-null    object        \n",
            " 28  respuestas_externas             450 non-null    object        \n",
            " 29  conteo_de_respuestas_a_ofertas  450 non-null    object        \n",
            " 30  proveedores_unicos_con          450 non-null    object        \n",
            " 31  numero_de_lotes                 450 non-null    object        \n",
            " 32  estado_del_procedimiento        450 non-null    object        \n",
            " 33  id_estado_del_procedimiento     450 non-null    object        \n",
            " 34  adjudicado                      450 non-null    object        \n",
            " 35  id_adjudicacion                 450 non-null    object        \n",
            " 36  codigoproveedor                 450 non-null    object        \n",
            " 37  departamento_proveedor          450 non-null    object        \n",
            " 38  ciudad_proveedor                450 non-null    object        \n",
            " 39  valor_total_adjudicacion        450 non-null    object        \n",
            " 40  nombre_del_adjudicador          450 non-null    object        \n",
            " 41  nombre_del_proveedor            450 non-null    object        \n",
            " 42  nit_del_proveedor_adjudicado    450 non-null    object        \n",
            " 43  codigo_principal_de_categoria   450 non-null    object        \n",
            " 44  estado_de_apertura_del_proceso  450 non-null    object        \n",
            " 45  tipo_de_contrato                450 non-null    object        \n",
            " 46  subtipo_de_contrato             450 non-null    object        \n",
            " 47  categorias_adicionales          450 non-null    object        \n",
            " 48  urlproceso                      450 non-null    object        \n",
            " 49  fecha_de_publicacion_fase_2     6 non-null      object        \n",
            " 50  fecha_de_recepcion_de           15 non-null     object        \n",
            " 51  fecha_de_apertura_efectiva      15 non-null     object        \n",
            " 52  fecha_adjudicacion              9 non-null      datetime64[ns]\n",
            "dtypes: datetime64[ns](1), float64(2), object(50)\n",
            "memory usage: 186.5+ KB\n"
          ]
        }
      ]
    },
    {
      "cell_type": "code",
      "source": [
        "#eliminar datos nulos\n",
        "df.fillna(value=0)\n",
        "#df=df.dropna(axis=0, how='any')\n",
        "df.info()\n",
        "pd.set_option('display.precision', 2)\n",
        "df.describe()"
      ],
      "metadata": {
        "colab": {
          "base_uri": "https://localhost:8080/",
          "height": 1000
        },
        "id": "KtwXyQ0qPZo-",
        "outputId": "615c62e1-870d-411f-b4ea-417bc8f1eadd"
      },
      "execution_count": 74,
      "outputs": [
        {
          "output_type": "stream",
          "name": "stdout",
          "text": [
            "<class 'pandas.core.frame.DataFrame'>\n",
            "RangeIndex: 450 entries, 0 to 449\n",
            "Data columns (total 54 columns):\n",
            " #   Column                          Non-Null Count  Dtype \n",
            "---  ------                          --------------  ----- \n",
            " 0   entidad                         450 non-null    object\n",
            " 1   nit_entidad                     450 non-null    object\n",
            " 2   departamento_entidad            450 non-null    object\n",
            " 3   ciudad_entidad                  450 non-null    object\n",
            " 4   ordenentidad                    450 non-null    object\n",
            " 5   codigo_pci                      450 non-null    object\n",
            " 6   id_del_proceso                  450 non-null    object\n",
            " 7   referencia_del_proceso          450 non-null    object\n",
            " 8   ppi                             450 non-null    object\n",
            " 9   id_del_portafolio               450 non-null    object\n",
            " 10  nombre_del_procedimiento        449 non-null    object\n",
            " 11  descripci_n_del_procedimiento   449 non-null    object\n",
            " 12  fase                            450 non-null    object\n",
            " 13  fecha_de_publicacion_del        450 non-null    object\n",
            " 14  fecha_de_ultima_publicaci       450 non-null    object\n",
            " 15  fecha_de_publicacion_fase_3     444 non-null    object\n",
            " 16  precio_base                     450 non-null    object\n",
            " 17  modalidad_de_contratacion       450 non-null    object\n",
            " 18  justificaci_n_modalidad_de      450 non-null    object\n",
            " 19  duracion                        450 non-null    object\n",
            " 20  unidad_de_duracion              450 non-null    object\n",
            " 21  ciudad_de_la_unidad_de          450 non-null    object\n",
            " 22  nombre_de_la_unidad_de          450 non-null    object\n",
            " 23  proveedores_invitados           450 non-null    object\n",
            " 24  proveedores_con_invitacion      450 non-null    object\n",
            " 25  visualizaciones_del             450 non-null    object\n",
            " 26  proveedores_que_manifestaron    450 non-null    object\n",
            " 27  respuestas_al_procedimiento     450 non-null    object\n",
            " 28  respuestas_externas             450 non-null    object\n",
            " 29  conteo_de_respuestas_a_ofertas  450 non-null    object\n",
            " 30  proveedores_unicos_con          450 non-null    object\n",
            " 31  numero_de_lotes                 450 non-null    object\n",
            " 32  estado_del_procedimiento        450 non-null    object\n",
            " 33  id_estado_del_procedimiento     450 non-null    object\n",
            " 34  adjudicado                      450 non-null    object\n",
            " 35  id_adjudicacion                 450 non-null    object\n",
            " 36  codigoproveedor                 450 non-null    object\n",
            " 37  departamento_proveedor          450 non-null    object\n",
            " 38  ciudad_proveedor                450 non-null    object\n",
            " 39  valor_total_adjudicacion        450 non-null    object\n",
            " 40  nombre_del_adjudicador          450 non-null    object\n",
            " 41  nombre_del_proveedor            450 non-null    object\n",
            " 42  nit_del_proveedor_adjudicado    450 non-null    object\n",
            " 43  codigo_principal_de_categoria   450 non-null    object\n",
            " 44  estado_de_apertura_del_proceso  450 non-null    object\n",
            " 45  tipo_de_contrato                450 non-null    object\n",
            " 46  subtipo_de_contrato             450 non-null    object\n",
            " 47  categorias_adicionales          450 non-null    object\n",
            " 48  urlproceso                      450 non-null    object\n",
            " 49  fecha_de_publicacion_fase_2     6 non-null      object\n",
            " 50  fecha_de_recepcion_de           15 non-null     object\n",
            " 51  fecha_de_apertura_de_respuesta  14 non-null     object\n",
            " 52  fecha_de_apertura_efectiva      15 non-null     object\n",
            " 53  fecha_adjudicacion              9 non-null      object\n",
            "dtypes: object(54)\n",
            "memory usage: 190.0+ KB\n"
          ]
        },
        {
          "output_type": "execute_result",
          "data": {
            "text/plain": [
              "                   entidad nit_entidad departamento_entidad ciudad_entidad  \\\n",
              "count                  450         450                  450            450   \n",
              "unique                   1           1                    1              1   \n",
              "top     MUNICIPIO DE YOPAL   891855017             Casanare          Yopal   \n",
              "freq                   450         450                  450            450   \n",
              "\n",
              "       ordenentidad codigo_pci   id_del_proceso referencia_del_proceso  ppi  \\\n",
              "count           450        450              450                    450  450   \n",
              "unique            1          1              450                    450    1   \n",
              "top     Territorial         No  CO1.REQ.1471256    MYCA-SE-CD-166-2020   ND   \n",
              "freq            450        450                1                      1  450   \n",
              "\n",
              "       id_del_portafolio  ... estado_de_apertura_del_proceso  \\\n",
              "count                450  ...                            450   \n",
              "unique               446  ...                              2   \n",
              "top     CO1.BDOS.1438015  ...                        Abierto   \n",
              "freq                   2  ...                            436   \n",
              "\n",
              "                      tipo_de_contrato subtipo_de_contrato  \\\n",
              "count                              450                 450   \n",
              "unique                               8                   1   \n",
              "top     Servicios de aprovisionamiento     No Especificado   \n",
              "freq                               436                 450   \n",
              "\n",
              "       categorias_adicionales  \\\n",
              "count                     450   \n",
              "unique                      2   \n",
              "top                        ND   \n",
              "freq                      449   \n",
              "\n",
              "                                               urlproceso  \\\n",
              "count                                                 450   \n",
              "unique                                                450   \n",
              "top     {'url': 'https://community.secop.gov.co/Public...   \n",
              "freq                                                    1   \n",
              "\n",
              "       fecha_de_publicacion_fase_2    fecha_de_recepcion_de  \\\n",
              "count                            6                       15   \n",
              "unique                           5                        8   \n",
              "top        2020-09-08T00:00:00.000  2020-10-02T00:00:00.000   \n",
              "freq                             2                        4   \n",
              "\n",
              "       fecha_de_apertura_de_respuesta fecha_de_apertura_efectiva  \\\n",
              "count                              14                         15   \n",
              "unique                             10                         10   \n",
              "top           2020-10-15T00:00:00.000    2020-10-15T00:00:00.000   \n",
              "freq                                3                          3   \n",
              "\n",
              "             fecha_adjudicacion  \n",
              "count                         9  \n",
              "unique                        8  \n",
              "top     2020-10-16T00:00:00.000  \n",
              "freq                          2  \n",
              "\n",
              "[4 rows x 54 columns]"
            ],
            "text/html": [
              "\n",
              "  <div id=\"df-dd24be1c-3548-4eb2-9431-fe5294c08cb0\">\n",
              "    <div class=\"colab-df-container\">\n",
              "      <div>\n",
              "<style scoped>\n",
              "    .dataframe tbody tr th:only-of-type {\n",
              "        vertical-align: middle;\n",
              "    }\n",
              "\n",
              "    .dataframe tbody tr th {\n",
              "        vertical-align: top;\n",
              "    }\n",
              "\n",
              "    .dataframe thead th {\n",
              "        text-align: right;\n",
              "    }\n",
              "</style>\n",
              "<table border=\"1\" class=\"dataframe\">\n",
              "  <thead>\n",
              "    <tr style=\"text-align: right;\">\n",
              "      <th></th>\n",
              "      <th>entidad</th>\n",
              "      <th>nit_entidad</th>\n",
              "      <th>departamento_entidad</th>\n",
              "      <th>ciudad_entidad</th>\n",
              "      <th>ordenentidad</th>\n",
              "      <th>codigo_pci</th>\n",
              "      <th>id_del_proceso</th>\n",
              "      <th>referencia_del_proceso</th>\n",
              "      <th>ppi</th>\n",
              "      <th>id_del_portafolio</th>\n",
              "      <th>...</th>\n",
              "      <th>estado_de_apertura_del_proceso</th>\n",
              "      <th>tipo_de_contrato</th>\n",
              "      <th>subtipo_de_contrato</th>\n",
              "      <th>categorias_adicionales</th>\n",
              "      <th>urlproceso</th>\n",
              "      <th>fecha_de_publicacion_fase_2</th>\n",
              "      <th>fecha_de_recepcion_de</th>\n",
              "      <th>fecha_de_apertura_de_respuesta</th>\n",
              "      <th>fecha_de_apertura_efectiva</th>\n",
              "      <th>fecha_adjudicacion</th>\n",
              "    </tr>\n",
              "  </thead>\n",
              "  <tbody>\n",
              "    <tr>\n",
              "      <th>count</th>\n",
              "      <td>450</td>\n",
              "      <td>450</td>\n",
              "      <td>450</td>\n",
              "      <td>450</td>\n",
              "      <td>450</td>\n",
              "      <td>450</td>\n",
              "      <td>450</td>\n",
              "      <td>450</td>\n",
              "      <td>450</td>\n",
              "      <td>450</td>\n",
              "      <td>...</td>\n",
              "      <td>450</td>\n",
              "      <td>450</td>\n",
              "      <td>450</td>\n",
              "      <td>450</td>\n",
              "      <td>450</td>\n",
              "      <td>6</td>\n",
              "      <td>15</td>\n",
              "      <td>14</td>\n",
              "      <td>15</td>\n",
              "      <td>9</td>\n",
              "    </tr>\n",
              "    <tr>\n",
              "      <th>unique</th>\n",
              "      <td>1</td>\n",
              "      <td>1</td>\n",
              "      <td>1</td>\n",
              "      <td>1</td>\n",
              "      <td>1</td>\n",
              "      <td>1</td>\n",
              "      <td>450</td>\n",
              "      <td>450</td>\n",
              "      <td>1</td>\n",
              "      <td>446</td>\n",
              "      <td>...</td>\n",
              "      <td>2</td>\n",
              "      <td>8</td>\n",
              "      <td>1</td>\n",
              "      <td>2</td>\n",
              "      <td>450</td>\n",
              "      <td>5</td>\n",
              "      <td>8</td>\n",
              "      <td>10</td>\n",
              "      <td>10</td>\n",
              "      <td>8</td>\n",
              "    </tr>\n",
              "    <tr>\n",
              "      <th>top</th>\n",
              "      <td>MUNICIPIO DE YOPAL</td>\n",
              "      <td>891855017</td>\n",
              "      <td>Casanare</td>\n",
              "      <td>Yopal</td>\n",
              "      <td>Territorial</td>\n",
              "      <td>No</td>\n",
              "      <td>CO1.REQ.1471256</td>\n",
              "      <td>MYCA-SE-CD-166-2020</td>\n",
              "      <td>ND</td>\n",
              "      <td>CO1.BDOS.1438015</td>\n",
              "      <td>...</td>\n",
              "      <td>Abierto</td>\n",
              "      <td>Servicios de aprovisionamiento</td>\n",
              "      <td>No Especificado</td>\n",
              "      <td>ND</td>\n",
              "      <td>{'url': 'https://community.secop.gov.co/Public...</td>\n",
              "      <td>2020-09-08T00:00:00.000</td>\n",
              "      <td>2020-10-02T00:00:00.000</td>\n",
              "      <td>2020-10-15T00:00:00.000</td>\n",
              "      <td>2020-10-15T00:00:00.000</td>\n",
              "      <td>2020-10-16T00:00:00.000</td>\n",
              "    </tr>\n",
              "    <tr>\n",
              "      <th>freq</th>\n",
              "      <td>450</td>\n",
              "      <td>450</td>\n",
              "      <td>450</td>\n",
              "      <td>450</td>\n",
              "      <td>450</td>\n",
              "      <td>450</td>\n",
              "      <td>1</td>\n",
              "      <td>1</td>\n",
              "      <td>450</td>\n",
              "      <td>2</td>\n",
              "      <td>...</td>\n",
              "      <td>436</td>\n",
              "      <td>436</td>\n",
              "      <td>450</td>\n",
              "      <td>449</td>\n",
              "      <td>1</td>\n",
              "      <td>2</td>\n",
              "      <td>4</td>\n",
              "      <td>3</td>\n",
              "      <td>3</td>\n",
              "      <td>2</td>\n",
              "    </tr>\n",
              "  </tbody>\n",
              "</table>\n",
              "<p>4 rows × 54 columns</p>\n",
              "</div>\n",
              "      <button class=\"colab-df-convert\" onclick=\"convertToInteractive('df-dd24be1c-3548-4eb2-9431-fe5294c08cb0')\"\n",
              "              title=\"Convert this dataframe to an interactive table.\"\n",
              "              style=\"display:none;\">\n",
              "        \n",
              "  <svg xmlns=\"http://www.w3.org/2000/svg\" height=\"24px\"viewBox=\"0 0 24 24\"\n",
              "       width=\"24px\">\n",
              "    <path d=\"M0 0h24v24H0V0z\" fill=\"none\"/>\n",
              "    <path d=\"M18.56 5.44l.94 2.06.94-2.06 2.06-.94-2.06-.94-.94-2.06-.94 2.06-2.06.94zm-11 1L8.5 8.5l.94-2.06 2.06-.94-2.06-.94L8.5 2.5l-.94 2.06-2.06.94zm10 10l.94 2.06.94-2.06 2.06-.94-2.06-.94-.94-2.06-.94 2.06-2.06.94z\"/><path d=\"M17.41 7.96l-1.37-1.37c-.4-.4-.92-.59-1.43-.59-.52 0-1.04.2-1.43.59L10.3 9.45l-7.72 7.72c-.78.78-.78 2.05 0 2.83L4 21.41c.39.39.9.59 1.41.59.51 0 1.02-.2 1.41-.59l7.78-7.78 2.81-2.81c.8-.78.8-2.07 0-2.86zM5.41 20L4 18.59l7.72-7.72 1.47 1.35L5.41 20z\"/>\n",
              "  </svg>\n",
              "      </button>\n",
              "      \n",
              "  <style>\n",
              "    .colab-df-container {\n",
              "      display:flex;\n",
              "      flex-wrap:wrap;\n",
              "      gap: 12px;\n",
              "    }\n",
              "\n",
              "    .colab-df-convert {\n",
              "      background-color: #E8F0FE;\n",
              "      border: none;\n",
              "      border-radius: 50%;\n",
              "      cursor: pointer;\n",
              "      display: none;\n",
              "      fill: #1967D2;\n",
              "      height: 32px;\n",
              "      padding: 0 0 0 0;\n",
              "      width: 32px;\n",
              "    }\n",
              "\n",
              "    .colab-df-convert:hover {\n",
              "      background-color: #E2EBFA;\n",
              "      box-shadow: 0px 1px 2px rgba(60, 64, 67, 0.3), 0px 1px 3px 1px rgba(60, 64, 67, 0.15);\n",
              "      fill: #174EA6;\n",
              "    }\n",
              "\n",
              "    [theme=dark] .colab-df-convert {\n",
              "      background-color: #3B4455;\n",
              "      fill: #D2E3FC;\n",
              "    }\n",
              "\n",
              "    [theme=dark] .colab-df-convert:hover {\n",
              "      background-color: #434B5C;\n",
              "      box-shadow: 0px 1px 3px 1px rgba(0, 0, 0, 0.15);\n",
              "      filter: drop-shadow(0px 1px 2px rgba(0, 0, 0, 0.3));\n",
              "      fill: #FFFFFF;\n",
              "    }\n",
              "  </style>\n",
              "\n",
              "      <script>\n",
              "        const buttonEl =\n",
              "          document.querySelector('#df-dd24be1c-3548-4eb2-9431-fe5294c08cb0 button.colab-df-convert');\n",
              "        buttonEl.style.display =\n",
              "          google.colab.kernel.accessAllowed ? 'block' : 'none';\n",
              "\n",
              "        async function convertToInteractive(key) {\n",
              "          const element = document.querySelector('#df-dd24be1c-3548-4eb2-9431-fe5294c08cb0');\n",
              "          const dataTable =\n",
              "            await google.colab.kernel.invokeFunction('convertToInteractive',\n",
              "                                                     [key], {});\n",
              "          if (!dataTable) return;\n",
              "\n",
              "          const docLinkHtml = 'Like what you see? Visit the ' +\n",
              "            '<a target=\"_blank\" href=https://colab.research.google.com/notebooks/data_table.ipynb>data table notebook</a>'\n",
              "            + ' to learn more about interactive tables.';\n",
              "          element.innerHTML = '';\n",
              "          dataTable['output_type'] = 'display_data';\n",
              "          await google.colab.output.renderOutput(dataTable, element);\n",
              "          const docLink = document.createElement('div');\n",
              "          docLink.innerHTML = docLinkHtml;\n",
              "          element.appendChild(docLink);\n",
              "        }\n",
              "      </script>\n",
              "    </div>\n",
              "  </div>\n",
              "  "
            ]
          },
          "metadata": {},
          "execution_count": 74
        }
      ]
    },
    {
      "cell_type": "code",
      "source": [
        "df = df.sort_values(by='precio_base', ascending=False)"
      ],
      "metadata": {
        "id": "Y3qft4FIkVT0"
      },
      "execution_count": 102,
      "outputs": []
    },
    {
      "cell_type": "code",
      "source": [
        "print(df['duracion'].describe())\n"
      ],
      "metadata": {
        "colab": {
          "base_uri": "https://localhost:8080/"
        },
        "id": "fVgZ7ujNzYYM",
        "outputId": "89645769-ecd5-4ec1-c212-d3e25592e6f3"
      },
      "execution_count": 110,
      "outputs": [
        {
          "output_type": "stream",
          "name": "stdout",
          "text": [
            "count    450.00\n",
            "mean      36.72\n",
            "std       46.34\n",
            "min        2.00\n",
            "25%        3.00\n",
            "50%        3.00\n",
            "75%      100.00\n",
            "max      140.00\n",
            "Name: duracion, dtype: float64\n"
          ]
        }
      ]
    },
    {
      "cell_type": "markdown",
      "source": [
        "##G. Presentar el dataset, mostrando datos estadísticos y gráficas"
      ],
      "metadata": {
        "id": "7wzmBtT1QdA7"
      }
    },
    {
      "cell_type": "code",
      "source": [
        "var=list((df['precio_base']))\n",
        "precio_base=[]\n",
        "for i in range(len(var)):\n",
        "  precio_base.append(int(var[i]))\n",
        "\n",
        "precio_base_a=np.array(precio_base)\n",
        "print('la media de los contratos adjudicados son:', np.mean(precio_base_a))"
      ],
      "metadata": {
        "colab": {
          "base_uri": "https://localhost:8080/"
        },
        "id": "GL593QB8ngKZ",
        "outputId": "4702fd53-7072-47b3-ce3f-ee1733172b74"
      },
      "execution_count": 111,
      "outputs": [
        {
          "output_type": "stream",
          "name": "stdout",
          "text": [
            "la media de los contratos adjudicados son: 40569894.94\n"
          ]
        }
      ]
    },
    {
      "cell_type": "code",
      "source": [
        "plt.figure(figsize=(10, 6))\n",
        "plt.scatter(df['precio_base'], df['duracion'], color='purple', marker='+')\n",
        "plt.xlabel('Valor')\n",
        "plt.ylabel('Año')\n",
        "plt.xticks(rotation=45)\n",
        "plt.title('Variación de SECOP')"
      ],
      "metadata": {
        "id": "fFi8blJpqJVB",
        "outputId": "d2872210-4280-4172-abc1-a8ed68c445ef",
        "colab": {
          "base_uri": "https://localhost:8080/",
          "height": 583
        }
      },
      "execution_count": 112,
      "outputs": [
        {
          "output_type": "execute_result",
          "data": {
            "text/plain": [
              "Text(0.5, 1.0, 'Variación de SECOP')"
            ]
          },
          "metadata": {},
          "execution_count": 112
        },
        {
          "output_type": "display_data",
          "data": {
            "text/plain": [
              "<Figure size 1000x600 with 1 Axes>"
            ],
            "image/png": "[encoded data removed]"
          },
          "metadata": {}
        }
      ]
    },
    {
      "cell_type": "code",
      "source": [
        "df.info()"
      ],
      "metadata": {
        "id": "hpJvEWe9yK4A",
        "outputId": "2a7ff9d4-3f37-4b51-c86d-1505f46c0766",
        "colab": {
          "base_uri": "https://localhost:8080/"
        }
      },
      "execution_count": 104,
      "outputs": [
        {
          "output_type": "stream",
          "name": "stdout",
          "text": [
            "<class 'pandas.core.frame.DataFrame'>\n",
            "Int64Index: 450 entries, 257 to 0\n",
            "Data columns (total 53 columns):\n",
            " #   Column                          Non-Null Count  Dtype         \n",
            "---  ------                          --------------  -----         \n",
            " 0   entidad                         450 non-null    object        \n",
            " 1   nit_entidad                     450 non-null    object        \n",
            " 2   departamento_entidad            450 non-null    object        \n",
            " 3   ciudad_entidad                  450 non-null    object        \n",
            " 4   ordenentidad                    450 non-null    object        \n",
            " 5   codigo_pci                      450 non-null    object        \n",
            " 6   id_del_proceso                  450 non-null    object        \n",
            " 7   referencia_del_proceso          450 non-null    object        \n",
            " 8   ppi                             450 non-null    object        \n",
            " 9   id_del_portafolio               450 non-null    object        \n",
            " 10  nombre_del_procedimiento        449 non-null    object        \n",
            " 11  descripci_n_del_procedimiento   449 non-null    object        \n",
            " 12  fase                            450 non-null    object        \n",
            " 13  fecha_de_publicacion_del        450 non-null    object        \n",
            " 14  fecha_de_ultima_publicaci       450 non-null    object        \n",
            " 15  fecha_de_publicacion_fase_3     444 non-null    object        \n",
            " 16  precio_base                     450 non-null    float64       \n",
            " 17  modalidad_de_contratacion       450 non-null    object        \n",
            " 18  justificaci_n_modalidad_de      450 non-null    object        \n",
            " 19  duracion                        450 non-null    float64       \n",
            " 20  unidad_de_duracion              450 non-null    object        \n",
            " 21  ciudad_de_la_unidad_de          450 non-null    object        \n",
            " 22  nombre_de_la_unidad_de          450 non-null    object        \n",
            " 23  proveedores_invitados           450 non-null    object        \n",
            " 24  proveedores_con_invitacion      450 non-null    object        \n",
            " 25  visualizaciones_del             450 non-null    object        \n",
            " 26  proveedores_que_manifestaron    450 non-null    object        \n",
            " 27  respuestas_al_procedimiento     450 non-null    object        \n",
            " 28  respuestas_externas             450 non-null    object        \n",
            " 29  conteo_de_respuestas_a_ofertas  450 non-null    object        \n",
            " 30  proveedores_unicos_con          450 non-null    object        \n",
            " 31  numero_de_lotes                 450 non-null    object        \n",
            " 32  estado_del_procedimiento        450 non-null    object        \n",
            " 33  id_estado_del_procedimiento     450 non-null    object        \n",
            " 34  adjudicado                      450 non-null    object        \n",
            " 35  id_adjudicacion                 450 non-null    object        \n",
            " 36  codigoproveedor                 450 non-null    object        \n",
            " 37  departamento_proveedor          450 non-null    object        \n",
            " 38  ciudad_proveedor                450 non-null    object        \n",
            " 39  valor_total_adjudicacion        450 non-null    object        \n",
            " 40  nombre_del_adjudicador          450 non-null    object        \n",
            " 41  nombre_del_proveedor            450 non-null    object        \n",
            " 42  nit_del_proveedor_adjudicado    450 non-null    object        \n",
            " 43  codigo_principal_de_categoria   450 non-null    object        \n",
            " 44  estado_de_apertura_del_proceso  450 non-null    object        \n",
            " 45  tipo_de_contrato                450 non-null    object        \n",
            " 46  subtipo_de_contrato             450 non-null    object        \n",
            " 47  categorias_adicionales          450 non-null    object        \n",
            " 48  urlproceso                      450 non-null    object        \n",
            " 49  fecha_de_publicacion_fase_2     6 non-null      object        \n",
            " 50  fecha_de_recepcion_de           15 non-null     object        \n",
            " 51  fecha_de_apertura_efectiva      15 non-null     object        \n",
            " 52  fecha_adjudicacion              9 non-null      datetime64[ns]\n",
            "dtypes: datetime64[ns](1), float64(2), object(50)\n",
            "memory usage: 189.8+ KB\n"
          ]
        }
      ]
    },
    {
      "cell_type": "code",
      "source": [
        "boxplot = df.boxplot(column=['precio_base'],by=\"duracion\", rot=45, fontsize=9)\n",
        "boxplot.plot()\n",
        "\n",
        "plt.show()"
      ],
      "metadata": {
        "id": "YxMn7Y8xu4JB",
        "outputId": "bfe79fd1-b91c-4a46-a84e-f7d9ae2a2272",
        "colab": {
          "base_uri": "https://localhost:8080/",
          "height": 499
        }
      },
      "execution_count": 106,
      "outputs": [
        {
          "output_type": "display_data",
          "data": {
            "text/plain": [
              "<Figure size 640x480 with 1 Axes>"
            ],
            "image/png": "[encoded data removed]"
          },
          "metadata": {}
        }
      ]
    },
    {
      "cell_type": "markdown",
      "source": [
        "##Analisis de Grafica\n",
        "En la anterior grafica se evidencia que los contratos en SECOP I generalmente estan **6 meses** y su costo tambien por semestre domina la grafica."
      ],
      "metadata": {
        "id": "D3xtebe80SEO"
      }
    },
    {
      "cell_type": "markdown",
      "source": [
        "##H. Se debe incluir mínimo una tabla pivote y una agrupación"
      ],
      "metadata": {
        "id": "iFTeqgQuQioW"
      }
    },
    {
      "cell_type": "markdown",
      "source": [
        "##I. Todas las gráficas deben ser explicadas\n"
      ],
      "metadata": {
        "id": "ut0pp5QwQ84u"
      }
    }
  ]
}