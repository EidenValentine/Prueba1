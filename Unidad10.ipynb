{
  "nbformat": 4,
  "nbformat_minor": 0,
  "metadata": {
    "colab": {
      "provenance": [],
      "authorship_tag": "ABX9TyPwy1MkMdDDsIiRbkMflJdN",
      "include_colab_link": true
    },
    "kernelspec": {
      "name": "python3",
      "display_name": "Python 3"
    },
    "language_info": {
      "name": "python"
    }
  },
  "cells": [
    {
      "cell_type": "markdown",
      "metadata": {
        "id": "view-in-github",
        "colab_type": "text"
      },
      "source": [
        "<a href=\"https://colab.research.google.com/github/EidenValentine/Prueba1/blob/main/Unidad10.ipynb\" target=\"_parent\"><img src=\"https://colab.research.google.com/assets/colab-badge.svg\" alt=\"Open In Colab\"/></a>"
      ]
    },
    {
      "cell_type": "markdown",
      "source": [
        "# Unidad 10.\n",
        "Trabajo de analisis de datos financioeros del peso colombiano."
      ],
      "metadata": {
        "id": "e0hCYcBCk3ng"
      }
    },
    {
      "cell_type": "markdown",
      "source": [
        "Cargue y visualización de datos\n"
      ],
      "metadata": {
        "id": "MHJNZfRLciOP"
      }
    },
    {
      "cell_type": "markdown",
      "source": [
        "##1. Cargar el dataset disponible en https://www.datos.gov.co/Econom-a-y-Finanzas/Tasa-de-Cambio-Representativa-del-Mercado-TRM/32sa-8pi3/explore\n"
      ],
      "metadata": {
        "id": "zNb5qIjb3Ise"
      }
    },
    {
      "cell_type": "code",
      "source": [
        "import pandas as pd\n",
        "import numpy as np\n",
        "import statsmodels.api as sm \n",
        "import matplotlib.pyplot as plt\n",
        "import seaborn as sns\n",
        "import plotly.express as px"
      ],
      "metadata": {
        "id": "jol-1K0VCBGa"
      },
      "execution_count": 151,
      "outputs": []
    },
    {
      "cell_type": "code",
      "source": [
        "df_1= pd.read_csv('/content/Tasa_de_Cambio_Representativa_del_Mercado-_TRM.csv')\n",
        "df_1.head()"
      ],
      "metadata": {
        "colab": {
          "base_uri": "https://localhost:8080/",
          "height": 206
        },
        "id": "8frDjP20Gd_C",
        "outputId": "e792f199-7ed0-4d74-e9d5-64e96a1933ff"
      },
      "execution_count": 152,
      "outputs": [
        {
          "output_type": "execute_result",
          "data": {
            "text/plain": [
              "     VALOR UNIDAD VIGENCIADESDE VIGENCIAHASTA\n",
              "0  4761.64    COP    22/12/2022    22/12/2022\n",
              "1  4781.28    COP    20/12/2022    20/12/2022\n",
              "2  4802.48    COP    17/12/2022    19/12/2022\n",
              "3  4836.24    COP    13/12/2022    13/12/2022\n",
              "4  4815.99    COP    10/12/2022    12/12/2022"
            ],
            "text/html": [
              "\n",
              "  <div id=\"df-072cf5ed-ad74-454e-8de5-de5186dd8f25\">\n",
              "    <div class=\"colab-df-container\">\n",
              "      <div>\n",
              "<style scoped>\n",
              "    .dataframe tbody tr th:only-of-type {\n",
              "        vertical-align: middle;\n",
              "    }\n",
              "\n",
              "    .dataframe tbody tr th {\n",
              "        vertical-align: top;\n",
              "    }\n",
              "\n",
              "    .dataframe thead th {\n",
              "        text-align: right;\n",
              "    }\n",
              "</style>\n",
              "<table border=\"1\" class=\"dataframe\">\n",
              "  <thead>\n",
              "    <tr style=\"text-align: right;\">\n",
              "      <th></th>\n",
              "      <th>VALOR</th>\n",
              "      <th>UNIDAD</th>\n",
              "      <th>VIGENCIADESDE</th>\n",
              "      <th>VIGENCIAHASTA</th>\n",
              "    </tr>\n",
              "  </thead>\n",
              "  <tbody>\n",
              "    <tr>\n",
              "      <th>0</th>\n",
              "      <td>4761.64</td>\n",
              "      <td>COP</td>\n",
              "      <td>22/12/2022</td>\n",
              "      <td>22/12/2022</td>\n",
              "    </tr>\n",
              "    <tr>\n",
              "      <th>1</th>\n",
              "      <td>4781.28</td>\n",
              "      <td>COP</td>\n",
              "      <td>20/12/2022</td>\n",
              "      <td>20/12/2022</td>\n",
              "    </tr>\n",
              "    <tr>\n",
              "      <th>2</th>\n",
              "      <td>4802.48</td>\n",
              "      <td>COP</td>\n",
              "      <td>17/12/2022</td>\n",
              "      <td>19/12/2022</td>\n",
              "    </tr>\n",
              "    <tr>\n",
              "      <th>3</th>\n",
              "      <td>4836.24</td>\n",
              "      <td>COP</td>\n",
              "      <td>13/12/2022</td>\n",
              "      <td>13/12/2022</td>\n",
              "    </tr>\n",
              "    <tr>\n",
              "      <th>4</th>\n",
              "      <td>4815.99</td>\n",
              "      <td>COP</td>\n",
              "      <td>10/12/2022</td>\n",
              "      <td>12/12/2022</td>\n",
              "    </tr>\n",
              "  </tbody>\n",
              "</table>\n",
              "</div>\n",
              "      <button class=\"colab-df-convert\" onclick=\"convertToInteractive('df-072cf5ed-ad74-454e-8de5-de5186dd8f25')\"\n",
              "              title=\"Convert this dataframe to an interactive table.\"\n",
              "              style=\"display:none;\">\n",
              "        \n",
              "  <svg xmlns=\"http://www.w3.org/2000/svg\" height=\"24px\"viewBox=\"0 0 24 24\"\n",
              "       width=\"24px\">\n",
              "    <path d=\"M0 0h24v24H0V0z\" fill=\"none\"/>\n",
              "    <path d=\"M18.56 5.44l.94 2.06.94-2.06 2.06-.94-2.06-.94-.94-2.06-.94 2.06-2.06.94zm-11 1L8.5 8.5l.94-2.06 2.06-.94-2.06-.94L8.5 2.5l-.94 2.06-2.06.94zm10 10l.94 2.06.94-2.06 2.06-.94-2.06-.94-.94-2.06-.94 2.06-2.06.94z\"/><path d=\"M17.41 7.96l-1.37-1.37c-.4-.4-.92-.59-1.43-.59-.52 0-1.04.2-1.43.59L10.3 9.45l-7.72 7.72c-.78.78-.78 2.05 0 2.83L4 21.41c.39.39.9.59 1.41.59.51 0 1.02-.2 1.41-.59l7.78-7.78 2.81-2.81c.8-.78.8-2.07 0-2.86zM5.41 20L4 18.59l7.72-7.72 1.47 1.35L5.41 20z\"/>\n",
              "  </svg>\n",
              "      </button>\n",
              "      \n",
              "  <style>\n",
              "    .colab-df-container {\n",
              "      display:flex;\n",
              "      flex-wrap:wrap;\n",
              "      gap: 12px;\n",
              "    }\n",
              "\n",
              "    .colab-df-convert {\n",
              "      background-color: #E8F0FE;\n",
              "      border: none;\n",
              "      border-radius: 50%;\n",
              "      cursor: pointer;\n",
              "      display: none;\n",
              "      fill: #1967D2;\n",
              "      height: 32px;\n",
              "      padding: 0 0 0 0;\n",
              "      width: 32px;\n",
              "    }\n",
              "\n",
              "    .colab-df-convert:hover {\n",
              "      background-color: #E2EBFA;\n",
              "      box-shadow: 0px 1px 2px rgba(60, 64, 67, 0.3), 0px 1px 3px 1px rgba(60, 64, 67, 0.15);\n",
              "      fill: #174EA6;\n",
              "    }\n",
              "\n",
              "    [theme=dark] .colab-df-convert {\n",
              "      background-color: #3B4455;\n",
              "      fill: #D2E3FC;\n",
              "    }\n",
              "\n",
              "    [theme=dark] .colab-df-convert:hover {\n",
              "      background-color: #434B5C;\n",
              "      box-shadow: 0px 1px 3px 1px rgba(0, 0, 0, 0.15);\n",
              "      filter: drop-shadow(0px 1px 2px rgba(0, 0, 0, 0.3));\n",
              "      fill: #FFFFFF;\n",
              "    }\n",
              "  </style>\n",
              "\n",
              "      <script>\n",
              "        const buttonEl =\n",
              "          document.querySelector('#df-072cf5ed-ad74-454e-8de5-de5186dd8f25 button.colab-df-convert');\n",
              "        buttonEl.style.display =\n",
              "          google.colab.kernel.accessAllowed ? 'block' : 'none';\n",
              "\n",
              "        async function convertToInteractive(key) {\n",
              "          const element = document.querySelector('#df-072cf5ed-ad74-454e-8de5-de5186dd8f25');\n",
              "          const dataTable =\n",
              "            await google.colab.kernel.invokeFunction('convertToInteractive',\n",
              "                                                     [key], {});\n",
              "          if (!dataTable) return;\n",
              "\n",
              "          const docLinkHtml = 'Like what you see? Visit the ' +\n",
              "            '<a target=\"_blank\" href=https://colab.research.google.com/notebooks/data_table.ipynb>data table notebook</a>'\n",
              "            + ' to learn more about interactive tables.';\n",
              "          element.innerHTML = '';\n",
              "          dataTable['output_type'] = 'display_data';\n",
              "          await google.colab.output.renderOutput(dataTable, element);\n",
              "          const docLink = document.createElement('div');\n",
              "          docLink.innerHTML = docLinkHtml;\n",
              "          element.appendChild(docLink);\n",
              "        }\n",
              "      </script>\n",
              "    </div>\n",
              "  </div>\n",
              "  "
            ]
          },
          "metadata": {},
          "execution_count": 152
        }
      ]
    },
    {
      "cell_type": "code",
      "source": [
        "df_1.info()"
      ],
      "metadata": {
        "colab": {
          "base_uri": "https://localhost:8080/"
        },
        "id": "mEYUBFCXhhjb",
        "outputId": "63702ff3-21d7-4152-8484-a4ac632a64ec"
      },
      "execution_count": 153,
      "outputs": [
        {
          "output_type": "stream",
          "name": "stdout",
          "text": [
            "<class 'pandas.core.frame.DataFrame'>\n",
            "RangeIndex: 7570 entries, 0 to 7569\n",
            "Data columns (total 4 columns):\n",
            " #   Column         Non-Null Count  Dtype  \n",
            "---  ------         --------------  -----  \n",
            " 0   VALOR          7570 non-null   float64\n",
            " 1   UNIDAD         7570 non-null   object \n",
            " 2   VIGENCIADESDE  7570 non-null   object \n",
            " 3   VIGENCIAHASTA  7570 non-null   object \n",
            "dtypes: float64(1), object(3)\n",
            "memory usage: 236.7+ KB\n"
          ]
        }
      ]
    },
    {
      "cell_type": "code",
      "source": [
        "tipo_datos_fecha = df_1['VIGENCIADESDE'].dtype\n",
        "print(\"Tipo de datos de la columna VIGENCIADESDE: \", tipo_datos_fecha)"
      ],
      "metadata": {
        "colab": {
          "base_uri": "https://localhost:8080/"
        },
        "id": "_5QNjQQqlpMM",
        "outputId": "bc000698-c4df-4e72-a7cd-d36f507f89be"
      },
      "execution_count": 154,
      "outputs": [
        {
          "output_type": "stream",
          "name": "stdout",
          "text": [
            "Tipo de datos de la columna VIGENCIADESDE:  object\n"
          ]
        }
      ]
    },
    {
      "cell_type": "code",
      "source": [
        "tipo_datos_fecha = df_1['VIGENCIAHASTA'].dtype\n",
        "print(\"Tipo de datos de la columna VIGENCIAHASTA: \", tipo_datos_fecha)"
      ],
      "metadata": {
        "colab": {
          "base_uri": "https://localhost:8080/"
        },
        "id": "ad49bwkel1CE",
        "outputId": "c1a74e8f-a470-4a03-dfd0-82f901a1ec96"
      },
      "execution_count": 155,
      "outputs": [
        {
          "output_type": "stream",
          "name": "stdout",
          "text": [
            "Tipo de datos de la columna VIGENCIAHASTA:  object\n"
          ]
        }
      ]
    },
    {
      "cell_type": "code",
      "source": [
        "df_1['VIGENCIADESDE'] = pd.to_datetime(df_1['VIGENCIADESDE'])"
      ],
      "metadata": {
        "id": "hdqCEO3fl5P_",
        "colab": {
          "base_uri": "https://localhost:8080/"
        },
        "outputId": "4927684f-5e26-4466-8070-b72e56902f54"
      },
      "execution_count": 156,
      "outputs": [
        {
          "output_type": "stream",
          "name": "stderr",
          "text": [
            "<ipython-input-156-6c0e568a72c8>:1: UserWarning: Parsing dates in DD/MM/YYYY format when dayfirst=False (the default) was specified. This may lead to inconsistently parsed dates! Specify a format to ensure consistent parsing.\n",
            "  df_1['VIGENCIADESDE'] = pd.to_datetime(df_1['VIGENCIADESDE'])\n"
          ]
        }
      ]
    },
    {
      "cell_type": "code",
      "source": [
        "df_1['VIGENCIAHASTA'] = pd.to_datetime(df_1['VIGENCIAHASTA'])"
      ],
      "metadata": {
        "id": "cC7HTiv5mQMm",
        "colab": {
          "base_uri": "https://localhost:8080/"
        },
        "outputId": "aff26cad-d536-40d4-f67f-177dadb01bdb"
      },
      "execution_count": 157,
      "outputs": [
        {
          "output_type": "stream",
          "name": "stderr",
          "text": [
            "<ipython-input-157-24e22dbe6354>:1: UserWarning: Parsing dates in DD/MM/YYYY format when dayfirst=False (the default) was specified. This may lead to inconsistently parsed dates! Specify a format to ensure consistent parsing.\n",
            "  df_1['VIGENCIAHASTA'] = pd.to_datetime(df_1['VIGENCIAHASTA'])\n"
          ]
        }
      ]
    },
    {
      "cell_type": "code",
      "source": [
        "fecha_minima = df_1['VIGENCIADESDE'].min()\n",
        "fecha_maxima = df_1['VIGENCIADESDE'].max()\n",
        "print(\"Fecha minima: \", fecha_minima)\n",
        "print(\"Fecha maxima: \", fecha_maxima)"
      ],
      "metadata": {
        "colab": {
          "base_uri": "https://localhost:8080/"
        },
        "id": "YnOoJrXImiWM",
        "outputId": "cd851774-5cad-4ef1-a199-14bed3cafffc"
      },
      "execution_count": 158,
      "outputs": [
        {
          "output_type": "stream",
          "name": "stdout",
          "text": [
            "Fecha minima:  1991-02-12 00:00:00\n",
            "Fecha maxima:  2023-12-05 00:00:00\n"
          ]
        }
      ]
    },
    {
      "cell_type": "code",
      "source": [
        "df_1.rename(columns={'VIGENCIADESDE': 'DESDE'}, inplace=True)\n",
        "df_1.rename(columns={'VIGENCIAHASTA': 'HASTA'}, inplace=True)"
      ],
      "metadata": {
        "id": "cy_SYHIvnO0D"
      },
      "execution_count": 159,
      "outputs": []
    },
    {
      "cell_type": "code",
      "source": [
        "df_1.info()"
      ],
      "metadata": {
        "colab": {
          "base_uri": "https://localhost:8080/"
        },
        "id": "FH7cSgHzpkZT",
        "outputId": "ed85f97e-f5e4-429e-c8d6-2cd375e39051"
      },
      "execution_count": 160,
      "outputs": [
        {
          "output_type": "stream",
          "name": "stdout",
          "text": [
            "<class 'pandas.core.frame.DataFrame'>\n",
            "RangeIndex: 7570 entries, 0 to 7569\n",
            "Data columns (total 4 columns):\n",
            " #   Column  Non-Null Count  Dtype         \n",
            "---  ------  --------------  -----         \n",
            " 0   VALOR   7570 non-null   float64       \n",
            " 1   UNIDAD  7570 non-null   object        \n",
            " 2   DESDE   7570 non-null   datetime64[ns]\n",
            " 3   HASTA   7570 non-null   datetime64[ns]\n",
            "dtypes: datetime64[ns](2), float64(1), object(1)\n",
            "memory usage: 236.7+ KB\n"
          ]
        }
      ]
    },
    {
      "cell_type": "code",
      "source": [
        "df_1['Diferencia Porcentual'] = ((df_1['VALOR'] - df_1['VALOR'].shift(1)) / df_1['VALOR'].shift(1)) * 100"
      ],
      "metadata": {
        "id": "jY3QLYz30HsZ"
      },
      "execution_count": 161,
      "outputs": []
    },
    {
      "cell_type": "code",
      "source": [
        "df_1.head()"
      ],
      "metadata": {
        "colab": {
          "base_uri": "https://localhost:8080/",
          "height": 206
        },
        "id": "mj_QoXEa0boD",
        "outputId": "7342b9e4-74f6-47f3-fda2-8d6d2f025b9c"
      },
      "execution_count": 162,
      "outputs": [
        {
          "output_type": "execute_result",
          "data": {
            "text/plain": [
              "     VALOR UNIDAD      DESDE      HASTA  Diferencia Porcentual\n",
              "0  4761.64    COP 2022-12-22 2022-12-22                    NaN\n",
              "1  4781.28    COP 2022-12-20 2022-12-20                   0.41\n",
              "2  4802.48    COP 2022-12-17 2022-12-19                   0.44\n",
              "3  4836.24    COP 2022-12-13 2022-12-13                   0.70\n",
              "4  4815.99    COP 2022-10-12 2022-12-12                  -0.42"
            ],
            "text/html": [
              "\n",
              "  <div id=\"df-6c654811-bde7-496a-8cef-a6b641fb5bb1\">\n",
              "    <div class=\"colab-df-container\">\n",
              "      <div>\n",
              "<style scoped>\n",
              "    .dataframe tbody tr th:only-of-type {\n",
              "        vertical-align: middle;\n",
              "    }\n",
              "\n",
              "    .dataframe tbody tr th {\n",
              "        vertical-align: top;\n",
              "    }\n",
              "\n",
              "    .dataframe thead th {\n",
              "        text-align: right;\n",
              "    }\n",
              "</style>\n",
              "<table border=\"1\" class=\"dataframe\">\n",
              "  <thead>\n",
              "    <tr style=\"text-align: right;\">\n",
              "      <th></th>\n",
              "      <th>VALOR</th>\n",
              "      <th>UNIDAD</th>\n",
              "      <th>DESDE</th>\n",
              "      <th>HASTA</th>\n",
              "      <th>Diferencia Porcentual</th>\n",
              "    </tr>\n",
              "  </thead>\n",
              "  <tbody>\n",
              "    <tr>\n",
              "      <th>0</th>\n",
              "      <td>4761.64</td>\n",
              "      <td>COP</td>\n",
              "      <td>2022-12-22</td>\n",
              "      <td>2022-12-22</td>\n",
              "      <td>NaN</td>\n",
              "    </tr>\n",
              "    <tr>\n",
              "      <th>1</th>\n",
              "      <td>4781.28</td>\n",
              "      <td>COP</td>\n",
              "      <td>2022-12-20</td>\n",
              "      <td>2022-12-20</td>\n",
              "      <td>0.41</td>\n",
              "    </tr>\n",
              "    <tr>\n",
              "      <th>2</th>\n",
              "      <td>4802.48</td>\n",
              "      <td>COP</td>\n",
              "      <td>2022-12-17</td>\n",
              "      <td>2022-12-19</td>\n",
              "      <td>0.44</td>\n",
              "    </tr>\n",
              "    <tr>\n",
              "      <th>3</th>\n",
              "      <td>4836.24</td>\n",
              "      <td>COP</td>\n",
              "      <td>2022-12-13</td>\n",
              "      <td>2022-12-13</td>\n",
              "      <td>0.70</td>\n",
              "    </tr>\n",
              "    <tr>\n",
              "      <th>4</th>\n",
              "      <td>4815.99</td>\n",
              "      <td>COP</td>\n",
              "      <td>2022-10-12</td>\n",
              "      <td>2022-12-12</td>\n",
              "      <td>-0.42</td>\n",
              "    </tr>\n",
              "  </tbody>\n",
              "</table>\n",
              "</div>\n",
              "      <button class=\"colab-df-convert\" onclick=\"convertToInteractive('df-6c654811-bde7-496a-8cef-a6b641fb5bb1')\"\n",
              "              title=\"Convert this dataframe to an interactive table.\"\n",
              "              style=\"display:none;\">\n",
              "        \n",
              "  <svg xmlns=\"http://www.w3.org/2000/svg\" height=\"24px\"viewBox=\"0 0 24 24\"\n",
              "       width=\"24px\">\n",
              "    <path d=\"M0 0h24v24H0V0z\" fill=\"none\"/>\n",
              "    <path d=\"M18.56 5.44l.94 2.06.94-2.06 2.06-.94-2.06-.94-.94-2.06-.94 2.06-2.06.94zm-11 1L8.5 8.5l.94-2.06 2.06-.94-2.06-.94L8.5 2.5l-.94 2.06-2.06.94zm10 10l.94 2.06.94-2.06 2.06-.94-2.06-.94-.94-2.06-.94 2.06-2.06.94z\"/><path d=\"M17.41 7.96l-1.37-1.37c-.4-.4-.92-.59-1.43-.59-.52 0-1.04.2-1.43.59L10.3 9.45l-7.72 7.72c-.78.78-.78 2.05 0 2.83L4 21.41c.39.39.9.59 1.41.59.51 0 1.02-.2 1.41-.59l7.78-7.78 2.81-2.81c.8-.78.8-2.07 0-2.86zM5.41 20L4 18.59l7.72-7.72 1.47 1.35L5.41 20z\"/>\n",
              "  </svg>\n",
              "      </button>\n",
              "      \n",
              "  <style>\n",
              "    .colab-df-container {\n",
              "      display:flex;\n",
              "      flex-wrap:wrap;\n",
              "      gap: 12px;\n",
              "    }\n",
              "\n",
              "    .colab-df-convert {\n",
              "      background-color: #E8F0FE;\n",
              "      border: none;\n",
              "      border-radius: 50%;\n",
              "      cursor: pointer;\n",
              "      display: none;\n",
              "      fill: #1967D2;\n",
              "      height: 32px;\n",
              "      padding: 0 0 0 0;\n",
              "      width: 32px;\n",
              "    }\n",
              "\n",
              "    .colab-df-convert:hover {\n",
              "      background-color: #E2EBFA;\n",
              "      box-shadow: 0px 1px 2px rgba(60, 64, 67, 0.3), 0px 1px 3px 1px rgba(60, 64, 67, 0.15);\n",
              "      fill: #174EA6;\n",
              "    }\n",
              "\n",
              "    [theme=dark] .colab-df-convert {\n",
              "      background-color: #3B4455;\n",
              "      fill: #D2E3FC;\n",
              "    }\n",
              "\n",
              "    [theme=dark] .colab-df-convert:hover {\n",
              "      background-color: #434B5C;\n",
              "      box-shadow: 0px 1px 3px 1px rgba(0, 0, 0, 0.15);\n",
              "      filter: drop-shadow(0px 1px 2px rgba(0, 0, 0, 0.3));\n",
              "      fill: #FFFFFF;\n",
              "    }\n",
              "  </style>\n",
              "\n",
              "      <script>\n",
              "        const buttonEl =\n",
              "          document.querySelector('#df-6c654811-bde7-496a-8cef-a6b641fb5bb1 button.colab-df-convert');\n",
              "        buttonEl.style.display =\n",
              "          google.colab.kernel.accessAllowed ? 'block' : 'none';\n",
              "\n",
              "        async function convertToInteractive(key) {\n",
              "          const element = document.querySelector('#df-6c654811-bde7-496a-8cef-a6b641fb5bb1');\n",
              "          const dataTable =\n",
              "            await google.colab.kernel.invokeFunction('convertToInteractive',\n",
              "                                                     [key], {});\n",
              "          if (!dataTable) return;\n",
              "\n",
              "          const docLinkHtml = 'Like what you see? Visit the ' +\n",
              "            '<a target=\"_blank\" href=https://colab.research.google.com/notebooks/data_table.ipynb>data table notebook</a>'\n",
              "            + ' to learn more about interactive tables.';\n",
              "          element.innerHTML = '';\n",
              "          dataTable['output_type'] = 'display_data';\n",
              "          await google.colab.output.renderOutput(dataTable, element);\n",
              "          const docLink = document.createElement('div');\n",
              "          docLink.innerHTML = docLinkHtml;\n",
              "          element.appendChild(docLink);\n",
              "        }\n",
              "      </script>\n",
              "    </div>\n",
              "  </div>\n",
              "  "
            ]
          },
          "metadata": {},
          "execution_count": 162
        }
      ]
    },
    {
      "cell_type": "code",
      "source": [
        "df_1.rename(columns={'Diferencia Porcentual': 'Dif_%'}, inplace=True)"
      ],
      "metadata": {
        "id": "YO4ZEV240qL6"
      },
      "execution_count": 163,
      "outputs": []
    },
    {
      "cell_type": "code",
      "source": [
        "df_1.head()"
      ],
      "metadata": {
        "colab": {
          "base_uri": "https://localhost:8080/",
          "height": 206
        },
        "id": "4JKHb5xL04bd",
        "outputId": "d1162a84-3a9a-4140-b9b9-9010a5d69686"
      },
      "execution_count": 164,
      "outputs": [
        {
          "output_type": "execute_result",
          "data": {
            "text/plain": [
              "     VALOR UNIDAD      DESDE      HASTA  Dif_%\n",
              "0  4761.64    COP 2022-12-22 2022-12-22    NaN\n",
              "1  4781.28    COP 2022-12-20 2022-12-20   0.41\n",
              "2  4802.48    COP 2022-12-17 2022-12-19   0.44\n",
              "3  4836.24    COP 2022-12-13 2022-12-13   0.70\n",
              "4  4815.99    COP 2022-10-12 2022-12-12  -0.42"
            ],
            "text/html": [
              "\n",
              "  <div id=\"df-14716b66-24ef-4d9c-bd29-864aa0b97c1f\">\n",
              "    <div class=\"colab-df-container\">\n",
              "      <div>\n",
              "<style scoped>\n",
              "    .dataframe tbody tr th:only-of-type {\n",
              "        vertical-align: middle;\n",
              "    }\n",
              "\n",
              "    .dataframe tbody tr th {\n",
              "        vertical-align: top;\n",
              "    }\n",
              "\n",
              "    .dataframe thead th {\n",
              "        text-align: right;\n",
              "    }\n",
              "</style>\n",
              "<table border=\"1\" class=\"dataframe\">\n",
              "  <thead>\n",
              "    <tr style=\"text-align: right;\">\n",
              "      <th></th>\n",
              "      <th>VALOR</th>\n",
              "      <th>UNIDAD</th>\n",
              "      <th>DESDE</th>\n",
              "      <th>HASTA</th>\n",
              "      <th>Dif_%</th>\n",
              "    </tr>\n",
              "  </thead>\n",
              "  <tbody>\n",
              "    <tr>\n",
              "      <th>0</th>\n",
              "      <td>4761.64</td>\n",
              "      <td>COP</td>\n",
              "      <td>2022-12-22</td>\n",
              "      <td>2022-12-22</td>\n",
              "      <td>NaN</td>\n",
              "    </tr>\n",
              "    <tr>\n",
              "      <th>1</th>\n",
              "      <td>4781.28</td>\n",
              "      <td>COP</td>\n",
              "      <td>2022-12-20</td>\n",
              "      <td>2022-12-20</td>\n",
              "      <td>0.41</td>\n",
              "    </tr>\n",
              "    <tr>\n",
              "      <th>2</th>\n",
              "      <td>4802.48</td>\n",
              "      <td>COP</td>\n",
              "      <td>2022-12-17</td>\n",
              "      <td>2022-12-19</td>\n",
              "      <td>0.44</td>\n",
              "    </tr>\n",
              "    <tr>\n",
              "      <th>3</th>\n",
              "      <td>4836.24</td>\n",
              "      <td>COP</td>\n",
              "      <td>2022-12-13</td>\n",
              "      <td>2022-12-13</td>\n",
              "      <td>0.70</td>\n",
              "    </tr>\n",
              "    <tr>\n",
              "      <th>4</th>\n",
              "      <td>4815.99</td>\n",
              "      <td>COP</td>\n",
              "      <td>2022-10-12</td>\n",
              "      <td>2022-12-12</td>\n",
              "      <td>-0.42</td>\n",
              "    </tr>\n",
              "  </tbody>\n",
              "</table>\n",
              "</div>\n",
              "      <button class=\"colab-df-convert\" onclick=\"convertToInteractive('df-14716b66-24ef-4d9c-bd29-864aa0b97c1f')\"\n",
              "              title=\"Convert this dataframe to an interactive table.\"\n",
              "              style=\"display:none;\">\n",
              "        \n",
              "  <svg xmlns=\"http://www.w3.org/2000/svg\" height=\"24px\"viewBox=\"0 0 24 24\"\n",
              "       width=\"24px\">\n",
              "    <path d=\"M0 0h24v24H0V0z\" fill=\"none\"/>\n",
              "    <path d=\"M18.56 5.44l.94 2.06.94-2.06 2.06-.94-2.06-.94-.94-2.06-.94 2.06-2.06.94zm-11 1L8.5 8.5l.94-2.06 2.06-.94-2.06-.94L8.5 2.5l-.94 2.06-2.06.94zm10 10l.94 2.06.94-2.06 2.06-.94-2.06-.94-.94-2.06-.94 2.06-2.06.94z\"/><path d=\"M17.41 7.96l-1.37-1.37c-.4-.4-.92-.59-1.43-.59-.52 0-1.04.2-1.43.59L10.3 9.45l-7.72 7.72c-.78.78-.78 2.05 0 2.83L4 21.41c.39.39.9.59 1.41.59.51 0 1.02-.2 1.41-.59l7.78-7.78 2.81-2.81c.8-.78.8-2.07 0-2.86zM5.41 20L4 18.59l7.72-7.72 1.47 1.35L5.41 20z\"/>\n",
              "  </svg>\n",
              "      </button>\n",
              "      \n",
              "  <style>\n",
              "    .colab-df-container {\n",
              "      display:flex;\n",
              "      flex-wrap:wrap;\n",
              "      gap: 12px;\n",
              "    }\n",
              "\n",
              "    .colab-df-convert {\n",
              "      background-color: #E8F0FE;\n",
              "      border: none;\n",
              "      border-radius: 50%;\n",
              "      cursor: pointer;\n",
              "      display: none;\n",
              "      fill: #1967D2;\n",
              "      height: 32px;\n",
              "      padding: 0 0 0 0;\n",
              "      width: 32px;\n",
              "    }\n",
              "\n",
              "    .colab-df-convert:hover {\n",
              "      background-color: #E2EBFA;\n",
              "      box-shadow: 0px 1px 2px rgba(60, 64, 67, 0.3), 0px 1px 3px 1px rgba(60, 64, 67, 0.15);\n",
              "      fill: #174EA6;\n",
              "    }\n",
              "\n",
              "    [theme=dark] .colab-df-convert {\n",
              "      background-color: #3B4455;\n",
              "      fill: #D2E3FC;\n",
              "    }\n",
              "\n",
              "    [theme=dark] .colab-df-convert:hover {\n",
              "      background-color: #434B5C;\n",
              "      box-shadow: 0px 1px 3px 1px rgba(0, 0, 0, 0.15);\n",
              "      filter: drop-shadow(0px 1px 2px rgba(0, 0, 0, 0.3));\n",
              "      fill: #FFFFFF;\n",
              "    }\n",
              "  </style>\n",
              "\n",
              "      <script>\n",
              "        const buttonEl =\n",
              "          document.querySelector('#df-14716b66-24ef-4d9c-bd29-864aa0b97c1f button.colab-df-convert');\n",
              "        buttonEl.style.display =\n",
              "          google.colab.kernel.accessAllowed ? 'block' : 'none';\n",
              "\n",
              "        async function convertToInteractive(key) {\n",
              "          const element = document.querySelector('#df-14716b66-24ef-4d9c-bd29-864aa0b97c1f');\n",
              "          const dataTable =\n",
              "            await google.colab.kernel.invokeFunction('convertToInteractive',\n",
              "                                                     [key], {});\n",
              "          if (!dataTable) return;\n",
              "\n",
              "          const docLinkHtml = 'Like what you see? Visit the ' +\n",
              "            '<a target=\"_blank\" href=https://colab.research.google.com/notebooks/data_table.ipynb>data table notebook</a>'\n",
              "            + ' to learn more about interactive tables.';\n",
              "          element.innerHTML = '';\n",
              "          dataTable['output_type'] = 'display_data';\n",
              "          await google.colab.output.renderOutput(dataTable, element);\n",
              "          const docLink = document.createElement('div');\n",
              "          docLink.innerHTML = docLinkHtml;\n",
              "          element.appendChild(docLink);\n",
              "        }\n",
              "      </script>\n",
              "    </div>\n",
              "  </div>\n",
              "  "
            ]
          },
          "metadata": {},
          "execution_count": 164
        }
      ]
    },
    {
      "cell_type": "code",
      "source": [
        "df_1.isnull()"
      ],
      "metadata": {
        "colab": {
          "base_uri": "https://localhost:8080/",
          "height": 424
        },
        "id": "ZOlSz1BG1fm5",
        "outputId": "a0c2aed8-5d30-47c5-8986-df570fe2ec08"
      },
      "execution_count": 165,
      "outputs": [
        {
          "output_type": "execute_result",
          "data": {
            "text/plain": [
              "      VALOR  UNIDAD  DESDE  HASTA  Dif_%\n",
              "0     False   False  False  False   True\n",
              "1     False   False  False  False  False\n",
              "2     False   False  False  False  False\n",
              "3     False   False  False  False  False\n",
              "4     False   False  False  False  False\n",
              "...     ...     ...    ...    ...    ...\n",
              "7565  False   False  False  False  False\n",
              "7566  False   False  False  False  False\n",
              "7567  False   False  False  False  False\n",
              "7568  False   False  False  False  False\n",
              "7569  False   False  False  False  False\n",
              "\n",
              "[7570 rows x 5 columns]"
            ],
            "text/html": [
              "\n",
              "  <div id=\"df-5fd8a60a-924c-4a70-97f1-7ba98a53376f\">\n",
              "    <div class=\"colab-df-container\">\n",
              "      <div>\n",
              "<style scoped>\n",
              "    .dataframe tbody tr th:only-of-type {\n",
              "        vertical-align: middle;\n",
              "    }\n",
              "\n",
              "    .dataframe tbody tr th {\n",
              "        vertical-align: top;\n",
              "    }\n",
              "\n",
              "    .dataframe thead th {\n",
              "        text-align: right;\n",
              "    }\n",
              "</style>\n",
              "<table border=\"1\" class=\"dataframe\">\n",
              "  <thead>\n",
              "    <tr style=\"text-align: right;\">\n",
              "      <th></th>\n",
              "      <th>VALOR</th>\n",
              "      <th>UNIDAD</th>\n",
              "      <th>DESDE</th>\n",
              "      <th>HASTA</th>\n",
              "      <th>Dif_%</th>\n",
              "    </tr>\n",
              "  </thead>\n",
              "  <tbody>\n",
              "    <tr>\n",
              "      <th>0</th>\n",
              "      <td>False</td>\n",
              "      <td>False</td>\n",
              "      <td>False</td>\n",
              "      <td>False</td>\n",
              "      <td>True</td>\n",
              "    </tr>\n",
              "    <tr>\n",
              "      <th>1</th>\n",
              "      <td>False</td>\n",
              "      <td>False</td>\n",
              "      <td>False</td>\n",
              "      <td>False</td>\n",
              "      <td>False</td>\n",
              "    </tr>\n",
              "    <tr>\n",
              "      <th>2</th>\n",
              "      <td>False</td>\n",
              "      <td>False</td>\n",
              "      <td>False</td>\n",
              "      <td>False</td>\n",
              "      <td>False</td>\n",
              "    </tr>\n",
              "    <tr>\n",
              "      <th>3</th>\n",
              "      <td>False</td>\n",
              "      <td>False</td>\n",
              "      <td>False</td>\n",
              "      <td>False</td>\n",
              "      <td>False</td>\n",
              "    </tr>\n",
              "    <tr>\n",
              "      <th>4</th>\n",
              "      <td>False</td>\n",
              "      <td>False</td>\n",
              "      <td>False</td>\n",
              "      <td>False</td>\n",
              "      <td>False</td>\n",
              "    </tr>\n",
              "    <tr>\n",
              "      <th>...</th>\n",
              "      <td>...</td>\n",
              "      <td>...</td>\n",
              "      <td>...</td>\n",
              "      <td>...</td>\n",
              "      <td>...</td>\n",
              "    </tr>\n",
              "    <tr>\n",
              "      <th>7565</th>\n",
              "      <td>False</td>\n",
              "      <td>False</td>\n",
              "      <td>False</td>\n",
              "      <td>False</td>\n",
              "      <td>False</td>\n",
              "    </tr>\n",
              "    <tr>\n",
              "      <th>7566</th>\n",
              "      <td>False</td>\n",
              "      <td>False</td>\n",
              "      <td>False</td>\n",
              "      <td>False</td>\n",
              "      <td>False</td>\n",
              "    </tr>\n",
              "    <tr>\n",
              "      <th>7567</th>\n",
              "      <td>False</td>\n",
              "      <td>False</td>\n",
              "      <td>False</td>\n",
              "      <td>False</td>\n",
              "      <td>False</td>\n",
              "    </tr>\n",
              "    <tr>\n",
              "      <th>7568</th>\n",
              "      <td>False</td>\n",
              "      <td>False</td>\n",
              "      <td>False</td>\n",
              "      <td>False</td>\n",
              "      <td>False</td>\n",
              "    </tr>\n",
              "    <tr>\n",
              "      <th>7569</th>\n",
              "      <td>False</td>\n",
              "      <td>False</td>\n",
              "      <td>False</td>\n",
              "      <td>False</td>\n",
              "      <td>False</td>\n",
              "    </tr>\n",
              "  </tbody>\n",
              "</table>\n",
              "<p>7570 rows × 5 columns</p>\n",
              "</div>\n",
              "      <button class=\"colab-df-convert\" onclick=\"convertToInteractive('df-5fd8a60a-924c-4a70-97f1-7ba98a53376f')\"\n",
              "              title=\"Convert this dataframe to an interactive table.\"\n",
              "              style=\"display:none;\">\n",
              "        \n",
              "  <svg xmlns=\"http://www.w3.org/2000/svg\" height=\"24px\"viewBox=\"0 0 24 24\"\n",
              "       width=\"24px\">\n",
              "    <path d=\"M0 0h24v24H0V0z\" fill=\"none\"/>\n",
              "    <path d=\"M18.56 5.44l.94 2.06.94-2.06 2.06-.94-2.06-.94-.94-2.06-.94 2.06-2.06.94zm-11 1L8.5 8.5l.94-2.06 2.06-.94-2.06-.94L8.5 2.5l-.94 2.06-2.06.94zm10 10l.94 2.06.94-2.06 2.06-.94-2.06-.94-.94-2.06-.94 2.06-2.06.94z\"/><path d=\"M17.41 7.96l-1.37-1.37c-.4-.4-.92-.59-1.43-.59-.52 0-1.04.2-1.43.59L10.3 9.45l-7.72 7.72c-.78.78-.78 2.05 0 2.83L4 21.41c.39.39.9.59 1.41.59.51 0 1.02-.2 1.41-.59l7.78-7.78 2.81-2.81c.8-.78.8-2.07 0-2.86zM5.41 20L4 18.59l7.72-7.72 1.47 1.35L5.41 20z\"/>\n",
              "  </svg>\n",
              "      </button>\n",
              "      \n",
              "  <style>\n",
              "    .colab-df-container {\n",
              "      display:flex;\n",
              "      flex-wrap:wrap;\n",
              "      gap: 12px;\n",
              "    }\n",
              "\n",
              "    .colab-df-convert {\n",
              "      background-color: #E8F0FE;\n",
              "      border: none;\n",
              "      border-radius: 50%;\n",
              "      cursor: pointer;\n",
              "      display: none;\n",
              "      fill: #1967D2;\n",
              "      height: 32px;\n",
              "      padding: 0 0 0 0;\n",
              "      width: 32px;\n",
              "    }\n",
              "\n",
              "    .colab-df-convert:hover {\n",
              "      background-color: #E2EBFA;\n",
              "      box-shadow: 0px 1px 2px rgba(60, 64, 67, 0.3), 0px 1px 3px 1px rgba(60, 64, 67, 0.15);\n",
              "      fill: #174EA6;\n",
              "    }\n",
              "\n",
              "    [theme=dark] .colab-df-convert {\n",
              "      background-color: #3B4455;\n",
              "      fill: #D2E3FC;\n",
              "    }\n",
              "\n",
              "    [theme=dark] .colab-df-convert:hover {\n",
              "      background-color: #434B5C;\n",
              "      box-shadow: 0px 1px 3px 1px rgba(0, 0, 0, 0.15);\n",
              "      filter: drop-shadow(0px 1px 2px rgba(0, 0, 0, 0.3));\n",
              "      fill: #FFFFFF;\n",
              "    }\n",
              "  </style>\n",
              "\n",
              "      <script>\n",
              "        const buttonEl =\n",
              "          document.querySelector('#df-5fd8a60a-924c-4a70-97f1-7ba98a53376f button.colab-df-convert');\n",
              "        buttonEl.style.display =\n",
              "          google.colab.kernel.accessAllowed ? 'block' : 'none';\n",
              "\n",
              "        async function convertToInteractive(key) {\n",
              "          const element = document.querySelector('#df-5fd8a60a-924c-4a70-97f1-7ba98a53376f');\n",
              "          const dataTable =\n",
              "            await google.colab.kernel.invokeFunction('convertToInteractive',\n",
              "                                                     [key], {});\n",
              "          if (!dataTable) return;\n",
              "\n",
              "          const docLinkHtml = 'Like what you see? Visit the ' +\n",
              "            '<a target=\"_blank\" href=https://colab.research.google.com/notebooks/data_table.ipynb>data table notebook</a>'\n",
              "            + ' to learn more about interactive tables.';\n",
              "          element.innerHTML = '';\n",
              "          dataTable['output_type'] = 'display_data';\n",
              "          await google.colab.output.renderOutput(dataTable, element);\n",
              "          const docLink = document.createElement('div');\n",
              "          docLink.innerHTML = docLinkHtml;\n",
              "          element.appendChild(docLink);\n",
              "        }\n",
              "      </script>\n",
              "    </div>\n",
              "  </div>\n",
              "  "
            ]
          },
          "metadata": {},
          "execution_count": 165
        }
      ]
    },
    {
      "cell_type": "code",
      "source": [
        "df_1 = df_1.dropna(axis=0, how=\"any\")\n",
        "df_1.fillna(value=0)\n",
        "df_1.info()"
      ],
      "metadata": {
        "colab": {
          "base_uri": "https://localhost:8080/"
        },
        "id": "VYRTnV3R13bB",
        "outputId": "d702a67b-5086-4a86-de26-452185414062"
      },
      "execution_count": 166,
      "outputs": [
        {
          "output_type": "stream",
          "name": "stdout",
          "text": [
            "<class 'pandas.core.frame.DataFrame'>\n",
            "Int64Index: 7569 entries, 1 to 7569\n",
            "Data columns (total 5 columns):\n",
            " #   Column  Non-Null Count  Dtype         \n",
            "---  ------  --------------  -----         \n",
            " 0   VALOR   7569 non-null   float64       \n",
            " 1   UNIDAD  7569 non-null   object        \n",
            " 2   DESDE   7569 non-null   datetime64[ns]\n",
            " 3   HASTA   7569 non-null   datetime64[ns]\n",
            " 4   Dif_%   7569 non-null   float64       \n",
            "dtypes: datetime64[ns](2), float64(2), object(1)\n",
            "memory usage: 354.8+ KB\n"
          ]
        }
      ]
    },
    {
      "cell_type": "code",
      "source": [
        "df_1.head()"
      ],
      "metadata": {
        "colab": {
          "base_uri": "https://localhost:8080/",
          "height": 206
        },
        "id": "Tv86wAyIsSub",
        "outputId": "9a187928-2546-42e2-8dec-7824d3912169"
      },
      "execution_count": 167,
      "outputs": [
        {
          "output_type": "execute_result",
          "data": {
            "text/plain": [
              "     VALOR UNIDAD      DESDE      HASTA  Dif_%\n",
              "1  4781.28    COP 2022-12-20 2022-12-20   0.41\n",
              "2  4802.48    COP 2022-12-17 2022-12-19   0.44\n",
              "3  4836.24    COP 2022-12-13 2022-12-13   0.70\n",
              "4  4815.99    COP 2022-10-12 2022-12-12  -0.42\n",
              "5  4818.32    COP 2022-07-12 2022-07-12   0.05"
            ],
            "text/html": [
              "\n",
              "  <div id=\"df-501b0d22-29aa-4583-83db-9f3548c9c6d3\">\n",
              "    <div class=\"colab-df-container\">\n",
              "      <div>\n",
              "<style scoped>\n",
              "    .dataframe tbody tr th:only-of-type {\n",
              "        vertical-align: middle;\n",
              "    }\n",
              "\n",
              "    .dataframe tbody tr th {\n",
              "        vertical-align: top;\n",
              "    }\n",
              "\n",
              "    .dataframe thead th {\n",
              "        text-align: right;\n",
              "    }\n",
              "</style>\n",
              "<table border=\"1\" class=\"dataframe\">\n",
              "  <thead>\n",
              "    <tr style=\"text-align: right;\">\n",
              "      <th></th>\n",
              "      <th>VALOR</th>\n",
              "      <th>UNIDAD</th>\n",
              "      <th>DESDE</th>\n",
              "      <th>HASTA</th>\n",
              "      <th>Dif_%</th>\n",
              "    </tr>\n",
              "  </thead>\n",
              "  <tbody>\n",
              "    <tr>\n",
              "      <th>1</th>\n",
              "      <td>4781.28</td>\n",
              "      <td>COP</td>\n",
              "      <td>2022-12-20</td>\n",
              "      <td>2022-12-20</td>\n",
              "      <td>0.41</td>\n",
              "    </tr>\n",
              "    <tr>\n",
              "      <th>2</th>\n",
              "      <td>4802.48</td>\n",
              "      <td>COP</td>\n",
              "      <td>2022-12-17</td>\n",
              "      <td>2022-12-19</td>\n",
              "      <td>0.44</td>\n",
              "    </tr>\n",
              "    <tr>\n",
              "      <th>3</th>\n",
              "      <td>4836.24</td>\n",
              "      <td>COP</td>\n",
              "      <td>2022-12-13</td>\n",
              "      <td>2022-12-13</td>\n",
              "      <td>0.70</td>\n",
              "    </tr>\n",
              "    <tr>\n",
              "      <th>4</th>\n",
              "      <td>4815.99</td>\n",
              "      <td>COP</td>\n",
              "      <td>2022-10-12</td>\n",
              "      <td>2022-12-12</td>\n",
              "      <td>-0.42</td>\n",
              "    </tr>\n",
              "    <tr>\n",
              "      <th>5</th>\n",
              "      <td>4818.32</td>\n",
              "      <td>COP</td>\n",
              "      <td>2022-07-12</td>\n",
              "      <td>2022-07-12</td>\n",
              "      <td>0.05</td>\n",
              "    </tr>\n",
              "  </tbody>\n",
              "</table>\n",
              "</div>\n",
              "      <button class=\"colab-df-convert\" onclick=\"convertToInteractive('df-501b0d22-29aa-4583-83db-9f3548c9c6d3')\"\n",
              "              title=\"Convert this dataframe to an interactive table.\"\n",
              "              style=\"display:none;\">\n",
              "        \n",
              "  <svg xmlns=\"http://www.w3.org/2000/svg\" height=\"24px\"viewBox=\"0 0 24 24\"\n",
              "       width=\"24px\">\n",
              "    <path d=\"M0 0h24v24H0V0z\" fill=\"none\"/>\n",
              "    <path d=\"M18.56 5.44l.94 2.06.94-2.06 2.06-.94-2.06-.94-.94-2.06-.94 2.06-2.06.94zm-11 1L8.5 8.5l.94-2.06 2.06-.94-2.06-.94L8.5 2.5l-.94 2.06-2.06.94zm10 10l.94 2.06.94-2.06 2.06-.94-2.06-.94-.94-2.06-.94 2.06-2.06.94z\"/><path d=\"M17.41 7.96l-1.37-1.37c-.4-.4-.92-.59-1.43-.59-.52 0-1.04.2-1.43.59L10.3 9.45l-7.72 7.72c-.78.78-.78 2.05 0 2.83L4 21.41c.39.39.9.59 1.41.59.51 0 1.02-.2 1.41-.59l7.78-7.78 2.81-2.81c.8-.78.8-2.07 0-2.86zM5.41 20L4 18.59l7.72-7.72 1.47 1.35L5.41 20z\"/>\n",
              "  </svg>\n",
              "      </button>\n",
              "      \n",
              "  <style>\n",
              "    .colab-df-container {\n",
              "      display:flex;\n",
              "      flex-wrap:wrap;\n",
              "      gap: 12px;\n",
              "    }\n",
              "\n",
              "    .colab-df-convert {\n",
              "      background-color: #E8F0FE;\n",
              "      border: none;\n",
              "      border-radius: 50%;\n",
              "      cursor: pointer;\n",
              "      display: none;\n",
              "      fill: #1967D2;\n",
              "      height: 32px;\n",
              "      padding: 0 0 0 0;\n",
              "      width: 32px;\n",
              "    }\n",
              "\n",
              "    .colab-df-convert:hover {\n",
              "      background-color: #E2EBFA;\n",
              "      box-shadow: 0px 1px 2px rgba(60, 64, 67, 0.3), 0px 1px 3px 1px rgba(60, 64, 67, 0.15);\n",
              "      fill: #174EA6;\n",
              "    }\n",
              "\n",
              "    [theme=dark] .colab-df-convert {\n",
              "      background-color: #3B4455;\n",
              "      fill: #D2E3FC;\n",
              "    }\n",
              "\n",
              "    [theme=dark] .colab-df-convert:hover {\n",
              "      background-color: #434B5C;\n",
              "      box-shadow: 0px 1px 3px 1px rgba(0, 0, 0, 0.15);\n",
              "      filter: drop-shadow(0px 1px 2px rgba(0, 0, 0, 0.3));\n",
              "      fill: #FFFFFF;\n",
              "    }\n",
              "  </style>\n",
              "\n",
              "      <script>\n",
              "        const buttonEl =\n",
              "          document.querySelector('#df-501b0d22-29aa-4583-83db-9f3548c9c6d3 button.colab-df-convert');\n",
              "        buttonEl.style.display =\n",
              "          google.colab.kernel.accessAllowed ? 'block' : 'none';\n",
              "\n",
              "        async function convertToInteractive(key) {\n",
              "          const element = document.querySelector('#df-501b0d22-29aa-4583-83db-9f3548c9c6d3');\n",
              "          const dataTable =\n",
              "            await google.colab.kernel.invokeFunction('convertToInteractive',\n",
              "                                                     [key], {});\n",
              "          if (!dataTable) return;\n",
              "\n",
              "          const docLinkHtml = 'Like what you see? Visit the ' +\n",
              "            '<a target=\"_blank\" href=https://colab.research.google.com/notebooks/data_table.ipynb>data table notebook</a>'\n",
              "            + ' to learn more about interactive tables.';\n",
              "          element.innerHTML = '';\n",
              "          dataTable['output_type'] = 'display_data';\n",
              "          await google.colab.output.renderOutput(dataTable, element);\n",
              "          const docLink = document.createElement('div');\n",
              "          docLink.innerHTML = docLinkHtml;\n",
              "          element.appendChild(docLink);\n",
              "        }\n",
              "      </script>\n",
              "    </div>\n",
              "  </div>\n",
              "  "
            ]
          },
          "metadata": {},
          "execution_count": 167
        }
      ]
    },
    {
      "cell_type": "markdown",
      "source": [
        "## 2. Calcular : Media"
      ],
      "metadata": {
        "id": "Znop7gyA3XD5"
      }
    },
    {
      "cell_type": "code",
      "source": [
        "df_1.VALOR.mean()"
      ],
      "metadata": {
        "colab": {
          "base_uri": "https://localhost:8080/"
        },
        "id": "EY6JKI3K3bMV",
        "outputId": "69b62e8a-bc28-4906-e18d-04d680e72589"
      },
      "execution_count": 168,
      "outputs": [
        {
          "output_type": "execute_result",
          "data": {
            "text/plain": [
              "2208.1366851631656"
            ]
          },
          "metadata": {},
          "execution_count": 168
        }
      ]
    },
    {
      "cell_type": "markdown",
      "source": [
        "##3. Calcular: Mediana"
      ],
      "metadata": {
        "id": "hjSh_s-X3hRA"
      }
    },
    {
      "cell_type": "code",
      "source": [
        "df_1.VALOR.median()"
      ],
      "metadata": {
        "colab": {
          "base_uri": "https://localhost:8080/"
        },
        "id": "DUq7jJZo3k-D",
        "outputId": "6078280e-3120-407f-f6ae-f96624259a78"
      },
      "execution_count": 169,
      "outputs": [
        {
          "output_type": "execute_result",
          "data": {
            "text/plain": [
              "2158.36"
            ]
          },
          "metadata": {},
          "execution_count": 169
        }
      ]
    },
    {
      "cell_type": "markdown",
      "source": [
        "##4. Calcular: Desviasión Estandar"
      ],
      "metadata": {
        "id": "kg3jpwde3rlB"
      }
    },
    {
      "cell_type": "code",
      "source": [
        "df_1.VALOR.std()"
      ],
      "metadata": {
        "colab": {
          "base_uri": "https://localhost:8080/"
        },
        "id": "RdJIRH4q3w0K",
        "outputId": "2a6302db-63f7-42f6-98ec-caf4e6fdab17"
      },
      "execution_count": 24,
      "outputs": [
        {
          "output_type": "execute_result",
          "data": {
            "text/plain": [
              "945.2996299570166"
            ]
          },
          "metadata": {},
          "execution_count": 24
        }
      ]
    },
    {
      "cell_type": "markdown",
      "source": [
        "##5. Calcular: Máximo"
      ],
      "metadata": {
        "id": "pBltZ4s331OS"
      }
    },
    {
      "cell_type": "code",
      "source": [
        "df_1.VALOR.max()"
      ],
      "metadata": {
        "colab": {
          "base_uri": "https://localhost:8080/"
        },
        "id": "EiCFOQvG35YM",
        "outputId": "86b57fc5-ec8c-4cd7-ee9d-292a9b97df27"
      },
      "execution_count": 25,
      "outputs": [
        {
          "output_type": "execute_result",
          "data": {
            "text/plain": [
              "5061.21"
            ]
          },
          "metadata": {},
          "execution_count": 25
        }
      ]
    },
    {
      "cell_type": "markdown",
      "source": [
        "##6. Calcular: Mínimo"
      ],
      "metadata": {
        "id": "HAHf-_zQ38WZ"
      }
    },
    {
      "cell_type": "code",
      "source": [
        "df_1.VALOR.min()"
      ],
      "metadata": {
        "colab": {
          "base_uri": "https://localhost:8080/"
        },
        "id": "t9sE79ak4CYL",
        "outputId": "bec84ca7-c0dc-407f-a19e-b4e05d5c793d"
      },
      "execution_count": 26,
      "outputs": [
        {
          "output_type": "execute_result",
          "data": {
            "text/plain": [
              "620.62"
            ]
          },
          "metadata": {},
          "execution_count": 26
        }
      ]
    },
    {
      "cell_type": "markdown",
      "source": [
        "##7. Calcular: Rango"
      ],
      "metadata": {
        "id": "mstpnVjD4tao"
      }
    },
    {
      "cell_type": "code",
      "source": [
        "df_1.rank(method=\"min\")"
      ],
      "metadata": {
        "colab": {
          "base_uri": "https://localhost:8080/",
          "height": 424
        },
        "id": "oJHPfTRj4xzi",
        "outputId": "9d162400-30af-47a2-f7ff-290b615ac577"
      },
      "execution_count": 27,
      "outputs": [
        {
          "output_type": "execute_result",
          "data": {
            "text/plain": [
              "       VALOR  UNIDAD   DESDE   HASTA   Dif_%\n",
              "1     7511.0     1.0  7467.0  7467.0  5952.0\n",
              "2     7516.0     1.0  7466.0  7466.0  6042.0\n",
              "3     7535.0     1.0  7462.0  7462.0  6520.0\n",
              "4     7527.0     1.0  7425.0  7461.0  1604.0\n",
              "5     7528.0     1.0  7361.0  7362.0  4171.0\n",
              "...      ...     ...     ...     ...     ...\n",
              "7565  7432.0     1.0  7543.0  7543.0  4911.0\n",
              "7566  7424.0     1.0  7544.0  7544.0  1198.0\n",
              "7567  7409.0     1.0  7545.0  7545.0   594.0\n",
              "7568  7415.0     1.0  7546.0  7546.0  6171.0\n",
              "7569  7412.0     1.0  7547.0  7547.0  2346.0\n",
              "\n",
              "[7569 rows x 5 columns]"
            ],
            "text/html": [
              "\n",
              "  <div id=\"df-b1779404-edac-493c-84ee-a9a8b7d976cf\">\n",
              "    <div class=\"colab-df-container\">\n",
              "      <div>\n",
              "<style scoped>\n",
              "    .dataframe tbody tr th:only-of-type {\n",
              "        vertical-align: middle;\n",
              "    }\n",
              "\n",
              "    .dataframe tbody tr th {\n",
              "        vertical-align: top;\n",
              "    }\n",
              "\n",
              "    .dataframe thead th {\n",
              "        text-align: right;\n",
              "    }\n",
              "</style>\n",
              "<table border=\"1\" class=\"dataframe\">\n",
              "  <thead>\n",
              "    <tr style=\"text-align: right;\">\n",
              "      <th></th>\n",
              "      <th>VALOR</th>\n",
              "      <th>UNIDAD</th>\n",
              "      <th>DESDE</th>\n",
              "      <th>HASTA</th>\n",
              "      <th>Dif_%</th>\n",
              "    </tr>\n",
              "  </thead>\n",
              "  <tbody>\n",
              "    <tr>\n",
              "      <th>1</th>\n",
              "      <td>7511.0</td>\n",
              "      <td>1.0</td>\n",
              "      <td>7467.0</td>\n",
              "      <td>7467.0</td>\n",
              "      <td>5952.0</td>\n",
              "    </tr>\n",
              "    <tr>\n",
              "      <th>2</th>\n",
              "      <td>7516.0</td>\n",
              "      <td>1.0</td>\n",
              "      <td>7466.0</td>\n",
              "      <td>7466.0</td>\n",
              "      <td>6042.0</td>\n",
              "    </tr>\n",
              "    <tr>\n",
              "      <th>3</th>\n",
              "      <td>7535.0</td>\n",
              "      <td>1.0</td>\n",
              "      <td>7462.0</td>\n",
              "      <td>7462.0</td>\n",
              "      <td>6520.0</td>\n",
              "    </tr>\n",
              "    <tr>\n",
              "      <th>4</th>\n",
              "      <td>7527.0</td>\n",
              "      <td>1.0</td>\n",
              "      <td>7425.0</td>\n",
              "      <td>7461.0</td>\n",
              "      <td>1604.0</td>\n",
              "    </tr>\n",
              "    <tr>\n",
              "      <th>5</th>\n",
              "      <td>7528.0</td>\n",
              "      <td>1.0</td>\n",
              "      <td>7361.0</td>\n",
              "      <td>7362.0</td>\n",
              "      <td>4171.0</td>\n",
              "    </tr>\n",
              "    <tr>\n",
              "      <th>...</th>\n",
              "      <td>...</td>\n",
              "      <td>...</td>\n",
              "      <td>...</td>\n",
              "      <td>...</td>\n",
              "      <td>...</td>\n",
              "    </tr>\n",
              "    <tr>\n",
              "      <th>7565</th>\n",
              "      <td>7432.0</td>\n",
              "      <td>1.0</td>\n",
              "      <td>7543.0</td>\n",
              "      <td>7543.0</td>\n",
              "      <td>4911.0</td>\n",
              "    </tr>\n",
              "    <tr>\n",
              "      <th>7566</th>\n",
              "      <td>7424.0</td>\n",
              "      <td>1.0</td>\n",
              "      <td>7544.0</td>\n",
              "      <td>7544.0</td>\n",
              "      <td>1198.0</td>\n",
              "    </tr>\n",
              "    <tr>\n",
              "      <th>7567</th>\n",
              "      <td>7409.0</td>\n",
              "      <td>1.0</td>\n",
              "      <td>7545.0</td>\n",
              "      <td>7545.0</td>\n",
              "      <td>594.0</td>\n",
              "    </tr>\n",
              "    <tr>\n",
              "      <th>7568</th>\n",
              "      <td>7415.0</td>\n",
              "      <td>1.0</td>\n",
              "      <td>7546.0</td>\n",
              "      <td>7546.0</td>\n",
              "      <td>6171.0</td>\n",
              "    </tr>\n",
              "    <tr>\n",
              "      <th>7569</th>\n",
              "      <td>7412.0</td>\n",
              "      <td>1.0</td>\n",
              "      <td>7547.0</td>\n",
              "      <td>7547.0</td>\n",
              "      <td>2346.0</td>\n",
              "    </tr>\n",
              "  </tbody>\n",
              "</table>\n",
              "<p>7569 rows × 5 columns</p>\n",
              "</div>\n",
              "      <button class=\"colab-df-convert\" onclick=\"convertToInteractive('df-b1779404-edac-493c-84ee-a9a8b7d976cf')\"\n",
              "              title=\"Convert this dataframe to an interactive table.\"\n",
              "              style=\"display:none;\">\n",
              "        \n",
              "  <svg xmlns=\"http://www.w3.org/2000/svg\" height=\"24px\"viewBox=\"0 0 24 24\"\n",
              "       width=\"24px\">\n",
              "    <path d=\"M0 0h24v24H0V0z\" fill=\"none\"/>\n",
              "    <path d=\"M18.56 5.44l.94 2.06.94-2.06 2.06-.94-2.06-.94-.94-2.06-.94 2.06-2.06.94zm-11 1L8.5 8.5l.94-2.06 2.06-.94-2.06-.94L8.5 2.5l-.94 2.06-2.06.94zm10 10l.94 2.06.94-2.06 2.06-.94-2.06-.94-.94-2.06-.94 2.06-2.06.94z\"/><path d=\"M17.41 7.96l-1.37-1.37c-.4-.4-.92-.59-1.43-.59-.52 0-1.04.2-1.43.59L10.3 9.45l-7.72 7.72c-.78.78-.78 2.05 0 2.83L4 21.41c.39.39.9.59 1.41.59.51 0 1.02-.2 1.41-.59l7.78-7.78 2.81-2.81c.8-.78.8-2.07 0-2.86zM5.41 20L4 18.59l7.72-7.72 1.47 1.35L5.41 20z\"/>\n",
              "  </svg>\n",
              "      </button>\n",
              "      \n",
              "  <style>\n",
              "    .colab-df-container {\n",
              "      display:flex;\n",
              "      flex-wrap:wrap;\n",
              "      gap: 12px;\n",
              "    }\n",
              "\n",
              "    .colab-df-convert {\n",
              "      background-color: #E8F0FE;\n",
              "      border: none;\n",
              "      border-radius: 50%;\n",
              "      cursor: pointer;\n",
              "      display: none;\n",
              "      fill: #1967D2;\n",
              "      height: 32px;\n",
              "      padding: 0 0 0 0;\n",
              "      width: 32px;\n",
              "    }\n",
              "\n",
              "    .colab-df-convert:hover {\n",
              "      background-color: #E2EBFA;\n",
              "      box-shadow: 0px 1px 2px rgba(60, 64, 67, 0.3), 0px 1px 3px 1px rgba(60, 64, 67, 0.15);\n",
              "      fill: #174EA6;\n",
              "    }\n",
              "\n",
              "    [theme=dark] .colab-df-convert {\n",
              "      background-color: #3B4455;\n",
              "      fill: #D2E3FC;\n",
              "    }\n",
              "\n",
              "    [theme=dark] .colab-df-convert:hover {\n",
              "      background-color: #434B5C;\n",
              "      box-shadow: 0px 1px 3px 1px rgba(0, 0, 0, 0.15);\n",
              "      filter: drop-shadow(0px 1px 2px rgba(0, 0, 0, 0.3));\n",
              "      fill: #FFFFFF;\n",
              "    }\n",
              "  </style>\n",
              "\n",
              "      <script>\n",
              "        const buttonEl =\n",
              "          document.querySelector('#df-b1779404-edac-493c-84ee-a9a8b7d976cf button.colab-df-convert');\n",
              "        buttonEl.style.display =\n",
              "          google.colab.kernel.accessAllowed ? 'block' : 'none';\n",
              "\n",
              "        async function convertToInteractive(key) {\n",
              "          const element = document.querySelector('#df-b1779404-edac-493c-84ee-a9a8b7d976cf');\n",
              "          const dataTable =\n",
              "            await google.colab.kernel.invokeFunction('convertToInteractive',\n",
              "                                                     [key], {});\n",
              "          if (!dataTable) return;\n",
              "\n",
              "          const docLinkHtml = 'Like what you see? Visit the ' +\n",
              "            '<a target=\"_blank\" href=https://colab.research.google.com/notebooks/data_table.ipynb>data table notebook</a>'\n",
              "            + ' to learn more about interactive tables.';\n",
              "          element.innerHTML = '';\n",
              "          dataTable['output_type'] = 'display_data';\n",
              "          await google.colab.output.renderOutput(dataTable, element);\n",
              "          const docLink = document.createElement('div');\n",
              "          docLink.innerHTML = docLinkHtml;\n",
              "          element.appendChild(docLink);\n",
              "        }\n",
              "      </script>\n",
              "    </div>\n",
              "  </div>\n",
              "  "
            ]
          },
          "metadata": {},
          "execution_count": 27
        }
      ]
    },
    {
      "cell_type": "markdown",
      "source": [
        "##B. Presentar el resumen de los datos numéricos"
      ],
      "metadata": {
        "id": "r2kwM0_x5g2q"
      }
    },
    {
      "cell_type": "code",
      "source": [
        "df_1.describe()"
      ],
      "metadata": {
        "colab": {
          "base_uri": "https://localhost:8080/",
          "height": 300
        },
        "id": "v7Dtv_345AQT",
        "outputId": "db64b27a-7913-4ab9-ffbf-f7f4708534ec"
      },
      "execution_count": 28,
      "outputs": [
        {
          "output_type": "execute_result",
          "data": {
            "text/plain": [
              "             VALOR        Dif_%\n",
              "count  7569.000000  7569.000000\n",
              "mean   2208.136685     0.424572\n",
              "std     945.299630    11.877291\n",
              "min     620.620000   -86.769648\n",
              "25%    1751.000000    -0.322169\n",
              "50%    2158.360000     0.004989\n",
              "75%    2866.870000     0.322433\n",
              "max    5061.210000   659.301856"
            ],
            "text/html": [
              "\n",
              "  <div id=\"df-74e49420-b95f-4c26-a722-58b2c349daa3\">\n",
              "    <div class=\"colab-df-container\">\n",
              "      <div>\n",
              "<style scoped>\n",
              "    .dataframe tbody tr th:only-of-type {\n",
              "        vertical-align: middle;\n",
              "    }\n",
              "\n",
              "    .dataframe tbody tr th {\n",
              "        vertical-align: top;\n",
              "    }\n",
              "\n",
              "    .dataframe thead th {\n",
              "        text-align: right;\n",
              "    }\n",
              "</style>\n",
              "<table border=\"1\" class=\"dataframe\">\n",
              "  <thead>\n",
              "    <tr style=\"text-align: right;\">\n",
              "      <th></th>\n",
              "      <th>VALOR</th>\n",
              "      <th>Dif_%</th>\n",
              "    </tr>\n",
              "  </thead>\n",
              "  <tbody>\n",
              "    <tr>\n",
              "      <th>count</th>\n",
              "      <td>7569.000000</td>\n",
              "      <td>7569.000000</td>\n",
              "    </tr>\n",
              "    <tr>\n",
              "      <th>mean</th>\n",
              "      <td>2208.136685</td>\n",
              "      <td>0.424572</td>\n",
              "    </tr>\n",
              "    <tr>\n",
              "      <th>std</th>\n",
              "      <td>945.299630</td>\n",
              "      <td>11.877291</td>\n",
              "    </tr>\n",
              "    <tr>\n",
              "      <th>min</th>\n",
              "      <td>620.620000</td>\n",
              "      <td>-86.769648</td>\n",
              "    </tr>\n",
              "    <tr>\n",
              "      <th>25%</th>\n",
              "      <td>1751.000000</td>\n",
              "      <td>-0.322169</td>\n",
              "    </tr>\n",
              "    <tr>\n",
              "      <th>50%</th>\n",
              "      <td>2158.360000</td>\n",
              "      <td>0.004989</td>\n",
              "    </tr>\n",
              "    <tr>\n",
              "      <th>75%</th>\n",
              "      <td>2866.870000</td>\n",
              "      <td>0.322433</td>\n",
              "    </tr>\n",
              "    <tr>\n",
              "      <th>max</th>\n",
              "      <td>5061.210000</td>\n",
              "      <td>659.301856</td>\n",
              "    </tr>\n",
              "  </tbody>\n",
              "</table>\n",
              "</div>\n",
              "      <button class=\"colab-df-convert\" onclick=\"convertToInteractive('df-74e49420-b95f-4c26-a722-58b2c349daa3')\"\n",
              "              title=\"Convert this dataframe to an interactive table.\"\n",
              "              style=\"display:none;\">\n",
              "        \n",
              "  <svg xmlns=\"http://www.w3.org/2000/svg\" height=\"24px\"viewBox=\"0 0 24 24\"\n",
              "       width=\"24px\">\n",
              "    <path d=\"M0 0h24v24H0V0z\" fill=\"none\"/>\n",
              "    <path d=\"M18.56 5.44l.94 2.06.94-2.06 2.06-.94-2.06-.94-.94-2.06-.94 2.06-2.06.94zm-11 1L8.5 8.5l.94-2.06 2.06-.94-2.06-.94L8.5 2.5l-.94 2.06-2.06.94zm10 10l.94 2.06.94-2.06 2.06-.94-2.06-.94-.94-2.06-.94 2.06-2.06.94z\"/><path d=\"M17.41 7.96l-1.37-1.37c-.4-.4-.92-.59-1.43-.59-.52 0-1.04.2-1.43.59L10.3 9.45l-7.72 7.72c-.78.78-.78 2.05 0 2.83L4 21.41c.39.39.9.59 1.41.59.51 0 1.02-.2 1.41-.59l7.78-7.78 2.81-2.81c.8-.78.8-2.07 0-2.86zM5.41 20L4 18.59l7.72-7.72 1.47 1.35L5.41 20z\"/>\n",
              "  </svg>\n",
              "      </button>\n",
              "      \n",
              "  <style>\n",
              "    .colab-df-container {\n",
              "      display:flex;\n",
              "      flex-wrap:wrap;\n",
              "      gap: 12px;\n",
              "    }\n",
              "\n",
              "    .colab-df-convert {\n",
              "      background-color: #E8F0FE;\n",
              "      border: none;\n",
              "      border-radius: 50%;\n",
              "      cursor: pointer;\n",
              "      display: none;\n",
              "      fill: #1967D2;\n",
              "      height: 32px;\n",
              "      padding: 0 0 0 0;\n",
              "      width: 32px;\n",
              "    }\n",
              "\n",
              "    .colab-df-convert:hover {\n",
              "      background-color: #E2EBFA;\n",
              "      box-shadow: 0px 1px 2px rgba(60, 64, 67, 0.3), 0px 1px 3px 1px rgba(60, 64, 67, 0.15);\n",
              "      fill: #174EA6;\n",
              "    }\n",
              "\n",
              "    [theme=dark] .colab-df-convert {\n",
              "      background-color: #3B4455;\n",
              "      fill: #D2E3FC;\n",
              "    }\n",
              "\n",
              "    [theme=dark] .colab-df-convert:hover {\n",
              "      background-color: #434B5C;\n",
              "      box-shadow: 0px 1px 3px 1px rgba(0, 0, 0, 0.15);\n",
              "      filter: drop-shadow(0px 1px 2px rgba(0, 0, 0, 0.3));\n",
              "      fill: #FFFFFF;\n",
              "    }\n",
              "  </style>\n",
              "\n",
              "      <script>\n",
              "        const buttonEl =\n",
              "          document.querySelector('#df-74e49420-b95f-4c26-a722-58b2c349daa3 button.colab-df-convert');\n",
              "        buttonEl.style.display =\n",
              "          google.colab.kernel.accessAllowed ? 'block' : 'none';\n",
              "\n",
              "        async function convertToInteractive(key) {\n",
              "          const element = document.querySelector('#df-74e49420-b95f-4c26-a722-58b2c349daa3');\n",
              "          const dataTable =\n",
              "            await google.colab.kernel.invokeFunction('convertToInteractive',\n",
              "                                                     [key], {});\n",
              "          if (!dataTable) return;\n",
              "\n",
              "          const docLinkHtml = 'Like what you see? Visit the ' +\n",
              "            '<a target=\"_blank\" href=https://colab.research.google.com/notebooks/data_table.ipynb>data table notebook</a>'\n",
              "            + ' to learn more about interactive tables.';\n",
              "          element.innerHTML = '';\n",
              "          dataTable['output_type'] = 'display_data';\n",
              "          await google.colab.output.renderOutput(dataTable, element);\n",
              "          const docLink = document.createElement('div');\n",
              "          docLink.innerHTML = docLinkHtml;\n",
              "          element.appendChild(docLink);\n",
              "        }\n",
              "      </script>\n",
              "    </div>\n",
              "  </div>\n",
              "  "
            ]
          },
          "metadata": {},
          "execution_count": 28
        }
      ]
    },
    {
      "cell_type": "code",
      "source": [
        "df_1.info(verbose=True)"
      ],
      "metadata": {
        "colab": {
          "base_uri": "https://localhost:8080/"
        },
        "id": "Kk96jzUn5nLs",
        "outputId": "2013078a-5ec0-4ae1-a431-ddabeba2be4a"
      },
      "execution_count": 29,
      "outputs": [
        {
          "output_type": "stream",
          "name": "stdout",
          "text": [
            "<class 'pandas.core.frame.DataFrame'>\n",
            "Int64Index: 7569 entries, 1 to 7569\n",
            "Data columns (total 5 columns):\n",
            " #   Column  Non-Null Count  Dtype         \n",
            "---  ------  --------------  -----         \n",
            " 0   VALOR   7569 non-null   float64       \n",
            " 1   UNIDAD  7569 non-null   object        \n",
            " 2   DESDE   7569 non-null   datetime64[ns]\n",
            " 3   HASTA   7569 non-null   datetime64[ns]\n",
            " 4   Dif_%   7569 non-null   float64       \n",
            "dtypes: datetime64[ns](2), float64(2), object(1)\n",
            "memory usage: 354.8+ KB\n"
          ]
        }
      ]
    },
    {
      "cell_type": "markdown",
      "source": [
        "##Análisis del Data set\n",
        "se examina los datos para entender su naturaleza y cómo están estructurados. Luego, se hace preguntas para obtener más información sobre el contexto y el propósito del análisis en el cual se ve que al pasarlos a maquina todos son objeto, se realiza limpieza y grafica para dar como resultado que da que la moneda tuvo un alza desde el 2012 hasta el 2023 de casi 935 pesos."
      ],
      "metadata": {
        "id": "-SEdGL9sQ4w-"
      }
    },
    {
      "cell_type": "markdown",
      "source": [
        "##C. Presentar la información general del dataset"
      ],
      "metadata": {
        "id": "ML2qLLJv51iS"
      }
    },
    {
      "cell_type": "code",
      "source": [
        "df_1.info(verbose=False)"
      ],
      "metadata": {
        "colab": {
          "base_uri": "https://localhost:8080/"
        },
        "id": "adA3Opeq6OMh",
        "outputId": "28c42d9c-710f-455c-bf6c-c873d722d9a7"
      },
      "execution_count": 170,
      "outputs": [
        {
          "output_type": "stream",
          "name": "stdout",
          "text": [
            "<class 'pandas.core.frame.DataFrame'>\n",
            "Int64Index: 7569 entries, 1 to 7569\n",
            "Columns: 5 entries, VALOR to Dif_%\n",
            "dtypes: datetime64[ns](2), float64(2), object(1)\n",
            "memory usage: 354.8+ KB\n"
          ]
        }
      ]
    },
    {
      "cell_type": "code",
      "source": [],
      "metadata": {
        "id": "y5fPurCmP9qd"
      },
      "execution_count": null,
      "outputs": []
    },
    {
      "cell_type": "markdown",
      "source": [
        "## D. Hacer dos representaciones graficas que sean acordes a la naturaleza de los datos"
      ],
      "metadata": {
        "id": "bcvqzKxTPrlm"
      }
    },
    {
      "cell_type": "code",
      "source": [
        "df_1.plot(kind = 'scatter', y = 'VALOR', x = 'DESDE',title = 'AVANCE DEL PESO',\n",
        "                xlabel = 'FECHA',\n",
        "                ylabel = 'PRECIO',\n",
        "                s = 5,\n",
        "                c = 'red');\n",
        "\n",
        "plt.show()"
      ],
      "metadata": {
        "colab": {
          "base_uri": "https://localhost:8080/",
          "height": 472
        },
        "id": "oB0DJauc9RDj",
        "outputId": "15a2f66c-5559-45e3-ac56-d78135745ba2"
      },
      "execution_count": 171,
      "outputs": [
        {
          "output_type": "display_data",
          "data": {
            "text/plain": [
              "<Figure size 640x480 with 1 Axes>"
            ],
            "image/png": "[encoded data removed]"
          },
          "metadata": {}
        }
      ]
    },
    {
      "cell_type": "markdown",
      "source": [
        "##Analisis de Grafica Peso Colombiano\n",
        "En la anterior grafica se muestra como el peso ha ido subiendo precio, ya para el **2012** se aprecia que va en alza hasta la fecha."
      ],
      "metadata": {
        "id": "Gy5XS1Xhcdh3"
      }
    },
    {
      "cell_type": "code",
      "source": [
        "pd.plotting.scatter_matrix(df_1, alpha=0.3)\n",
        "\n",
        "plt.show()"
      ],
      "metadata": {
        "colab": {
          "base_uri": "https://localhost:8080/",
          "height": 464
        },
        "id": "jzY3fqAZ-6j5",
        "outputId": "8d36c1d8-1a07-44b1-cadd-75c28204883b"
      },
      "execution_count": 172,
      "outputs": [
        {
          "output_type": "display_data",
          "data": {
            "text/plain": [
              "<Figure size 640x480 with 4 Axes>"
            ],
            "image/png": "[encoded data removed]"
          },
          "metadata": {}
        }
      ]
    },
    {
      "cell_type": "markdown",
      "source": [
        "##Analisis de Grafica Peso Colombiano\n",
        "En la anterior grafica se muestra el porcentaje de alza con respecto al valor en el año."
      ],
      "metadata": {
        "id": "_oPBpje8dAQD"
      }
    },
    {
      "cell_type": "code",
      "source": [
        "plt.scatter(x='VALOR', y='DESDE', color='purple', marker='*', data=df_1)\n",
        "plt.xlabel('Valor')\n",
        "plt.ylabel('Año')\n",
        "plt.title('Variación de la Moneda colombiana')"
      ],
      "metadata": {
        "colab": {
          "base_uri": "https://localhost:8080/",
          "height": 489
        },
        "id": "oaqoWDEyDb-X",
        "outputId": "309d4fd7-a4f3-4380-c9bd-addc36fd1a77"
      },
      "execution_count": 173,
      "outputs": [
        {
          "output_type": "execute_result",
          "data": {
            "text/plain": [
              "Text(0.5, 1.0, 'Variación de la Moneda colombiana')"
            ]
          },
          "metadata": {},
          "execution_count": 173
        },
        {
          "output_type": "display_data",
          "data": {
            "text/plain": [
              "<Figure size 640x480 with 1 Axes>"
            ],
            "image/png": "[encoded data removed]"
          },
          "metadata": {}
        }
      ]
    },
    {
      "cell_type": "code",
      "source": [
        "plt.hist(x=df_1.VALOR, bins=30, edgecolor='black')\n",
        "plt.xlabel('Valor')\n",
        "plt.ylabel('Variación')\n",
        "plt.title('Alza de la Moneda colombiana')"
      ],
      "metadata": {
        "colab": {
          "base_uri": "https://localhost:8080/",
          "height": 489
        },
        "id": "4P2aIkvuJ_jK",
        "outputId": "5746fb82-0367-4810-da5e-ec46d4bda707"
      },
      "execution_count": 174,
      "outputs": [
        {
          "output_type": "execute_result",
          "data": {
            "text/plain": [
              "Text(0.5, 1.0, 'Alza de la Moneda colombiana')"
            ]
          },
          "metadata": {},
          "execution_count": 174
        },
        {
          "output_type": "display_data",
          "data": {
            "text/plain": [
              "<Figure size 640x480 with 1 Axes>"
            ],
            "image/png": "[encoded data removed]"
          },
          "metadata": {}
        }
      ]
    },
    {
      "cell_type": "markdown",
      "source": [
        "##Analisis de Grafica Peso Colombiano\n",
        "En la anterior grafica se muestra como el peso ha ido sosteniendose en 2000 pesos, donde ha incrementado casi los mil pesos en una decada."
      ],
      "metadata": {
        "id": "FsGBGfYwdWP1"
      }
    },
    {
      "cell_type": "code",
      "source": [
        "\n",
        "print(df_1.head(1))"
      ],
      "metadata": {
        "colab": {
          "base_uri": "https://localhost:8080/"
        },
        "id": "vS4PsTv8Z0Y-",
        "outputId": "6d97c7af-2993-43dd-c0cf-8c3cbcd9d9e4"
      },
      "execution_count": 55,
      "outputs": [
        {
          "output_type": "stream",
          "name": "stdout",
          "text": [
            "     VALOR UNIDAD      DESDE      HASTA     Dif_%\n",
            "1  4781.28    COP 2022-12-20 2022-12-20  0.412463\n"
          ]
        }
      ]
    },
    {
      "cell_type": "code",
      "source": [
        "print(df_1.tail())"
      ],
      "metadata": {
        "colab": {
          "base_uri": "https://localhost:8080/"
        },
        "id": "3RfNlOIVaE-6",
        "outputId": "717e67f7-a75d-41b8-a473-9998c966bc82"
      },
      "execution_count": 57,
      "outputs": [
        {
          "output_type": "stream",
          "name": "stdout",
          "text": [
            "        VALOR UNIDAD      DESDE      HASTA     Dif_%\n",
            "7565  4528.67    COP 2023-05-20 2023-05-23  0.155475\n",
            "7566  4501.81    COP 2023-05-24 2023-05-24 -0.593110\n",
            "7567  4448.93    COP 2023-05-25 2023-05-25 -1.174639\n",
            "7568  4470.83    COP 2023-05-26 2023-05-26  0.492253\n",
            "7569  4461.66    COP 2023-05-27 2023-05-30 -0.205107\n"
          ]
        }
      ]
    },
    {
      "cell_type": "markdown",
      "source": [
        "## E.  Usando Socrata, Cargue un dataset que se encuentre en el portal de datos públicos de Colombia"
      ],
      "metadata": {
        "id": "egrBF3E3QMC2"
      }
    },
    {
      "cell_type": "code",
      "source": [
        "%pip install sodapy\n",
        "from sodapy import Socrata"
      ],
      "metadata": {
        "colab": {
          "base_uri": "https://localhost:8080/"
        },
        "id": "2x2RO96iScC9",
        "outputId": "450b35af-746e-4821-d387-89e4d172396c"
      },
      "execution_count": 15,
      "outputs": [
        {
          "output_type": "stream",
          "name": "stdout",
          "text": [
            "Looking in indexes: https://pypi.org/simple, https://us-python.pkg.dev/colab-wheels/public/simple/\n",
            "Requirement already satisfied: sodapy in /usr/local/lib/python3.10/dist-packages (2.2.0)\n",
            "Requirement already satisfied: requests>=2.28.1 in /usr/local/lib/python3.10/dist-packages (from sodapy) (2.31.0)\n",
            "Requirement already satisfied: charset-normalizer<4,>=2 in /usr/local/lib/python3.10/dist-packages (from requests>=2.28.1->sodapy) (2.0.12)\n",
            "Requirement already satisfied: idna<4,>=2.5 in /usr/local/lib/python3.10/dist-packages (from requests>=2.28.1->sodapy) (3.4)\n",
            "Requirement already satisfied: urllib3<3,>=1.21.1 in /usr/local/lib/python3.10/dist-packages (from requests>=2.28.1->sodapy) (1.26.15)\n",
            "Requirement already satisfied: certifi>=2017.4.17 in /usr/local/lib/python3.10/dist-packages (from requests>=2.28.1->sodapy) (2022.12.7)\n"
          ]
        }
      ]
    },
    {
      "cell_type": "code",
      "source": [
        "from pandas.io.formats import info\n",
        "client = Socrata(\"www.datos.gov.co\",None)\n",
        "results = client.get(\"aw5z-tew6\")\n",
        "datos = pd.DataFrame.from_records(results)\n",
        "\n",
        "socrata_domain = \"www.datos.gov.co\"\n",
        "socrata_dataset_identifier = 'aw5z-tew6'\n",
        "client = Socrata(socrata_domain, app_token=\"dihJJCaYsS1BlCLhHdZtpv00E\")\n",
        "results = client.get(socrata_dataset_identifier)\n",
        "\n",
        "df = pd.DataFrame(results)\n",
        "\n",
        "df.info()\n",
        "df.head()\n"
      ],
      "metadata": {
        "colab": {
          "base_uri": "https://localhost:8080/",
          "height": 1000
        },
        "id": "zvWjaMWjWEdJ",
        "outputId": "4592d334-9b37-4d25-c3ee-5527acec3d79"
      },
      "execution_count": 175,
      "outputs": [
        {
          "output_type": "stream",
          "name": "stderr",
          "text": [
            "WARNING:root:Requests made without an app_token will be subject to strict throttling limits.\n"
          ]
        },
        {
          "output_type": "stream",
          "name": "stdout",
          "text": [
            "<class 'pandas.core.frame.DataFrame'>\n",
            "RangeIndex: 450 entries, 0 to 449\n",
            "Data columns (total 54 columns):\n",
            " #   Column                          Non-Null Count  Dtype \n",
            "---  ------                          --------------  ----- \n",
            " 0   entidad                         450 non-null    object\n",
            " 1   nit_entidad                     450 non-null    object\n",
            " 2   departamento_entidad            450 non-null    object\n",
            " 3   ciudad_entidad                  450 non-null    object\n",
            " 4   ordenentidad                    450 non-null    object\n",
            " 5   codigo_pci                      450 non-null    object\n",
            " 6   id_del_proceso                  450 non-null    object\n",
            " 7   referencia_del_proceso          450 non-null    object\n",
            " 8   ppi                             450 non-null    object\n",
            " 9   id_del_portafolio               450 non-null    object\n",
            " 10  nombre_del_procedimiento        449 non-null    object\n",
            " 11  descripci_n_del_procedimiento   449 non-null    object\n",
            " 12  fase                            450 non-null    object\n",
            " 13  fecha_de_publicacion_del        450 non-null    object\n",
            " 14  fecha_de_ultima_publicaci       450 non-null    object\n",
            " 15  fecha_de_publicacion_fase_3     444 non-null    object\n",
            " 16  precio_base                     450 non-null    object\n",
            " 17  modalidad_de_contratacion       450 non-null    object\n",
            " 18  justificaci_n_modalidad_de      450 non-null    object\n",
            " 19  duracion                        450 non-null    object\n",
            " 20  unidad_de_duracion              450 non-null    object\n",
            " 21  ciudad_de_la_unidad_de          450 non-null    object\n",
            " 22  nombre_de_la_unidad_de          450 non-null    object\n",
            " 23  proveedores_invitados           450 non-null    object\n",
            " 24  proveedores_con_invitacion      450 non-null    object\n",
            " 25  visualizaciones_del             450 non-null    object\n",
            " 26  proveedores_que_manifestaron    450 non-null    object\n",
            " 27  respuestas_al_procedimiento     450 non-null    object\n",
            " 28  respuestas_externas             450 non-null    object\n",
            " 29  conteo_de_respuestas_a_ofertas  450 non-null    object\n",
            " 30  proveedores_unicos_con          450 non-null    object\n",
            " 31  numero_de_lotes                 450 non-null    object\n",
            " 32  estado_del_procedimiento        450 non-null    object\n",
            " 33  id_estado_del_procedimiento     450 non-null    object\n",
            " 34  adjudicado                      450 non-null    object\n",
            " 35  id_adjudicacion                 450 non-null    object\n",
            " 36  codigoproveedor                 450 non-null    object\n",
            " 37  departamento_proveedor          450 non-null    object\n",
            " 38  ciudad_proveedor                450 non-null    object\n",
            " 39  valor_total_adjudicacion        450 non-null    object\n",
            " 40  nombre_del_adjudicador          450 non-null    object\n",
            " 41  nombre_del_proveedor            450 non-null    object\n",
            " 42  nit_del_proveedor_adjudicado    450 non-null    object\n",
            " 43  codigo_principal_de_categoria   450 non-null    object\n",
            " 44  estado_de_apertura_del_proceso  450 non-null    object\n",
            " 45  tipo_de_contrato                450 non-null    object\n",
            " 46  subtipo_de_contrato             450 non-null    object\n",
            " 47  categorias_adicionales          450 non-null    object\n",
            " 48  urlproceso                      450 non-null    object\n",
            " 49  fecha_de_publicacion_fase_2     6 non-null      object\n",
            " 50  fecha_de_recepcion_de           15 non-null     object\n",
            " 51  fecha_de_apertura_de_respuesta  14 non-null     object\n",
            " 52  fecha_de_apertura_efectiva      15 non-null     object\n",
            " 53  fecha_adjudicacion              9 non-null      object\n",
            "dtypes: object(54)\n",
            "memory usage: 190.0+ KB\n"
          ]
        },
        {
          "output_type": "execute_result",
          "data": {
            "text/plain": [
              "              entidad nit_entidad departamento_entidad ciudad_entidad  \\\n",
              "0  MUNICIPIO DE YOPAL   891855017             Casanare          Yopal   \n",
              "1  MUNICIPIO DE YOPAL   891855017             Casanare          Yopal   \n",
              "2  MUNICIPIO DE YOPAL   891855017             Casanare          Yopal   \n",
              "3  MUNICIPIO DE YOPAL   891855017             Casanare          Yopal   \n",
              "4  MUNICIPIO DE YOPAL   891855017             Casanare          Yopal   \n",
              "\n",
              "  ordenentidad codigo_pci   id_del_proceso referencia_del_proceso ppi  \\\n",
              "0  Territorial         No  CO1.REQ.1471256    MYCA-SE-CD-166-2020  ND   \n",
              "1  Territorial         No  CO1.REQ.1473147    MYCA-SS-CD-026-2020  ND   \n",
              "2  Territorial         No  CO1.REQ.1469242    MYCA-SE-CD-163-2020  ND   \n",
              "3  Territorial         No  CO1.REQ.1475514    MYCA-SS-CD-027-2020  ND   \n",
              "4  Territorial         No  CO1.REQ.1475701  MYCA-STT-CD-0037-2020  ND   \n",
              "\n",
              "  id_del_portafolio  ... estado_de_apertura_del_proceso  \\\n",
              "0  CO1.BDOS.1427948  ...                        Abierto   \n",
              "1  CO1.BDOS.1428914  ...                        Abierto   \n",
              "2  CO1.BDOS.1425864  ...                        Abierto   \n",
              "3  CO1.BDOS.1431444  ...                        Abierto   \n",
              "4  CO1.BDOS.1431661  ...                        Abierto   \n",
              "\n",
              "                 tipo_de_contrato subtipo_de_contrato categorias_adicionales  \\\n",
              "0  Servicios de aprovisionamiento     No Especificado                     ND   \n",
              "1  Servicios de aprovisionamiento     No Especificado                     ND   \n",
              "2  Servicios de aprovisionamiento     No Especificado                     ND   \n",
              "3  Servicios de aprovisionamiento     No Especificado                     ND   \n",
              "4  Servicios de aprovisionamiento     No Especificado                     ND   \n",
              "\n",
              "                                          urlproceso  \\\n",
              "0  {'url': 'https://community.secop.gov.co/Public...   \n",
              "1  {'url': 'https://community.secop.gov.co/Public...   \n",
              "2  {'url': 'https://community.secop.gov.co/Public...   \n",
              "3  {'url': 'https://community.secop.gov.co/Public...   \n",
              "4  {'url': 'https://community.secop.gov.co/Public...   \n",
              "\n",
              "  fecha_de_publicacion_fase_2 fecha_de_recepcion_de  \\\n",
              "0                         NaN                   NaN   \n",
              "1                         NaN                   NaN   \n",
              "2                         NaN                   NaN   \n",
              "3                         NaN                   NaN   \n",
              "4                         NaN                   NaN   \n",
              "\n",
              "  fecha_de_apertura_de_respuesta fecha_de_apertura_efectiva fecha_adjudicacion  \n",
              "0                            NaN                        NaN                NaN  \n",
              "1                            NaN                        NaN                NaN  \n",
              "2                            NaN                        NaN                NaN  \n",
              "3                            NaN                        NaN                NaN  \n",
              "4                            NaN                        NaN                NaN  \n",
              "\n",
              "[5 rows x 54 columns]"
            ],
            "text/html": [
              "\n",
              "  <div id=\"df-a4c3c5e4-4ece-46af-8daa-9dadb573f032\">\n",
              "    <div class=\"colab-df-container\">\n",
              "      <div>\n",
              "<style scoped>\n",
              "    .dataframe tbody tr th:only-of-type {\n",
              "        vertical-align: middle;\n",
              "    }\n",
              "\n",
              "    .dataframe tbody tr th {\n",
              "        vertical-align: top;\n",
              "    }\n",
              "\n",
              "    .dataframe thead th {\n",
              "        text-align: right;\n",
              "    }\n",
              "</style>\n",
              "<table border=\"1\" class=\"dataframe\">\n",
              "  <thead>\n",
              "    <tr style=\"text-align: right;\">\n",
              "      <th></th>\n",
              "      <th>entidad</th>\n",
              "      <th>nit_entidad</th>\n",
              "      <th>departamento_entidad</th>\n",
              "      <th>ciudad_entidad</th>\n",
              "      <th>ordenentidad</th>\n",
              "      <th>codigo_pci</th>\n",
              "      <th>id_del_proceso</th>\n",
              "      <th>referencia_del_proceso</th>\n",
              "      <th>ppi</th>\n",
              "      <th>id_del_portafolio</th>\n",
              "      <th>...</th>\n",
              "      <th>estado_de_apertura_del_proceso</th>\n",
              "      <th>tipo_de_contrato</th>\n",
              "      <th>subtipo_de_contrato</th>\n",
              "      <th>categorias_adicionales</th>\n",
              "      <th>urlproceso</th>\n",
              "      <th>fecha_de_publicacion_fase_2</th>\n",
              "      <th>fecha_de_recepcion_de</th>\n",
              "      <th>fecha_de_apertura_de_respuesta</th>\n",
              "      <th>fecha_de_apertura_efectiva</th>\n",
              "      <th>fecha_adjudicacion</th>\n",
              "    </tr>\n",
              "  </thead>\n",
              "  <tbody>\n",
              "    <tr>\n",
              "      <th>0</th>\n",
              "      <td>MUNICIPIO DE YOPAL</td>\n",
              "      <td>891855017</td>\n",
              "      <td>Casanare</td>\n",
              "      <td>Yopal</td>\n",
              "      <td>Territorial</td>\n",
              "      <td>No</td>\n",
              "      <td>CO1.REQ.1471256</td>\n",
              "      <td>MYCA-SE-CD-166-2020</td>\n",
              "      <td>ND</td>\n",
              "      <td>CO1.BDOS.1427948</td>\n",
              "      <td>...</td>\n",
              "      <td>Abierto</td>\n",
              "      <td>Servicios de aprovisionamiento</td>\n",
              "      <td>No Especificado</td>\n",
              "      <td>ND</td>\n",
              "      <td>{'url': 'https://community.secop.gov.co/Public...</td>\n",
              "      <td>NaN</td>\n",
              "      <td>NaN</td>\n",
              "      <td>NaN</td>\n",
              "      <td>NaN</td>\n",
              "      <td>NaN</td>\n",
              "    </tr>\n",
              "    <tr>\n",
              "      <th>1</th>\n",
              "      <td>MUNICIPIO DE YOPAL</td>\n",
              "      <td>891855017</td>\n",
              "      <td>Casanare</td>\n",
              "      <td>Yopal</td>\n",
              "      <td>Territorial</td>\n",
              "      <td>No</td>\n",
              "      <td>CO1.REQ.1473147</td>\n",
              "      <td>MYCA-SS-CD-026-2020</td>\n",
              "      <td>ND</td>\n",
              "      <td>CO1.BDOS.1428914</td>\n",
              "      <td>...</td>\n",
              "      <td>Abierto</td>\n",
              "      <td>Servicios de aprovisionamiento</td>\n",
              "      <td>No Especificado</td>\n",
              "      <td>ND</td>\n",
              "      <td>{'url': 'https://community.secop.gov.co/Public...</td>\n",
              "      <td>NaN</td>\n",
              "      <td>NaN</td>\n",
              "      <td>NaN</td>\n",
              "      <td>NaN</td>\n",
              "      <td>NaN</td>\n",
              "    </tr>\n",
              "    <tr>\n",
              "      <th>2</th>\n",
              "      <td>MUNICIPIO DE YOPAL</td>\n",
              "      <td>891855017</td>\n",
              "      <td>Casanare</td>\n",
              "      <td>Yopal</td>\n",
              "      <td>Territorial</td>\n",
              "      <td>No</td>\n",
              "      <td>CO1.REQ.1469242</td>\n",
              "      <td>MYCA-SE-CD-163-2020</td>\n",
              "      <td>ND</td>\n",
              "      <td>CO1.BDOS.1425864</td>\n",
              "      <td>...</td>\n",
              "      <td>Abierto</td>\n",
              "      <td>Servicios de aprovisionamiento</td>\n",
              "      <td>No Especificado</td>\n",
              "      <td>ND</td>\n",
              "      <td>{'url': 'https://community.secop.gov.co/Public...</td>\n",
              "      <td>NaN</td>\n",
              "      <td>NaN</td>\n",
              "      <td>NaN</td>\n",
              "      <td>NaN</td>\n",
              "      <td>NaN</td>\n",
              "    </tr>\n",
              "    <tr>\n",
              "      <th>3</th>\n",
              "      <td>MUNICIPIO DE YOPAL</td>\n",
              "      <td>891855017</td>\n",
              "      <td>Casanare</td>\n",
              "      <td>Yopal</td>\n",
              "      <td>Territorial</td>\n",
              "      <td>No</td>\n",
              "      <td>CO1.REQ.1475514</td>\n",
              "      <td>MYCA-SS-CD-027-2020</td>\n",
              "      <td>ND</td>\n",
              "      <td>CO1.BDOS.1431444</td>\n",
              "      <td>...</td>\n",
              "      <td>Abierto</td>\n",
              "      <td>Servicios de aprovisionamiento</td>\n",
              "      <td>No Especificado</td>\n",
              "      <td>ND</td>\n",
              "      <td>{'url': 'https://community.secop.gov.co/Public...</td>\n",
              "      <td>NaN</td>\n",
              "      <td>NaN</td>\n",
              "      <td>NaN</td>\n",
              "      <td>NaN</td>\n",
              "      <td>NaN</td>\n",
              "    </tr>\n",
              "    <tr>\n",
              "      <th>4</th>\n",
              "      <td>MUNICIPIO DE YOPAL</td>\n",
              "      <td>891855017</td>\n",
              "      <td>Casanare</td>\n",
              "      <td>Yopal</td>\n",
              "      <td>Territorial</td>\n",
              "      <td>No</td>\n",
              "      <td>CO1.REQ.1475701</td>\n",
              "      <td>MYCA-STT-CD-0037-2020</td>\n",
              "      <td>ND</td>\n",
              "      <td>CO1.BDOS.1431661</td>\n",
              "      <td>...</td>\n",
              "      <td>Abierto</td>\n",
              "      <td>Servicios de aprovisionamiento</td>\n",
              "      <td>No Especificado</td>\n",
              "      <td>ND</td>\n",
              "      <td>{'url': 'https://community.secop.gov.co/Public...</td>\n",
              "      <td>NaN</td>\n",
              "      <td>NaN</td>\n",
              "      <td>NaN</td>\n",
              "      <td>NaN</td>\n",
              "      <td>NaN</td>\n",
              "    </tr>\n",
              "  </tbody>\n",
              "</table>\n",
              "<p>5 rows × 54 columns</p>\n",
              "</div>\n",
              "      <button class=\"colab-df-convert\" onclick=\"convertToInteractive('df-a4c3c5e4-4ece-46af-8daa-9dadb573f032')\"\n",
              "              title=\"Convert this dataframe to an interactive table.\"\n",
              "              style=\"display:none;\">\n",
              "        \n",
              "  <svg xmlns=\"http://www.w3.org/2000/svg\" height=\"24px\"viewBox=\"0 0 24 24\"\n",
              "       width=\"24px\">\n",
              "    <path d=\"M0 0h24v24H0V0z\" fill=\"none\"/>\n",
              "    <path d=\"M18.56 5.44l.94 2.06.94-2.06 2.06-.94-2.06-.94-.94-2.06-.94 2.06-2.06.94zm-11 1L8.5 8.5l.94-2.06 2.06-.94-2.06-.94L8.5 2.5l-.94 2.06-2.06.94zm10 10l.94 2.06.94-2.06 2.06-.94-2.06-.94-.94-2.06-.94 2.06-2.06.94z\"/><path d=\"M17.41 7.96l-1.37-1.37c-.4-.4-.92-.59-1.43-.59-.52 0-1.04.2-1.43.59L10.3 9.45l-7.72 7.72c-.78.78-.78 2.05 0 2.83L4 21.41c.39.39.9.59 1.41.59.51 0 1.02-.2 1.41-.59l7.78-7.78 2.81-2.81c.8-.78.8-2.07 0-2.86zM5.41 20L4 18.59l7.72-7.72 1.47 1.35L5.41 20z\"/>\n",
              "  </svg>\n",
              "      </button>\n",
              "      \n",
              "  <style>\n",
              "    .colab-df-container {\n",
              "      display:flex;\n",
              "      flex-wrap:wrap;\n",
              "      gap: 12px;\n",
              "    }\n",
              "\n",
              "    .colab-df-convert {\n",
              "      background-color: #E8F0FE;\n",
              "      border: none;\n",
              "      border-radius: 50%;\n",
              "      cursor: pointer;\n",
              "      display: none;\n",
              "      fill: #1967D2;\n",
              "      height: 32px;\n",
              "      padding: 0 0 0 0;\n",
              "      width: 32px;\n",
              "    }\n",
              "\n",
              "    .colab-df-convert:hover {\n",
              "      background-color: #E2EBFA;\n",
              "      box-shadow: 0px 1px 2px rgba(60, 64, 67, 0.3), 0px 1px 3px 1px rgba(60, 64, 67, 0.15);\n",
              "      fill: #174EA6;\n",
              "    }\n",
              "\n",
              "    [theme=dark] .colab-df-convert {\n",
              "      background-color: #3B4455;\n",
              "      fill: #D2E3FC;\n",
              "    }\n",
              "\n",
              "    [theme=dark] .colab-df-convert:hover {\n",
              "      background-color: #434B5C;\n",
              "      box-shadow: 0px 1px 3px 1px rgba(0, 0, 0, 0.15);\n",
              "      filter: drop-shadow(0px 1px 2px rgba(0, 0, 0, 0.3));\n",
              "      fill: #FFFFFF;\n",
              "    }\n",
              "  </style>\n",
              "\n",
              "      <script>\n",
              "        const buttonEl =\n",
              "          document.querySelector('#df-a4c3c5e4-4ece-46af-8daa-9dadb573f032 button.colab-df-convert');\n",
              "        buttonEl.style.display =\n",
              "          google.colab.kernel.accessAllowed ? 'block' : 'none';\n",
              "\n",
              "        async function convertToInteractive(key) {\n",
              "          const element = document.querySelector('#df-a4c3c5e4-4ece-46af-8daa-9dadb573f032');\n",
              "          const dataTable =\n",
              "            await google.colab.kernel.invokeFunction('convertToInteractive',\n",
              "                                                     [key], {});\n",
              "          if (!dataTable) return;\n",
              "\n",
              "          const docLinkHtml = 'Like what you see? Visit the ' +\n",
              "            '<a target=\"_blank\" href=https://colab.research.google.com/notebooks/data_table.ipynb>data table notebook</a>'\n",
              "            + ' to learn more about interactive tables.';\n",
              "          element.innerHTML = '';\n",
              "          dataTable['output_type'] = 'display_data';\n",
              "          await google.colab.output.renderOutput(dataTable, element);\n",
              "          const docLink = document.createElement('div');\n",
              "          docLink.innerHTML = docLinkHtml;\n",
              "          element.appendChild(docLink);\n",
              "        }\n",
              "      </script>\n",
              "    </div>\n",
              "  </div>\n",
              "  "
            ]
          },
          "metadata": {},
          "execution_count": 175
        }
      ]
    },
    {
      "cell_type": "markdown",
      "source": [
        "##F. Realice las tareas de limpieza y transformación necesarias"
      ],
      "metadata": {
        "id": "Ze6bFt4iQWRF"
      }
    },
    {
      "cell_type": "code",
      "source": [
        "from pandas.core.arrays import string_\n",
        "#eliminar datos nulos\n",
        "df.fillna(value=0)\n",
        "#df=df.dropna(axis=0, how='any')\n",
        "df['fecha_adjudicacion'] = pd.to_datetime(df['fecha_adjudicacion'])\n",
        "df['precio_base'] = df['precio_base'].astype(float)\n",
        "df['departamento_entidad'] = df['departamento_entidad'].astype(str)\n",
        "df['duracion'] = df['duracion'].astype(float)\n",
        "df = df.drop('fecha_de_apertura_efectiva', axis=1)\n",
        "\n",
        "df.info()\n",
        "df.info()\n",
        "pd.set_option('display.precision', 2)\n",
        "df.describe()"
      ],
      "metadata": {
        "colab": {
          "base_uri": "https://localhost:8080/",
          "height": 2325
        },
        "id": "KtwXyQ0qPZo-",
        "outputId": "1d85aa51-8432-4438-ba80-841d38d10f2f"
      },
      "execution_count": 121,
      "outputs": [
        {
          "output_type": "stream",
          "name": "stdout",
          "text": [
            "<class 'pandas.core.frame.DataFrame'>\n",
            "Int64Index: 450 entries, 257 to 0\n",
            "Data columns (total 51 columns):\n",
            " #   Column                          Non-Null Count  Dtype         \n",
            "---  ------                          --------------  -----         \n",
            " 0   entidad                         450 non-null    object        \n",
            " 1   nit_entidad                     450 non-null    object        \n",
            " 2   departamento_entidad            450 non-null    object        \n",
            " 3   ciudad_entidad                  450 non-null    object        \n",
            " 4   codigo_pci                      450 non-null    object        \n",
            " 5   id_del_proceso                  450 non-null    object        \n",
            " 6   referencia_del_proceso          450 non-null    object        \n",
            " 7   ppi                             450 non-null    object        \n",
            " 8   id_del_portafolio               450 non-null    object        \n",
            " 9   nombre_del_procedimiento        449 non-null    object        \n",
            " 10  descripci_n_del_procedimiento   449 non-null    object        \n",
            " 11  fase                            450 non-null    object        \n",
            " 12  fecha_de_publicacion_del        450 non-null    object        \n",
            " 13  fecha_de_ultima_publicaci       450 non-null    object        \n",
            " 14  fecha_de_publicacion_fase_3     444 non-null    object        \n",
            " 15  precio_base                     450 non-null    float64       \n",
            " 16  modalidad_de_contratacion       450 non-null    object        \n",
            " 17  justificaci_n_modalidad_de      450 non-null    object        \n",
            " 18  duracion                        450 non-null    float64       \n",
            " 19  unidad_de_duracion              450 non-null    object        \n",
            " 20  ciudad_de_la_unidad_de          450 non-null    object        \n",
            " 21  nombre_de_la_unidad_de          450 non-null    object        \n",
            " 22  proveedores_invitados           450 non-null    object        \n",
            " 23  proveedores_con_invitacion      450 non-null    object        \n",
            " 24  visualizaciones_del             450 non-null    object        \n",
            " 25  proveedores_que_manifestaron    450 non-null    object        \n",
            " 26  respuestas_al_procedimiento     450 non-null    object        \n",
            " 27  respuestas_externas             450 non-null    object        \n",
            " 28  conteo_de_respuestas_a_ofertas  450 non-null    object        \n",
            " 29  proveedores_unicos_con          450 non-null    object        \n",
            " 30  numero_de_lotes                 450 non-null    object        \n",
            " 31  estado_del_procedimiento        450 non-null    object        \n",
            " 32  id_estado_del_procedimiento     450 non-null    object        \n",
            " 33  adjudicado                      450 non-null    object        \n",
            " 34  id_adjudicacion                 450 non-null    object        \n",
            " 35  codigoproveedor                 450 non-null    object        \n",
            " 36  departamento_proveedor          450 non-null    object        \n",
            " 37  ciudad_proveedor                450 non-null    object        \n",
            " 38  valor_total_adjudicacion        450 non-null    object        \n",
            " 39  nombre_del_adjudicador          450 non-null    object        \n",
            " 40  nombre_del_proveedor            450 non-null    object        \n",
            " 41  nit_del_proveedor_adjudicado    450 non-null    object        \n",
            " 42  codigo_principal_de_categoria   450 non-null    object        \n",
            " 43  estado_de_apertura_del_proceso  450 non-null    object        \n",
            " 44  tipo_de_contrato                450 non-null    object        \n",
            " 45  subtipo_de_contrato             450 non-null    object        \n",
            " 46  categorias_adicionales          450 non-null    object        \n",
            " 47  urlproceso                      450 non-null    object        \n",
            " 48  fecha_de_publicacion_fase_2     6 non-null      object        \n",
            " 49  fecha_de_recepcion_de           15 non-null     object        \n",
            " 50  fecha_adjudicacion              9 non-null      datetime64[ns]\n",
            "dtypes: datetime64[ns](1), float64(2), object(48)\n",
            "memory usage: 182.8+ KB\n",
            "<class 'pandas.core.frame.DataFrame'>\n",
            "Int64Index: 450 entries, 257 to 0\n",
            "Data columns (total 51 columns):\n",
            " #   Column                          Non-Null Count  Dtype         \n",
            "---  ------                          --------------  -----         \n",
            " 0   entidad                         450 non-null    object        \n",
            " 1   nit_entidad                     450 non-null    object        \n",
            " 2   departamento_entidad            450 non-null    object        \n",
            " 3   ciudad_entidad                  450 non-null    object        \n",
            " 4   codigo_pci                      450 non-null    object        \n",
            " 5   id_del_proceso                  450 non-null    object        \n",
            " 6   referencia_del_proceso          450 non-null    object        \n",
            " 7   ppi                             450 non-null    object        \n",
            " 8   id_del_portafolio               450 non-null    object        \n",
            " 9   nombre_del_procedimiento        449 non-null    object        \n",
            " 10  descripci_n_del_procedimiento   449 non-null    object        \n",
            " 11  fase                            450 non-null    object        \n",
            " 12  fecha_de_publicacion_del        450 non-null    object        \n",
            " 13  fecha_de_ultima_publicaci       450 non-null    object        \n",
            " 14  fecha_de_publicacion_fase_3     444 non-null    object        \n",
            " 15  precio_base                     450 non-null    float64       \n",
            " 16  modalidad_de_contratacion       450 non-null    object        \n",
            " 17  justificaci_n_modalidad_de      450 non-null    object        \n",
            " 18  duracion                        450 non-null    float64       \n",
            " 19  unidad_de_duracion              450 non-null    object        \n",
            " 20  ciudad_de_la_unidad_de          450 non-null    object        \n",
            " 21  nombre_de_la_unidad_de          450 non-null    object        \n",
            " 22  proveedores_invitados           450 non-null    object        \n",
            " 23  proveedores_con_invitacion      450 non-null    object        \n",
            " 24  visualizaciones_del             450 non-null    object        \n",
            " 25  proveedores_que_manifestaron    450 non-null    object        \n",
            " 26  respuestas_al_procedimiento     450 non-null    object        \n",
            " 27  respuestas_externas             450 non-null    object        \n",
            " 28  conteo_de_respuestas_a_ofertas  450 non-null    object        \n",
            " 29  proveedores_unicos_con          450 non-null    object        \n",
            " 30  numero_de_lotes                 450 non-null    object        \n",
            " 31  estado_del_procedimiento        450 non-null    object        \n",
            " 32  id_estado_del_procedimiento     450 non-null    object        \n",
            " 33  adjudicado                      450 non-null    object        \n",
            " 34  id_adjudicacion                 450 non-null    object        \n",
            " 35  codigoproveedor                 450 non-null    object        \n",
            " 36  departamento_proveedor          450 non-null    object        \n",
            " 37  ciudad_proveedor                450 non-null    object        \n",
            " 38  valor_total_adjudicacion        450 non-null    object        \n",
            " 39  nombre_del_adjudicador          450 non-null    object        \n",
            " 40  nombre_del_proveedor            450 non-null    object        \n",
            " 41  nit_del_proveedor_adjudicado    450 non-null    object        \n",
            " 42  codigo_principal_de_categoria   450 non-null    object        \n",
            " 43  estado_de_apertura_del_proceso  450 non-null    object        \n",
            " 44  tipo_de_contrato                450 non-null    object        \n",
            " 45  subtipo_de_contrato             450 non-null    object        \n",
            " 46  categorias_adicionales          450 non-null    object        \n",
            " 47  urlproceso                      450 non-null    object        \n",
            " 48  fecha_de_publicacion_fase_2     6 non-null      object        \n",
            " 49  fecha_de_recepcion_de           15 non-null     object        \n",
            " 50  fecha_adjudicacion              9 non-null      datetime64[ns]\n",
            "dtypes: datetime64[ns](1), float64(2), object(48)\n",
            "memory usage: 182.8+ KB\n"
          ]
        },
        {
          "output_type": "execute_result",
          "data": {
            "text/plain": [
              "       precio_base  duracion\n",
              "count     4.50e+02    450.00\n",
              "mean      4.06e+07     36.72\n",
              "std       3.01e+08     46.34\n",
              "min       3.90e+06      2.00\n",
              "25%       6.30e+06      3.00\n",
              "50%       8.70e+06      3.00\n",
              "75%       1.19e+07    100.00\n",
              "max       4.48e+09    140.00"
            ],
            "text/html": [
              "\n",
              "  <div id=\"df-66f9c777-081e-41b1-b6e5-e6908a166453\">\n",
              "    <div class=\"colab-df-container\">\n",
              "      <div>\n",
              "<style scoped>\n",
              "    .dataframe tbody tr th:only-of-type {\n",
              "        vertical-align: middle;\n",
              "    }\n",
              "\n",
              "    .dataframe tbody tr th {\n",
              "        vertical-align: top;\n",
              "    }\n",
              "\n",
              "    .dataframe thead th {\n",
              "        text-align: right;\n",
              "    }\n",
              "</style>\n",
              "<table border=\"1\" class=\"dataframe\">\n",
              "  <thead>\n",
              "    <tr style=\"text-align: right;\">\n",
              "      <th></th>\n",
              "      <th>precio_base</th>\n",
              "      <th>duracion</th>\n",
              "    </tr>\n",
              "  </thead>\n",
              "  <tbody>\n",
              "    <tr>\n",
              "      <th>count</th>\n",
              "      <td>4.50e+02</td>\n",
              "      <td>450.00</td>\n",
              "    </tr>\n",
              "    <tr>\n",
              "      <th>mean</th>\n",
              "      <td>4.06e+07</td>\n",
              "      <td>36.72</td>\n",
              "    </tr>\n",
              "    <tr>\n",
              "      <th>std</th>\n",
              "      <td>3.01e+08</td>\n",
              "      <td>46.34</td>\n",
              "    </tr>\n",
              "    <tr>\n",
              "      <th>min</th>\n",
              "      <td>3.90e+06</td>\n",
              "      <td>2.00</td>\n",
              "    </tr>\n",
              "    <tr>\n",
              "      <th>25%</th>\n",
              "      <td>6.30e+06</td>\n",
              "      <td>3.00</td>\n",
              "    </tr>\n",
              "    <tr>\n",
              "      <th>50%</th>\n",
              "      <td>8.70e+06</td>\n",
              "      <td>3.00</td>\n",
              "    </tr>\n",
              "    <tr>\n",
              "      <th>75%</th>\n",
              "      <td>1.19e+07</td>\n",
              "      <td>100.00</td>\n",
              "    </tr>\n",
              "    <tr>\n",
              "      <th>max</th>\n",
              "      <td>4.48e+09</td>\n",
              "      <td>140.00</td>\n",
              "    </tr>\n",
              "  </tbody>\n",
              "</table>\n",
              "</div>\n",
              "      <button class=\"colab-df-convert\" onclick=\"convertToInteractive('df-66f9c777-081e-41b1-b6e5-e6908a166453')\"\n",
              "              title=\"Convert this dataframe to an interactive table.\"\n",
              "              style=\"display:none;\">\n",
              "        \n",
              "  <svg xmlns=\"http://www.w3.org/2000/svg\" height=\"24px\"viewBox=\"0 0 24 24\"\n",
              "       width=\"24px\">\n",
              "    <path d=\"M0 0h24v24H0V0z\" fill=\"none\"/>\n",
              "    <path d=\"M18.56 5.44l.94 2.06.94-2.06 2.06-.94-2.06-.94-.94-2.06-.94 2.06-2.06.94zm-11 1L8.5 8.5l.94-2.06 2.06-.94-2.06-.94L8.5 2.5l-.94 2.06-2.06.94zm10 10l.94 2.06.94-2.06 2.06-.94-2.06-.94-.94-2.06-.94 2.06-2.06.94z\"/><path d=\"M17.41 7.96l-1.37-1.37c-.4-.4-.92-.59-1.43-.59-.52 0-1.04.2-1.43.59L10.3 9.45l-7.72 7.72c-.78.78-.78 2.05 0 2.83L4 21.41c.39.39.9.59 1.41.59.51 0 1.02-.2 1.41-.59l7.78-7.78 2.81-2.81c.8-.78.8-2.07 0-2.86zM5.41 20L4 18.59l7.72-7.72 1.47 1.35L5.41 20z\"/>\n",
              "  </svg>\n",
              "      </button>\n",
              "      \n",
              "  <style>\n",
              "    .colab-df-container {\n",
              "      display:flex;\n",
              "      flex-wrap:wrap;\n",
              "      gap: 12px;\n",
              "    }\n",
              "\n",
              "    .colab-df-convert {\n",
              "      background-color: #E8F0FE;\n",
              "      border: none;\n",
              "      border-radius: 50%;\n",
              "      cursor: pointer;\n",
              "      display: none;\n",
              "      fill: #1967D2;\n",
              "      height: 32px;\n",
              "      padding: 0 0 0 0;\n",
              "      width: 32px;\n",
              "    }\n",
              "\n",
              "    .colab-df-convert:hover {\n",
              "      background-color: #E2EBFA;\n",
              "      box-shadow: 0px 1px 2px rgba(60, 64, 67, 0.3), 0px 1px 3px 1px rgba(60, 64, 67, 0.15);\n",
              "      fill: #174EA6;\n",
              "    }\n",
              "\n",
              "    [theme=dark] .colab-df-convert {\n",
              "      background-color: #3B4455;\n",
              "      fill: #D2E3FC;\n",
              "    }\n",
              "\n",
              "    [theme=dark] .colab-df-convert:hover {\n",
              "      background-color: #434B5C;\n",
              "      box-shadow: 0px 1px 3px 1px rgba(0, 0, 0, 0.15);\n",
              "      filter: drop-shadow(0px 1px 2px rgba(0, 0, 0, 0.3));\n",
              "      fill: #FFFFFF;\n",
              "    }\n",
              "  </style>\n",
              "\n",
              "      <script>\n",
              "        const buttonEl =\n",
              "          document.querySelector('#df-66f9c777-081e-41b1-b6e5-e6908a166453 button.colab-df-convert');\n",
              "        buttonEl.style.display =\n",
              "          google.colab.kernel.accessAllowed ? 'block' : 'none';\n",
              "\n",
              "        async function convertToInteractive(key) {\n",
              "          const element = document.querySelector('#df-66f9c777-081e-41b1-b6e5-e6908a166453');\n",
              "          const dataTable =\n",
              "            await google.colab.kernel.invokeFunction('convertToInteractive',\n",
              "                                                     [key], {});\n",
              "          if (!dataTable) return;\n",
              "\n",
              "          const docLinkHtml = 'Like what you see? Visit the ' +\n",
              "            '<a target=\"_blank\" href=https://colab.research.google.com/notebooks/data_table.ipynb>data table notebook</a>'\n",
              "            + ' to learn more about interactive tables.';\n",
              "          element.innerHTML = '';\n",
              "          dataTable['output_type'] = 'display_data';\n",
              "          await google.colab.output.renderOutput(dataTable, element);\n",
              "          const docLink = document.createElement('div');\n",
              "          docLink.innerHTML = docLinkHtml;\n",
              "          element.appendChild(docLink);\n",
              "        }\n",
              "      </script>\n",
              "    </div>\n",
              "  </div>\n",
              "  "
            ]
          },
          "metadata": {},
          "execution_count": 121
        }
      ]
    },
    {
      "cell_type": "code",
      "source": [
        "df = df.sort_values(by='precio_base', ascending=False)"
      ],
      "metadata": {
        "id": "Y3qft4FIkVT0"
      },
      "execution_count": 115,
      "outputs": []
    },
    {
      "cell_type": "code",
      "source": [
        "print(df['duracion'].describe())\n"
      ],
      "metadata": {
        "colab": {
          "base_uri": "https://localhost:8080/"
        },
        "id": "fVgZ7ujNzYYM",
        "outputId": "0108cee4-bc05-4e4b-c94a-213c5d8e2c93"
      },
      "execution_count": 116,
      "outputs": [
        {
          "output_type": "stream",
          "name": "stdout",
          "text": [
            "count    450.00\n",
            "mean      36.72\n",
            "std       46.34\n",
            "min        2.00\n",
            "25%        3.00\n",
            "50%        3.00\n",
            "75%      100.00\n",
            "max      140.00\n",
            "Name: duracion, dtype: float64\n"
          ]
        }
      ]
    },
    {
      "cell_type": "markdown",
      "source": [
        "##G. Presentar el dataset, mostrando datos estadísticos y gráficas"
      ],
      "metadata": {
        "id": "7wzmBtT1QdA7"
      }
    },
    {
      "cell_type": "code",
      "source": [
        "plt.figure(figsize=(10, 6))\n",
        "plt.scatter(df['precio_base'], df['duracion'], color='purple', marker='+')\n",
        "plt.xlabel('Valor')\n",
        "plt.ylabel('Año')\n",
        "plt.xticks(rotation=45)\n",
        "plt.title('Variación de SECOP')"
      ],
      "metadata": {
        "colab": {
          "base_uri": "https://localhost:8080/",
          "height": 639
        },
        "id": "fFi8blJpqJVB",
        "outputId": "19e94533-cd8a-466a-e867-cbed7d8f745d"
      },
      "execution_count": 177,
      "outputs": [
        {
          "output_type": "execute_result",
          "data": {
            "text/plain": [
              "Text(0.5, 1.0, 'Variación de SECOP')"
            ]
          },
          "metadata": {},
          "execution_count": 177
        },
        {
          "output_type": "display_data",
          "data": {
            "text/plain": [
              "<Figure size 1000x600 with 1 Axes>"
            ],
            "image/png": "[encoded data removed]"
          },
          "metadata": {}
        }
      ]
    },
    {
      "cell_type": "code",
      "source": [
        "df.info()"
      ],
      "metadata": {
        "colab": {
          "base_uri": "https://localhost:8080/"
        },
        "id": "hpJvEWe9yK4A",
        "outputId": "b3fb03b6-22aa-4569-e70c-d4752057bea2"
      },
      "execution_count": 124,
      "outputs": [
        {
          "output_type": "stream",
          "name": "stdout",
          "text": [
            "<class 'pandas.core.frame.DataFrame'>\n",
            "Int64Index: 450 entries, 257 to 0\n",
            "Data columns (total 51 columns):\n",
            " #   Column                          Non-Null Count  Dtype         \n",
            "---  ------                          --------------  -----         \n",
            " 0   entidad                         450 non-null    object        \n",
            " 1   nit_entidad                     450 non-null    object        \n",
            " 2   departamento_entidad            450 non-null    object        \n",
            " 3   ciudad_entidad                  450 non-null    object        \n",
            " 4   codigo_pci                      450 non-null    object        \n",
            " 5   id_del_proceso                  450 non-null    object        \n",
            " 6   referencia_del_proceso          450 non-null    object        \n",
            " 7   ppi                             450 non-null    object        \n",
            " 8   id_del_portafolio               450 non-null    object        \n",
            " 9   nombre_del_procedimiento        449 non-null    object        \n",
            " 10  descripci_n_del_procedimiento   449 non-null    object        \n",
            " 11  fase                            450 non-null    object        \n",
            " 12  fecha_de_publicacion_del        450 non-null    object        \n",
            " 13  fecha_de_ultima_publicaci       450 non-null    object        \n",
            " 14  fecha_de_publicacion_fase_3     444 non-null    object        \n",
            " 15  precio_base                     450 non-null    float64       \n",
            " 16  modalidad_de_contratacion       450 non-null    object        \n",
            " 17  justificaci_n_modalidad_de      450 non-null    object        \n",
            " 18  duracion                        450 non-null    float64       \n",
            " 19  unidad_de_duracion              450 non-null    object        \n",
            " 20  ciudad_de_la_unidad_de          450 non-null    object        \n",
            " 21  nombre_de_la_unidad_de          450 non-null    object        \n",
            " 22  proveedores_invitados           450 non-null    object        \n",
            " 23  proveedores_con_invitacion      450 non-null    object        \n",
            " 24  visualizaciones_del             450 non-null    object        \n",
            " 25  proveedores_que_manifestaron    450 non-null    object        \n",
            " 26  respuestas_al_procedimiento     450 non-null    object        \n",
            " 27  respuestas_externas             450 non-null    object        \n",
            " 28  conteo_de_respuestas_a_ofertas  450 non-null    object        \n",
            " 29  proveedores_unicos_con          450 non-null    object        \n",
            " 30  numero_de_lotes                 450 non-null    object        \n",
            " 31  estado_del_procedimiento        450 non-null    object        \n",
            " 32  id_estado_del_procedimiento     450 non-null    object        \n",
            " 33  adjudicado                      450 non-null    object        \n",
            " 34  id_adjudicacion                 450 non-null    object        \n",
            " 35  codigoproveedor                 450 non-null    object        \n",
            " 36  departamento_proveedor          450 non-null    object        \n",
            " 37  ciudad_proveedor                450 non-null    object        \n",
            " 38  valor_total_adjudicacion        450 non-null    object        \n",
            " 39  nombre_del_adjudicador          450 non-null    object        \n",
            " 40  nombre_del_proveedor            450 non-null    object        \n",
            " 41  nit_del_proveedor_adjudicado    450 non-null    object        \n",
            " 42  codigo_principal_de_categoria   450 non-null    object        \n",
            " 43  estado_de_apertura_del_proceso  450 non-null    object        \n",
            " 44  tipo_de_contrato                450 non-null    object        \n",
            " 45  subtipo_de_contrato             450 non-null    object        \n",
            " 46  categorias_adicionales          450 non-null    object        \n",
            " 47  urlproceso                      450 non-null    object        \n",
            " 48  fecha_de_publicacion_fase_2     6 non-null      object        \n",
            " 49  fecha_de_recepcion_de           15 non-null     object        \n",
            " 50  fecha_adjudicacion              9 non-null      datetime64[ns]\n",
            "dtypes: datetime64[ns](1), float64(2), object(48)\n",
            "memory usage: 182.8+ KB\n"
          ]
        }
      ]
    },
    {
      "cell_type": "code",
      "source": [
        "boxplot = df.boxplot(column=['precio_base'],by=\"duracion\", rot=45, fontsize=9)\n",
        "boxplot.plot()\n",
        "\n",
        "plt.show()"
      ],
      "metadata": {
        "colab": {
          "base_uri": "https://localhost:8080/",
          "height": 499
        },
        "id": "YxMn7Y8xu4JB",
        "outputId": "bfe79fd1-b91c-4a46-a84e-f7d9ae2a2272"
      },
      "execution_count": 106,
      "outputs": [
        {
          "output_type": "display_data",
          "data": {
            "text/plain": [
              "<Figure size 640x480 with 1 Axes>"
            ],
            "image/png": "[encoded data removed]"
          },
          "metadata": {}
        }
      ]
    },
    {
      "cell_type": "code",
      "source": [
        "var=list((df['precio_base']))\n",
        "precio_base=[]\n",
        "for i in range(len(var)):\n",
        "  precio_base.append(int(var[i]))\n",
        "\n",
        "precio_base_a=np.array(precio_base)\n",
        "print('la media de los contratos adjudicados son:', np.mean(precio_base_a))"
      ],
      "metadata": {
        "colab": {
          "base_uri": "https://localhost:8080/"
        },
        "id": "GL593QB8ngKZ",
        "outputId": "39c33996-052d-4d90-88b3-6bbe1043e126"
      },
      "execution_count": 146,
      "outputs": [
        {
          "output_type": "stream",
          "name": "stdout",
          "text": [
            "la media de los contratos adjudicados son: 40569894.94\n"
          ]
        }
      ]
    },
    {
      "cell_type": "code",
      "source": [
        "df.plot(kind = 'scatter', y = 'precio_base', x = 'fecha_adjudicacion',title = 'Avance del valor del contrato', rot=45,\n",
        "                xlabel = 'FECHA',\n",
        "                ylabel = 'PRECIO',\n",
        "                s = 5,\n",
        "                c = 'red');\n",
        "\n",
        "plt.show()\n",
        "#plt.hist(precio_base_a, bins=10)\n",
        "#plt.axvline(np.mean(precio_base_a), ymin=0.0, ymax=0.9, color=\"g\")\n",
        "#plt.title('Histograma de precios base en SECOP')"
      ],
      "metadata": {
        "colab": {
          "base_uri": "https://localhost:8080/",
          "height": 508
        },
        "id": "AiefB-Qc4pox",
        "outputId": "998d3bbb-20b7-44ab-94b8-e24e0abdbb0a"
      },
      "execution_count": 144,
      "outputs": [
        {
          "output_type": "display_data",
          "data": {
            "text/plain": [
              "<Figure size 640x480 with 1 Axes>"
            ],
            "image/png": "[encoded data removed]"
          },
          "metadata": {}
        }
      ]
    },
    {
      "cell_type": "code",
      "source": [],
      "metadata": {
        "id": "U6wsEC2y67Bw"
      },
      "execution_count": null,
      "outputs": []
    },
    {
      "cell_type": "markdown",
      "source": [
        "##Analisis de Grafica\n",
        "En la anterior grafica se evidencia que los contratos en SECOP I generalmente estan **6 meses** y su costo tambien por semestre domina la grafica."
      ],
      "metadata": {
        "id": "D3xtebe80SEO"
      }
    },
    {
      "cell_type": "markdown",
      "source": [
        "##H. Se debe incluir mínimo una tabla pivote y una agrupación"
      ],
      "metadata": {
        "id": "iFTeqgQuQioW"
      }
    },
    {
      "cell_type": "markdown",
      "source": [
        "##I. Todas las gráficas deben ser explicadas\n"
      ],
      "metadata": {
        "id": "ut0pp5QwQ84u"
      }
    }
  ]
}