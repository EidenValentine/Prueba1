{
  "nbformat": 4,
  "nbformat_minor": 0,
  "metadata": {
    "colab": {
      "provenance": [],
      "authorship_tag": "ABX9TyMZI7dXvI2KLKkwoHarW2ZX",
      "include_colab_link": true
    },
    "kernelspec": {
      "name": "python3",
      "display_name": "Python 3"
    },
    "language_info": {
      "name": "python"
    }
  },
  "cells": [
    {
      "cell_type": "markdown",
      "metadata": {
        "id": "view-in-github",
        "colab_type": "text"
      },
      "source": [
        "<a href=\"https://colab.research.google.com/github/EidenValentine/Prueba1/blob/main/Clasificacion.ipynb\" target=\"_parent\"><img src=\"https://colab.research.google.com/assets/colab-badge.svg\" alt=\"Open In Colab\"/></a>"
      ]
    },
    {
      "cell_type": "markdown",
      "source": [
        "**Docente**: Joaquin Sanchez\n",
        "**Tema**: Clasificación\n",
        "**Alumno**: Adiela Maria Galviz\n",
        "**Grupo**: ANALISIS_DE_DATOS_02\n",
        "**Fecha**: 20/06/2023"
      ],
      "metadata": {
        "id": "WJ2DOl1SUqpA"
      }
    },
    {
      "cell_type": "markdown",
      "source": [
        "####**Descripción de la actividad**\n",
        "• Usando Socrata, Cargue un dataset que se encuentre en el portal de datos públicos\n",
        "de Colombia\n",
        "• Realice las tareas de limpieza necesarias\n",
        "• Dividir el conjunto entre datos de entrenamiento y datos de prueba, los datos de\n",
        "prueba serán el 15% del dataset\n",
        "• Aplicar el algoritmo de clasificación de los K vecinos más cercanos\n",
        "• Calcular los puntajes de la clasificación\n",
        "• Concluir si la clasificación fue buena o no\n"
      ],
      "metadata": {
        "id": "COYHkRErU0XF"
      }
    },
    {
      "cell_type": "code",
      "source": [],
      "metadata": {
        "id": "QKDQegPfXV0i"
      },
      "execution_count": null,
      "outputs": []
    },
    {
      "cell_type": "markdown",
      "source": [],
      "metadata": {
        "id": "Fb9FzCyRXDl3"
      }
    }
  ]
}